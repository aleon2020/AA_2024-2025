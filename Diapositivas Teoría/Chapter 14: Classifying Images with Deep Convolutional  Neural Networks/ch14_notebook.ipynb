{
 "cells": [
  {
   "cell_type": "markdown",
   "metadata": {},
   "source": [
    "# Capítulo 14: Clasificación de Imágenes con Redes Neuronales Convolucionales Profundas"
   ]
  },
  {
   "cell_type": "markdown",
   "metadata": {},
   "source": [
    "# Índice"
   ]
  },
  {
   "cell_type": "markdown",
   "metadata": {},
   "source": [
    "- [Componentes básicos de las CNN](#componentes-básicos-de-las-cnn)\n",
    "- [Comprensión de las CNN y las jerarquías de funciones](#comprensión-de-las-cnn-y-las-jerarquías-de-funciones)\n",
    "- [Realización de Convoluciones Discretas](#realización-de-convoluciones-discretas)\n",
    "- [Convoluciones Discretas en 1 Dimensión](#convoluciones-discretas-en-1-dimensión)\n",
    "- [Relleno de entradas para controlar el tamaño de los mapas de características de salida](#relleno-de-entradas-para-controlar-el-tamaño-de-los-mapas-de-características-de-salida)\n",
    "- [Determinación del tamaño de salida de la convolución](#determinación-del-tamaño-de-salida-de-la-convolución)\n",
    "- [Convoluciones Discretas en 2 Dimensiones](#convoluciones-discretas-en-2-dimensiones)\n",
    "- [Submuestreo o agrupación de capas](#submuestreo-o-agrupación-de-capas)\n",
    "- [Trabajo con múltiples canales de entrada o de color](#trabajo-con-múltiples-canales-de-entrada-o-de-color)\n",
    "- [Funciones de activación](#funciones-de-activación)\n",
    "- [Funciones de pérdida para clasificación](#funciones-de-pérdida-para-clasificación)\n",
    "- [Implementación de una CNN profunda usando PyTorch](#implementación-de-una-cnn-profunda-usando-pytorch)\n",
    "- [Convertir Jupyter Notebook a Fichero Python](#convertir-jupyter-notebook-a-fichero-python)"
   ]
  },
  {
   "cell_type": "code",
   "execution_count": null,
   "metadata": {},
   "outputs": [],
   "source": [
    "# from IPython.display import Image, HTML\n",
    "# display(HTML(\"\"\"\n",
    "# <div style=\"display: flex; justify-content: center;\">\n",
    "#     <img src=\"./figures/14_01.png\" format=\"png\">\n",
    "# </div>\n",
    "# \"\"\"))"
   ]
  },
  {
   "cell_type": "markdown",
   "metadata": {},
   "source": [
    "## Componentes básicos de las CNN"
   ]
  },
  {
   "cell_type": "markdown",
   "metadata": {},
   "source": [
    "## Comprensión de las CNN y las jerarquías de funciones"
   ]
  },
  {
   "cell_type": "markdown",
   "metadata": {},
   "source": [
    "## Realización de Convoluciones Discretas"
   ]
  },
  {
   "cell_type": "markdown",
   "metadata": {},
   "source": [
    "## Convoluciones Discretas en 1 Dimensión"
   ]
  },
  {
   "cell_type": "markdown",
   "metadata": {},
   "source": [
    "## Relleno de entradas para controlar el tamaño de los mapas de características de salida"
   ]
  },
  {
   "cell_type": "markdown",
   "metadata": {},
   "source": [
    "## Determinación del tamaño de salida de la convolución"
   ]
  },
  {
   "cell_type": "markdown",
   "metadata": {},
   "source": [
    "## Convoluciones Discretas en 2 Dimensiones"
   ]
  },
  {
   "cell_type": "markdown",
   "metadata": {},
   "source": [
    "## Submuestreo o agrupación de capas"
   ]
  },
  {
   "cell_type": "markdown",
   "metadata": {},
   "source": [
    "## Trabajo con múltiples canales de entrada o de color"
   ]
  },
  {
   "cell_type": "markdown",
   "metadata": {},
   "source": [
    "## Funciones de activación"
   ]
  },
  {
   "cell_type": "markdown",
   "metadata": {},
   "source": [
    "## Funciones de pérdida para clasificación"
   ]
  },
  {
   "cell_type": "markdown",
   "metadata": {},
   "source": [
    "## Implementación de una CNN profunda usando PyTorch"
   ]
  },
  {
   "cell_type": "markdown",
   "metadata": {},
   "source": [
    "## Convertir Jupyter Notebook a Fichero Python"
   ]
  },
  {
   "cell_type": "code",
   "execution_count": 1,
   "metadata": {},
   "outputs": [
    {
     "name": "stdout",
     "output_type": "stream",
     "text": [
      "[NbConvertApp] Converting notebook ch14_notebook.ipynb to script\n",
      "[NbConvertApp] Writing 2215 bytes to ch14_notebook.py\n"
     ]
    }
   ],
   "source": [
    "! python .convert_notebook_to_script.py --input ch14_notebook.ipynb --output ch14_notebook.py"
   ]
  }
 ],
 "metadata": {
  "kernelspec": {
   "display_name": "Python 3",
   "language": "python",
   "name": "python3"
  },
  "language_info": {
   "codemirror_mode": {
    "name": "ipython",
    "version": 3
   },
   "file_extension": ".py",
   "mimetype": "text/x-python",
   "name": "python",
   "nbconvert_exporter": "python",
   "pygments_lexer": "ipython3",
   "version": "3.10.12"
  }
 },
 "nbformat": 4,
 "nbformat_minor": 2
}
