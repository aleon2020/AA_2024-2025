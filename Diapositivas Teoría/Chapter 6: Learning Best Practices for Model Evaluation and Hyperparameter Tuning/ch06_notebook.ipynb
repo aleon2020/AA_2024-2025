{
 "cells": [
  {
   "cell_type": "markdown",
   "metadata": {},
   "source": [
    "# Capítulo 6: Aprendizaje de las mejores prácticas para la evaluación de modelos y el ajuste de hiperparámetros"
   ]
  },
  {
   "cell_type": "markdown",
   "metadata": {},
   "source": [
    "# Índice"
   ]
  },
  {
   "cell_type": "markdown",
   "metadata": {},
   "source": [
    "- [¿Qué son los hiperparámetros?](#qué-son-los-hiperparámetros)\n",
    "- [Diferencia entre parámetros e hiperparámetros](#diferencia-entre-parámetros-e-hiperparámetros)\n",
    "- [¿Por qué son importantes los hiperparámetros?](#por-qué-son-importantes-los-hiperparámetros)\n",
    "- [¿Qué es la búsqueda de hiperparámetros?](#qué-es-la-búsqueda-de-hiperparámetros)\n",
    "- [Motivación para la búsqueda de hiperparámetros](#motivación-para-la-búsqueda-de-hiperparámetros)\n",
    "- [¿Por qué dividir los datos?](#por-qué-dividir-los-datos)\n",
    "- [Tipos de particiones](#tipos-de-particiones)\n",
    "- [¿Por qué necesitamos un conjunto de validación?](#por-qué-necesitamos-un-conjunto-de-validación)\n",
    "- [Proceso de búsqueda de hiperparámetros con validación](#proceso-de-búsqueda-de-hiperparámetros-con-validación)\n",
    "- [Limitaciones de un conjunto de validación](#limitaciones-de-un-conjunto-de-validación)\n",
    "- [¿Qué es la validación cruzada (cross-validation)?](#qué-es-la-validación-cruzada-cross-validation)\n",
    "- [Proceso de k-fold cross-validation](#proceso-de-k-fold-cross-validation)\n",
    "- [Métodos de búsqueda de hiperparámetros](#métodos-de-búsqueda-de-hiperparámetros)\n",
    "- [Búsqueda manual](#búsqueda-manual)\n",
    "- [Grid Search](#grid-search)\n",
    "- [Random Search](#random-search)\n",
    "- [Búsqueda Bayesiana](#búsqueda-bayesiana)\n",
    "- [Métodos avanzados](#métodos-avanzados)\n",
    "- [Convertir Jupyter Notebook a Fichero Python](#convertir-jupyter-notebook-a-fichero-python)"
   ]
  },
  {
   "cell_type": "markdown",
   "metadata": {},
   "source": [
    "## ¿Qué son los hiperparámetros?"
   ]
  },
  {
   "cell_type": "markdown",
   "metadata": {},
   "source": [
    "Los hiperparámetros son valores que controlan el comportamiento del modelo de Machine Learning, pero no se aprenden directamentede los datos. Es decir, se establecen antes del entrenamiento y afectan a cómo el modelo aprende.\n",
    "\n",
    "Ejemplos de hiperparámetros:\n",
    "\n",
    "• Tasa de aprendizaje (learning rate) en redes neuronales.\n",
    "\n",
    "• Número de árboles (n_estimators) en un Random Forest.\n",
    "\n",
    "• Profundidad máxima (max_depth) en un árbol de decisión.\n",
    "\n",
    "• Parámetro de regularización (C) en SVM."
   ]
  },
  {
   "cell_type": "markdown",
   "metadata": {},
   "source": [
    "## Diferencia entre parámetros e hiperparámetros"
   ]
  },
  {
   "cell_type": "markdown",
   "metadata": {},
   "source": [
    "Parámetros: Son valores aprendidos por el modelo durante el entrenamiento (pesos y sesgos en una red neuronal).\n",
    "\n",
    "Hiperparámetros: Son valores externos que no se aprenden, pero afectan el proceso de aprendizaje (número de capas en una red neuronal)."
   ]
  },
  {
   "cell_type": "markdown",
   "metadata": {},
   "source": [
    "## ¿Por qué son importantes los hiperparámetros?"
   ]
  },
  {
   "cell_type": "markdown",
   "metadata": {},
   "source": [
    "Los hiperparámetros tienen un impacto directo en el rendimiento del modelo.\n",
    "\n",
    "Sobreajuste (overfitting): Si el modelo es demasiado complejo (por ejemplo, demasiados árboles o capas), puede ajustarse demasiado a los datos de entrenamiento y no generalizar bien.\n",
    "\n",
    "Subajuste (underfitting): Si el modelo es demasiado simple (por ejemplo, pocos árboles o baja profundidad), no capturará los patrones importantes de los datos.\n",
    "\n",
    "Una buena configuración de hiperparámetros puede mejorar la precisión del modelo, reducir el tiempo de entrenamiento y lograr un balance entre sobreajuste y subajuste."
   ]
  },
  {
   "cell_type": "markdown",
   "metadata": {},
   "source": [
    "## ¿Qué es la búsqueda de hiperparámetros?"
   ]
  },
  {
   "cell_type": "markdown",
   "metadata": {},
   "source": [
    "Es el proceso de encontrar la mejor combinación de hiperparámetros para optimizar el rendimiento del modelo.\n",
    "\n",
    "El objetivo es maximizar la métrica de evaluación (por ejemplo, accuracy, F1-score, AUC) en un conjunto de validación o mediante validación cruzada."
   ]
  },
  {
   "cell_type": "markdown",
   "metadata": {},
   "source": [
    "## Motivación para la búsqueda de hiperparámetros"
   ]
  },
  {
   "cell_type": "markdown",
   "metadata": {},
   "source": [
    "Problema: Elegir los hiperparámetros de manera manual (prueba y error) es ineficiente y poco sistemático.\n",
    "\n",
    "Solución: Usar métodos como Grid Search, Random Search o técnicas avanzadas para automatizar y optimizar este proceso."
   ]
  },
  {
   "cell_type": "markdown",
   "metadata": {},
   "source": [
    "## ¿Por qué dividir los datos?"
   ]
  },
  {
   "cell_type": "markdown",
   "metadata": {},
   "source": [
    "En Machine Learning, es fundamental dividir los datos en diferentes conjuntos para evaluar el rendimiento del modelo de manera justa y evitar el sobreajuste.\n",
    "\n",
    "El objetivo es garantizar que el modelo generalice bien en datos nuevos (no vistos durante el entrenamiento)."
   ]
  },
  {
   "cell_type": "markdown",
   "metadata": {},
   "source": [
    "## Tipos de particiones"
   ]
  },
  {
   "cell_type": "markdown",
   "metadata": {},
   "source": [
    "Conjunto de entrenamiento (Training set):\n",
    "\n",
    "• Se utiliza para entrenar el modelo (por ejemplo, pesos en una red neuronal).\n",
    "\n",
    "• Representa la mayor parte de los datos (60%-80% del total).\n",
    "\n",
    "Conjunto de validación (Validation set):\n",
    "\n",
    "• Se utiliza para evaluar el modelo durante el entrenamiento y ajustar los hiperparámetros.\n",
    "\n",
    "• Ayuda a seleccionar el mejor modelo o configuración sin usar el conjunto de prueba.\n",
    "\n",
    "• Representa típicamente el 10%-20% de los datos.\n",
    "\n",
    "Conjunto de prueba (Test set):\n",
    "\n",
    "• Se utiliza únicamente al final, para evaluar el rendimiento del modelo final en datos completamente nuevos.\n",
    "\n",
    "• Representa el 10%-20% de los datos."
   ]
  },
  {
   "cell_type": "markdown",
   "metadata": {},
   "source": [
    "## ¿Por qué necesitamos un conjunto de validación?"
   ]
  },
  {
   "cell_type": "markdown",
   "metadata": {},
   "source": [
    "Durante la búsqueda de hiperparámetros, necesitamos evaluar diferentes configuraciones del modelo (por ejemplo, diferentes tasas de aprendizaje o profundidades de árbol).\n",
    "\n",
    "Si usamos el conjunto de entrenamiento para esta evaluación, el modelo podría sobreajustarse a esos datos. Por eso, usamos un conjunto de validación separado."
   ]
  },
  {
   "cell_type": "markdown",
   "metadata": {},
   "source": [
    "## Proceso de búsqueda de hiperparámetros con validación"
   ]
  },
  {
   "cell_type": "markdown",
   "metadata": {},
   "source": [
    "1. Dividimos los datos en entrenamiento, validación y prueba.\n",
    "\n",
    "2. Entrenamos el modelo con el conjunto de entrenamiento con una combinación de hiperparámetros.\n",
    "\n",
    "3. Evaluamos el modelo con el conjunto de validación para cada combinación de hiperparámetros.\n",
    "\n",
    "4. Seleccionamos la combinación que maximiza la métrica de evaluación (por ejemplo, accuracy, F1-score, etc.).\n",
    "\n",
    "5. Una vez seleccionados los mejores hiperparámetros, entrenamos el modelo final con los datos de entrenamiento y validación combinados.\n",
    "\n",
    "6. Evaluamos el modelo final en el conjunto de prueba."
   ]
  },
  {
   "cell_type": "markdown",
   "metadata": {},
   "source": [
    "## Limitaciones de un conjunto de validación"
   ]
  },
  {
   "cell_type": "markdown",
   "metadata": {},
   "source": [
    "Si los datos son pocos, usar un conjunto de validación fijo puede reducir la cantidad de datos disponibles para el entrenamiento.\n",
    "\n",
    "En este caso se usa validación cruzada (k-fold cross-validation) en lugar de un conjunto de validación separado."
   ]
  },
  {
   "cell_type": "markdown",
   "metadata": {},
   "source": [
    "## ¿Qué es la validación cruzada (cross-validation)?"
   ]
  },
  {
   "cell_type": "markdown",
   "metadata": {},
   "source": [
    "Es una técnica que permite evaluar el modelo de manera más robusta cuando los datos son limitados.\n",
    "\n",
    "En lugar de usar un conjunto de validación fijo, se divide el conjunto de entrenamiento en múltiples particiones (o \"folds\") y se entrena y valida el modelo varias veces."
   ]
  },
  {
   "cell_type": "markdown",
   "metadata": {},
   "source": [
    "## Proceso de k-fold cross-validation"
   ]
  },
  {
   "cell_type": "markdown",
   "metadata": {},
   "source": [
    "1. Dividimos los datos en entrenamiento y prueba.\n",
    "\n",
    "2. Entrenamos el modelo con el conjunto de entrenamiento con una combinación de hiperparámetros:\n",
    "\n",
    "Para cada combinación de hiperparámetros, entrenamos el modelo k veces, utilizando k-1 folds para entrenamiento y 1 fold para validación.\n",
    "\n",
    "Calculamos la métrica de evaluación (por ejemplo, accuracy, F1-score) en cada fold.\n",
    "\n",
    "Promediamos las métricas obtenidas en los k folds para obtener una evaluación final de esa combinación de hiperparámetros.\n",
    "\n",
    "3. Seleccionamos la combinación de hiperparámetros que maximiza la métrica promedio.\n",
    "\n",
    "4. Una vez seleccionados los mejores hiperparámetros, entrenamos el modelo final con los datos de entrenamiento completo.\n",
    "\n",
    "5. Evaluamos el modelo final en el conjunto de prueba."
   ]
  },
  {
   "cell_type": "markdown",
   "metadata": {},
   "source": [
    "## Métodos de búsqueda de hiperparámetros"
   ]
  },
  {
   "cell_type": "markdown",
   "metadata": {},
   "source": [
    "La búsqueda de hiperparámetros es el proceso de encontrar la mejor combinación de configuraciones que optimicen el rendimiento de un modelo de Machine Learning.\n",
    "\n",
    "Existen varios métodos para realizar esta búsqueda, cada uno con sus ventajas y desventajas."
   ]
  },
  {
   "cell_type": "markdown",
   "metadata": {},
   "source": [
    "## Búsqueda manual"
   ]
  },
  {
   "cell_type": "markdown",
   "metadata": {},
   "source": [
    "Consiste en ajustar los hiperparámetros manualmente, probando diferentes combinaciones basadas en la intuición, experiencia o conocimiento del problema.\n",
    "\n",
    "Por ejemplo, probar diferentes tasas de aprendizaje o profundidades de árbol y observar cómo afecta al rendimiento del modelo.\n",
    "\n",
    "• Ineficiente y poco sistemático.\n",
    "\n",
    "• Difícil de aplicar cuando hay muchos hiperparámetros o combinaciones posibles.\n",
    "\n",
    "• Depende de la experiencia del usuario, lo que puede llevar a resultados subóptimo."
   ]
  },
  {
   "cell_type": "markdown",
   "metadata": {},
   "source": [
    "## Grid Search"
   ]
  },
  {
   "cell_type": "markdown",
   "metadata": {},
   "source": [
    "Busca en un espacio definido de combinaciones de hiperparámetros.\n",
    "\n",
    "Se define un rango o conjunto de valores posibles para cada hiperparámetro, y el método prueba todas las combinaciones posibles.\n",
    "\n",
    "Por ejemplo, si tienes dos hiperparámetros con 3 valores cada uno, Grid Search probará las 9 combinaciones posibles.\n",
    "\n",
    "Ventajas:\n",
    "\n",
    "• Garantiza encontrar la mejor combinación dentro del espacio definido.\n",
    "\n",
    "• Fácil de implementar y paralelizar.\n",
    "\n",
    "• Ideal para espacios de búsqueda pequeños y bien definidos.\n",
    "\n",
    "Desventajas:\n",
    "\n",
    "• Computacionalmente costoso, especialmente cuando hay muchos hiperparámetros o valores posibles (combinación explosiva).\n",
    "\n",
    "• No es eficiente si algunos hiperparámetros tienen menor impacto en el rendimiento."
   ]
  },
  {
   "cell_type": "markdown",
   "metadata": {},
   "source": [
    "## Random Search"
   ]
  },
  {
   "cell_type": "markdown",
   "metadata": {},
   "source": [
    "Selecciona combinaciones aleatorias de hiperparámetros dentro de un rango definido.\n",
    "\n",
    "En lugar de probar todas las combinaciones posibles (como en Grid Search), selecciona un número fijo de combinaciones aleatorias.\n",
    "\n",
    "Ventajas:\n",
    "\n",
    "• Más eficiente que Grid Search, especialmente cuando algunos hiperparámetros tienen menor impacto en el rendimiento.\n",
    "\n",
    "• Puede explorar un espacio de búsqueda más amplio en menos tiempo.\n",
    "\n",
    "• Reduce el costo computacional al limitar el número de combinaciones probadas.\n",
    "\n",
    "Desventajas:\n",
    "\n",
    "• No garantiza encontrar la mejor combinación de hiperparámetros.\n",
    "\n",
    "• Puede requerir muchas iteraciones para obtener buenos resultados si el espacio de búsqueda es muy grande."
   ]
  },
  {
   "cell_type": "markdown",
   "metadata": {},
   "source": [
    "## Búsqueda Bayesiana"
   ]
  },
  {
   "cell_type": "markdown",
   "metadata": {},
   "source": [
    "Utiliza modelos probabilísticos para explorar el espacio de búsqueda de manera más inteligente.\n",
    "\n",
    "En lugar de probar combinaciones al azar o exhaustivamente, la búsqueda bayesiana utiliza los resultados de combinaciones anteriores para predecir qué combinaciones podrían ser más prometedoras.\n",
    "\n",
    "Ejemplo: Algoritmos como Tree-structured Parzen Estimators (TPE) o Gaussian Processes.\n",
    "\n",
    "• Más eficiente que Grid Search y Random Search, ya que se enfoca en las regiones del espacio de búsqueda con mayor probabilidad de contener la mejor combinación.\n",
    "\n",
    "• Reduce el número de combinaciones necesarias para encontrar buenos resultados."
   ]
  },
  {
   "cell_type": "markdown",
   "metadata": {},
   "source": [
    "## Métodos avanzados"
   ]
  },
  {
   "cell_type": "markdown",
   "metadata": {},
   "source": [
    "Optimización evolutiva: Inspirada en algoritmos genéticos, utiliza conceptos como mutación, selección y cruce para explorar el espacio de búsqueda.\n",
    "\n",
    "Ventajas: Puede encontrar combinaciones óptimas en espacios de búsqueda complejos.\n",
    "\n",
    "Desventajas: Computacionalmente costoso y más difícil de implementar."
   ]
  },
  {
   "cell_type": "markdown",
   "metadata": {},
   "source": [
    "## Convertir Jupyter Notebook a Fichero Python"
   ]
  },
  {
   "cell_type": "code",
   "execution_count": 5,
   "metadata": {},
   "outputs": [
    {
     "name": "stdout",
     "output_type": "stream",
     "text": [
      "[NbConvertApp] Converting notebook ch06_notebook.ipynb to script\n",
      "[NbConvertApp] Writing 10757 bytes to ch06_notebook.py\n"
     ]
    }
   ],
   "source": [
    "! python .convert_notebook_to_script.py --input ch06_notebook.ipynb --output ch06_notebook.py"
   ]
  }
 ],
 "metadata": {
  "kernelspec": {
   "display_name": "Python 3",
   "language": "python",
   "name": "python3"
  },
  "language_info": {
   "codemirror_mode": {
    "name": "ipython",
    "version": 3
   },
   "file_extension": ".py",
   "mimetype": "text/x-python",
   "name": "python",
   "nbconvert_exporter": "python",
   "pygments_lexer": "ipython3",
   "version": "3.10.12"
  }
 },
 "nbformat": 4,
 "nbformat_minor": 2
}
