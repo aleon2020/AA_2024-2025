{
 "cells": [
  {
   "cell_type": "markdown",
   "metadata": {},
   "source": [
    "# Capítulo 6: Aprendizaje de las mejores prácticas para la evaluación de modelos y el ajuste de hiperparámetros"
   ]
  },
  {
   "cell_type": "markdown",
   "metadata": {},
   "source": [
    "# Índice"
   ]
  },
  {
   "cell_type": "markdown",
   "metadata": {},
   "source": [
    "- [¿Qué son los hiperparámetros?](#qué-son-los-hiperparámetros)\n",
    "- [Diferencia entre parámetros e hiperparámetros](#diferencia-entre-parámetros-e-hiperparámetros)\n",
    "- [¿Por qué son importantes los hiperparámetros?](#por-qué-son-importantes-los-hiperparámetros)\n",
    "- [¿Qué es la búsqueda de hiperparámetros?](#qué-es-la-búsqueda-de-hiperparámetros)\n",
    "- [Motivación para la búsqueda de hiperparámetros](#motivación-para-la-búsqueda-de-hiperparámetros)\n",
    "- [¿Por qué dividir los datos?](#por-qué-dividir-los-datos)\n",
    "- [Tipos de particiones](#tipos-de-particiones)\n",
    "- [¿Por qué necesitamos un conjunto de validación?](#por-qué-necesitamos-un-conjunto-de-validación)\n",
    "- [Proceso de búsqueda de hiperparámetros con validación](#proceso-de-búsqueda-de-hiperparámetros-con-validación)\n",
    "- [Limitaciones de un conjunto de validación](#limitaciones-de-un-conjunto-de-validación)\n",
    "- [¿Qué es la validación cruzada (cross-validation)?](#qué-es-la-validación-cruzada-cross-validation)\n",
    "- [Proceso de k-fold cross-validation](#proceso-de-k-fold-cross-validation)\n",
    "- [Métodos de búsqueda de hiperparámetros](#métodos-de-búsqueda-de-hiperparámetros)\n",
    "- [Búsqueda manual](#búsqueda-manual)\n",
    "- [Grid Search](#grid-search)\n",
    "- [Random Search](#random-search)\n",
    "- [Búsqueda Bayesiana](#búsqueda-bayesiana)\n",
    "- [Métodos avanzados](#métodos-avanzados)\n",
    "- [Convertir Jupyter Notebook a Fichero Python](#convertir-jupyter-notebook-a-fichero-python)"
   ]
  },
  {
   "cell_type": "markdown",
   "metadata": {},
   "source": [
    "## ¿Qué son los hiperparámetros?"
   ]
  },
  {
   "cell_type": "markdown",
   "metadata": {},
   "source": [
    "## Diferencia entre parámetros e hiperparámetros"
   ]
  },
  {
   "cell_type": "markdown",
   "metadata": {},
   "source": [
    "## ¿Por qué son importantes los hiperparámetros?"
   ]
  },
  {
   "cell_type": "markdown",
   "metadata": {},
   "source": [
    "## ¿Qué es la búsqueda de hiperparámetros?"
   ]
  },
  {
   "cell_type": "markdown",
   "metadata": {},
   "source": [
    "## Motivación para la búsqueda de hiperparámetros"
   ]
  },
  {
   "cell_type": "markdown",
   "metadata": {},
   "source": [
    "## ¿Por qué dividir los datos?"
   ]
  },
  {
   "cell_type": "markdown",
   "metadata": {},
   "source": [
    "## Tipos de particiones"
   ]
  },
  {
   "cell_type": "markdown",
   "metadata": {},
   "source": [
    "## ¿Por qué necesitamos un conjunto de validación?"
   ]
  },
  {
   "cell_type": "markdown",
   "metadata": {},
   "source": [
    "## Proceso de búsqueda de hiperparámetros con validación"
   ]
  },
  {
   "cell_type": "markdown",
   "metadata": {},
   "source": [
    "## Limitaciones de un conjunto de validación"
   ]
  },
  {
   "cell_type": "markdown",
   "metadata": {},
   "source": [
    "## ¿Qué es la validación cruzada (cross-validation)?"
   ]
  },
  {
   "cell_type": "markdown",
   "metadata": {},
   "source": [
    "## Proceso de k-fold cross-validation"
   ]
  },
  {
   "cell_type": "markdown",
   "metadata": {},
   "source": [
    "## Métodos de búsqueda de hiperparámetros"
   ]
  },
  {
   "cell_type": "markdown",
   "metadata": {},
   "source": [
    "## Búsqueda manual"
   ]
  },
  {
   "cell_type": "markdown",
   "metadata": {},
   "source": [
    "## Grid Search"
   ]
  },
  {
   "cell_type": "markdown",
   "metadata": {},
   "source": [
    "## Random Search"
   ]
  },
  {
   "cell_type": "markdown",
   "metadata": {},
   "source": [
    "## Búsqueda Bayesiana"
   ]
  },
  {
   "cell_type": "markdown",
   "metadata": {},
   "source": [
    "## Métodos avanzados"
   ]
  },
  {
   "cell_type": "markdown",
   "metadata": {},
   "source": [
    "## Convertir Jupyter Notebook a Fichero Python"
   ]
  },
  {
   "cell_type": "code",
   "execution_count": 4,
   "metadata": {},
   "outputs": [
    {
     "name": "stdout",
     "output_type": "stream",
     "text": [
      "[NbConvertApp] Converting notebook ch06_notebook.ipynb to script\n",
      "[NbConvertApp] Writing 352 bytes to ch06_notebook.py\n"
     ]
    }
   ],
   "source": [
    "! python .convert_notebook_to_script.py --input ch06_notebook.ipynb --output ch06_notebook.py"
   ]
  }
 ],
 "metadata": {
  "kernelspec": {
   "display_name": "Python 3",
   "language": "python",
   "name": "python3"
  },
  "language_info": {
   "codemirror_mode": {
    "name": "ipython",
    "version": 3
   },
   "file_extension": ".py",
   "mimetype": "text/x-python",
   "name": "python",
   "nbconvert_exporter": "python",
   "pygments_lexer": "ipython3",
   "version": "3.10.12"
  }
 },
 "nbformat": 4,
 "nbformat_minor": 2
}
