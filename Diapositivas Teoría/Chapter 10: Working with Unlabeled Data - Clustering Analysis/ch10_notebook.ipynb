{
 "cells": [
  {
   "cell_type": "markdown",
   "metadata": {},
   "source": [
    "# Capítulo 10: Trabajar con datos sin etiquetar: análisis de agrupación"
   ]
  },
  {
   "cell_type": "markdown",
   "metadata": {},
   "source": [
    "# Índice"
   ]
  },
  {
   "cell_type": "markdown",
   "metadata": {},
   "source": [
    "- [Introducción](#introducción)\n",
    "- [Agrupar objetos por similitud usando k-means](#agrupar-objetos-por-similitud-usando-k-means)\n",
    "- [Organizar clústeres como un árbol jerárquico](#organizar-clústeres-como-un-árbol-jerárquico)\n",
    "- [Localización de regiones de alta densidad mediante DBSCAN](#localización-de-regiones-de-alta-densidad-mediante-dbscan)\n",
    "- [Convertir Jupyter Notebook a Fichero Python](#convertir-jupyter-notebook-a-fichero-python)"
   ]
  },
  {
   "cell_type": "code",
   "execution_count": 1,
   "metadata": {},
   "outputs": [],
   "source": [
    "from IPython.display import Image, HTML\n",
    "\n",
    "# Image(filename='./figures/01_01.png', width=500)\n",
    "\n",
    "# display(HTML(\"\"\"\n",
    "# <div style=\"display: flex; justify-content: center;\">\n",
    "#     <img src=\"./figures/01_01.png\" width=\"500\" height=\"300\" format=\"png\">\n",
    "# </div>\n",
    "# \"\"\"))"
   ]
  },
  {
   "cell_type": "markdown",
   "metadata": {},
   "source": [
    "## Introducción"
   ]
  },
  {
   "cell_type": "markdown",
   "metadata": {},
   "source": [
    "## Agrupar objetos por similitud usando k-means"
   ]
  },
  {
   "cell_type": "markdown",
   "metadata": {},
   "source": [
    "## Organizar clústeres como un árbol jerárquico"
   ]
  },
  {
   "cell_type": "markdown",
   "metadata": {},
   "source": [
    "## Localización de regiones de alta densidad mediante DBSCAN"
   ]
  },
  {
   "cell_type": "markdown",
   "metadata": {},
   "source": [
    "## Convertir Jupyter Notebook a Fichero Python"
   ]
  },
  {
   "cell_type": "code",
   "execution_count": 2,
   "metadata": {},
   "outputs": [
    {
     "name": "stdout",
     "output_type": "stream",
     "text": [
      "[NbConvertApp] Converting notebook ch10_notebook.ipynb to script\n",
      "[NbConvertApp] Writing 1215 bytes to ch10_notebook.py\n"
     ]
    }
   ],
   "source": [
    "! python .convert_notebook_to_script.py --input ch10_notebook.ipynb --output ch10_notebook.py"
   ]
  }
 ],
 "metadata": {
  "kernelspec": {
   "display_name": "Python 3",
   "language": "python",
   "name": "python3"
  },
  "language_info": {
   "codemirror_mode": {
    "name": "ipython",
    "version": 3
   },
   "file_extension": ".py",
   "mimetype": "text/x-python",
   "name": "python",
   "nbconvert_exporter": "python",
   "pygments_lexer": "ipython3",
   "version": "3.10.12"
  }
 },
 "nbformat": 4,
 "nbformat_minor": 2
}
