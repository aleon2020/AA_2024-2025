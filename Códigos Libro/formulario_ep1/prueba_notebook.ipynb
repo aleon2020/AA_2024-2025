{
 "cells": [
  {
   "cell_type": "code",
   "execution_count": 22,
   "metadata": {},
   "outputs": [],
   "source": [
    "import sys\n",
    "sys.path.insert(0, '..')"
   ]
  },
  {
   "cell_type": "code",
   "execution_count": 23,
   "metadata": {},
   "outputs": [
    {
     "name": "stdout",
     "output_type": "stream",
     "text": [
      "[OK] numpy 1.24.3\n",
      "[OK] scipy 1.8.0\n",
      "[OK] mlxtend 0.23.1\n",
      "[OK] matplotlib 3.5.1\n",
      "[OK] sklearn 1.5.2\n",
      "[OK] pandas 2.2.2\n"
     ]
    }
   ],
   "source": [
    "from python_environment_check import check_packages\n",
    "d = {\n",
    "    'numpy': '1.21.2',\n",
    "    'scipy': '1.7.0',\n",
    "    'mlxtend' : '0.19.0',\n",
    "    'matplotlib': '3.4.3',\n",
    "    'sklearn': '1.0',\n",
    "    'pandas': '1.3.2'\n",
    "}\n",
    "check_packages(d)"
   ]
  },
  {
   "cell_type": "code",
   "execution_count": 24,
   "metadata": {},
   "outputs": [],
   "source": [
    "import numpy as np\n",
    "import pandas as pd\n",
    "import matplotlib.pyplot as plt\n",
    "from sklearn.linear_model import LinearRegression\n",
    "from sklearn.preprocessing import PolynomialFeatures\n",
    "from sklearn.metrics import mean_absolute_error\n",
    "from sklearn.metrics import mean_squared_error\n",
    "from sklearn.metrics import r2_score"
   ]
  },
  {
   "cell_type": "code",
   "execution_count": 25,
   "metadata": {},
   "outputs": [],
   "source": [
    "columns = ['Col1', 'Col2', 'Col3', 'Col4', 'Col5', 'Col6', 'Col7', 'Col8', 'Col9', 'Col10', 'Col11', 'Target']\n",
    "df = pd.read_csv('dataset.csv', sep=',', usecols=columns)"
   ]
  },
  {
   "cell_type": "code",
   "execution_count": 26,
   "metadata": {},
   "outputs": [
    {
     "name": "stdout",
     "output_type": "stream",
     "text": [
      "Mean Absolute Error (MAE): 0.5004899635644835\n",
      "Mean Squared Error (MSE): 0.416767167221408\n",
      "R-squared: 0.3605517030386882\n"
     ]
    }
   ],
   "source": [
    "# LINEAR REGRESSION\n",
    "\n",
    "# USANDO TODAS LAS CARACTERÍSTICAS DE LOS DATOS\n",
    "X = df[['Col1', 'Col2', 'Col3', 'Col4', 'Col5', 'Col6', 'Col7', 'Col8', 'Col9', 'Col10', 'Col11']].values\n",
    "y = df['Target'].values\n",
    "\n",
    "# USANDO N CARACTERÍSTICAS DE LOS DATOS\n",
    "# X = ['Col1', 'Col2', ..., 'ColN'].values\n",
    "# y = df['Target'].values\n",
    "\n",
    "regr = LinearRegression()\n",
    "\n",
    "regr = regr.fit(X, y)\n",
    "\n",
    "linear_mae = mean_absolute_error(y, regr.predict(X))\n",
    "linear_mse = mean_squared_error(y, regr.predict(X))\n",
    "linear_r2 = r2_score(y, regr.predict(X))\n",
    "\n",
    "print(\"Mean Absolute Error (MAE):\", linear_mae)\n",
    "print(\"Mean Squared Error (MSE):\", linear_mse)\n",
    "print(\"R-squared:\", linear_r2)"
   ]
  },
  {
   "cell_type": "code",
   "execution_count": 27,
   "metadata": {},
   "outputs": [
    {
     "name": "stdout",
     "output_type": "stream",
     "text": [
      "Mean Absolute Error (MAE): 0.47325167985991046\n",
      "Mean Squared Error (MSE): 0.36848208474547267\n",
      "R-squared: 0.43463578687792814\n"
     ]
    }
   ],
   "source": [
    "# QUADRATIC REGRESSION\n",
    "\n",
    "# USANDO TODAS LAS CARACTERÍSTICAS DE LOS DATOS\n",
    "X = df[['Col1', 'Col2', 'Col3', 'Col4', 'Col5', 'Col6', 'Col7', 'Col8', 'Col9', 'Col10', 'Col11']].values\n",
    "y = df['Target'].values\n",
    "\n",
    "# USANDO N CARACTERÍSTICAS DE LOS DATOS\n",
    "# X = ['Col1', 'Col2', ..., 'ColN'].values\n",
    "# y = df['Target'].values\n",
    "\n",
    "regr = LinearRegression()\n",
    "\n",
    "quadratic = PolynomialFeatures(degree=2)\n",
    "X_quad = quadratic.fit_transform(X)\n",
    "\n",
    "regr = regr.fit(X_quad, y)\n",
    "\n",
    "quadratic_mae = mean_absolute_error(y, regr.predict(X_quad))\n",
    "quadratic_mse = mean_squared_error(y, regr.predict(X_quad))\n",
    "quadratic_r2 = r2_score(y, regr.predict(X_quad))\n",
    "\n",
    "print(\"Mean Absolute Error (MAE):\", quadratic_mae)\n",
    "print(\"Mean Squared Error (MSE):\", quadratic_mse)\n",
    "print(\"R-squared:\", quadratic_r2)"
   ]
  },
  {
   "cell_type": "code",
   "execution_count": 28,
   "metadata": {},
   "outputs": [
    {
     "name": "stdout",
     "output_type": "stream",
     "text": [
      "Mean Absolute Error (MAE): 0.3774062504874873\n",
      "Mean Squared Error (MSE): 0.24514923821805776\n",
      "R-squared: 0.6238660930873643\n"
     ]
    }
   ],
   "source": [
    "# CUBIC REGRESSION\n",
    "\n",
    "# USANDO TODAS LAS CARACTERÍSTICAS DE LOS DATOS\n",
    "X = df[['Col1', 'Col2', 'Col3', 'Col4', 'Col5', 'Col6', 'Col7', 'Col8', 'Col9', 'Col10', 'Col11']].values\n",
    "y = df['Target'].values\n",
    "\n",
    "# USANDO N CARACTERÍSTICAS DE LOS DATOS\n",
    "# X = ['Col1', 'Col2', ..., 'ColN'].values\n",
    "# y = df['Target'].values\n",
    "\n",
    "regr = LinearRegression()\n",
    "\n",
    "cubic = PolynomialFeatures(degree=3)\n",
    "X_cubic = cubic.fit_transform(X)\n",
    "\n",
    "regr = regr.fit(X_cubic, y)\n",
    "\n",
    "cubic_mae = mean_absolute_error(y, regr.predict(X_cubic))\n",
    "cubic_mse = mean_squared_error(y, regr.predict(X_cubic))\n",
    "cubic_r2 = r2_score(y, regr.predict(X_cubic))\n",
    "\n",
    "print(\"Mean Absolute Error (MAE):\", cubic_mae)\n",
    "print(\"Mean Squared Error (MSE):\", cubic_mse)\n",
    "print(\"R-squared:\", cubic_r2)"
   ]
  }
 ],
 "metadata": {
  "kernelspec": {
   "display_name": "Python 3",
   "language": "python",
   "name": "python3"
  },
  "language_info": {
   "codemirror_mode": {
    "name": "ipython",
    "version": 3
   },
   "file_extension": ".py",
   "mimetype": "text/x-python",
   "name": "python",
   "nbconvert_exporter": "python",
   "pygments_lexer": "ipython3",
   "version": "3.10.12"
  }
 },
 "nbformat": 4,
 "nbformat_minor": 2
}
