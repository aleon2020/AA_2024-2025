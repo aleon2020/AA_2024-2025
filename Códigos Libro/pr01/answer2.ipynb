{
 "cells": [
  {
   "cell_type": "markdown",
   "metadata": {},
   "source": [
    "# Práctica 1 Pregunta 2: Clasificación usando todas las características de los datos"
   ]
  },
  {
   "cell_type": "markdown",
   "metadata": {},
   "source": [
    "Usando todas las características, implementa los métodos Logistic Regression, SVM y Random Trees para clasificar los datos. Describe en el informe los parámetros usados y los resultados obtenidos con los distintos métodos y deposita el código Python en Aula Virtual en el fichero 'answer2.ipynb'."
   ]
  },
  {
   "cell_type": "markdown",
   "metadata": {},
   "source": [
    "## Importación de bibliotecas para análisis de datos y escalado"
   ]
  },
  {
   "cell_type": "code",
   "execution_count": 22,
   "metadata": {},
   "outputs": [],
   "source": [
    "import numpy as np\n",
    "import pandas as pd\n",
    "import matplotlib.pyplot as plt\n",
    "from sklearn.preprocessing import StandardScaler"
   ]
  },
  {
   "cell_type": "markdown",
   "metadata": {},
   "source": [
    "## Carga del dataset desde un archivo CSV"
   ]
  },
  {
   "cell_type": "code",
   "execution_count": 23,
   "metadata": {},
   "outputs": [],
   "source": [
    "dataset = pd.read_csv(\"dataset.csv\")"
   ]
  },
  {
   "cell_type": "markdown",
   "metadata": {},
   "source": [
    "## Anonimización y análisis de la correlación del dataset"
   ]
  },
  {
   "cell_type": "code",
   "execution_count": 24,
   "metadata": {},
   "outputs": [
    {
     "data": {
      "text/html": [
       "<div>\n",
       "<style scoped>\n",
       "    .dataframe tbody tr th:only-of-type {\n",
       "        vertical-align: middle;\n",
       "    }\n",
       "\n",
       "    .dataframe tbody tr th {\n",
       "        vertical-align: top;\n",
       "    }\n",
       "\n",
       "    .dataframe thead th {\n",
       "        text-align: right;\n",
       "    }\n",
       "</style>\n",
       "<table border=\"1\" class=\"dataframe\">\n",
       "  <thead>\n",
       "    <tr style=\"text-align: right;\">\n",
       "      <th></th>\n",
       "      <th>Col1</th>\n",
       "      <th>Col2</th>\n",
       "      <th>Col3</th>\n",
       "      <th>Col4</th>\n",
       "      <th>Col5</th>\n",
       "      <th>Col6</th>\n",
       "      <th>Col7</th>\n",
       "      <th>Col8</th>\n",
       "      <th>Col9</th>\n",
       "      <th>Col10</th>\n",
       "      <th>Col11</th>\n",
       "    </tr>\n",
       "  </thead>\n",
       "  <tbody>\n",
       "    <tr>\n",
       "      <th>Col1</th>\n",
       "      <td>1.000000</td>\n",
       "      <td>0.022026</td>\n",
       "      <td>0.234937</td>\n",
       "      <td>0.076470</td>\n",
       "      <td>-0.260987</td>\n",
       "      <td>0.061298</td>\n",
       "      <td>-0.202288</td>\n",
       "      <td>-0.010504</td>\n",
       "      <td>-0.256131</td>\n",
       "      <td>0.001918</td>\n",
       "      <td>-0.552496</td>\n",
       "    </tr>\n",
       "    <tr>\n",
       "      <th>Col2</th>\n",
       "      <td>0.022026</td>\n",
       "      <td>1.000000</td>\n",
       "      <td>-0.341699</td>\n",
       "      <td>0.071269</td>\n",
       "      <td>0.148506</td>\n",
       "      <td>0.200632</td>\n",
       "      <td>-0.496180</td>\n",
       "      <td>-0.021946</td>\n",
       "      <td>0.668047</td>\n",
       "      <td>0.355283</td>\n",
       "      <td>0.364947</td>\n",
       "    </tr>\n",
       "    <tr>\n",
       "      <th>Col3</th>\n",
       "      <td>0.234937</td>\n",
       "      <td>-0.341699</td>\n",
       "      <td>1.000000</td>\n",
       "      <td>-0.066495</td>\n",
       "      <td>-0.196648</td>\n",
       "      <td>-0.265026</td>\n",
       "      <td>0.205633</td>\n",
       "      <td>0.070377</td>\n",
       "      <td>-0.682978</td>\n",
       "      <td>-0.085652</td>\n",
       "      <td>-0.541904</td>\n",
       "    </tr>\n",
       "    <tr>\n",
       "      <th>Col4</th>\n",
       "      <td>0.076470</td>\n",
       "      <td>0.071269</td>\n",
       "      <td>-0.066495</td>\n",
       "      <td>1.000000</td>\n",
       "      <td>0.042947</td>\n",
       "      <td>0.047400</td>\n",
       "      <td>-0.205654</td>\n",
       "      <td>0.667666</td>\n",
       "      <td>-0.113181</td>\n",
       "      <td>0.203028</td>\n",
       "      <td>0.035533</td>\n",
       "    </tr>\n",
       "    <tr>\n",
       "      <th>Col5</th>\n",
       "      <td>-0.260987</td>\n",
       "      <td>0.148506</td>\n",
       "      <td>-0.196648</td>\n",
       "      <td>0.042947</td>\n",
       "      <td>1.000000</td>\n",
       "      <td>0.371260</td>\n",
       "      <td>0.093595</td>\n",
       "      <td>0.051658</td>\n",
       "      <td>0.183006</td>\n",
       "      <td>0.005527</td>\n",
       "      <td>0.312770</td>\n",
       "    </tr>\n",
       "    <tr>\n",
       "      <th>Col6</th>\n",
       "      <td>0.061298</td>\n",
       "      <td>0.200632</td>\n",
       "      <td>-0.265026</td>\n",
       "      <td>0.047400</td>\n",
       "      <td>0.371260</td>\n",
       "      <td>1.000000</td>\n",
       "      <td>-0.221141</td>\n",
       "      <td>0.005562</td>\n",
       "      <td>0.093705</td>\n",
       "      <td>0.055610</td>\n",
       "      <td>0.203823</td>\n",
       "    </tr>\n",
       "    <tr>\n",
       "      <th>Col7</th>\n",
       "      <td>-0.202288</td>\n",
       "      <td>-0.496180</td>\n",
       "      <td>0.205633</td>\n",
       "      <td>-0.205654</td>\n",
       "      <td>0.093595</td>\n",
       "      <td>-0.221141</td>\n",
       "      <td>1.000000</td>\n",
       "      <td>-0.069408</td>\n",
       "      <td>-0.061668</td>\n",
       "      <td>0.042075</td>\n",
       "      <td>0.109903</td>\n",
       "    </tr>\n",
       "    <tr>\n",
       "      <th>Col8</th>\n",
       "      <td>-0.010504</td>\n",
       "      <td>-0.021946</td>\n",
       "      <td>0.070377</td>\n",
       "      <td>0.667666</td>\n",
       "      <td>0.051658</td>\n",
       "      <td>0.005562</td>\n",
       "      <td>-0.069408</td>\n",
       "      <td>1.000000</td>\n",
       "      <td>-0.153794</td>\n",
       "      <td>0.187049</td>\n",
       "      <td>-0.060978</td>\n",
       "    </tr>\n",
       "    <tr>\n",
       "      <th>Col9</th>\n",
       "      <td>-0.256131</td>\n",
       "      <td>0.668047</td>\n",
       "      <td>-0.682978</td>\n",
       "      <td>-0.113181</td>\n",
       "      <td>0.183006</td>\n",
       "      <td>0.093705</td>\n",
       "      <td>-0.061668</td>\n",
       "      <td>-0.153794</td>\n",
       "      <td>1.000000</td>\n",
       "      <td>0.114777</td>\n",
       "      <td>0.671703</td>\n",
       "    </tr>\n",
       "    <tr>\n",
       "      <th>Col10</th>\n",
       "      <td>0.001918</td>\n",
       "      <td>0.355283</td>\n",
       "      <td>-0.085652</td>\n",
       "      <td>0.203028</td>\n",
       "      <td>0.005527</td>\n",
       "      <td>0.055610</td>\n",
       "      <td>0.042075</td>\n",
       "      <td>0.187049</td>\n",
       "      <td>0.114777</td>\n",
       "      <td>1.000000</td>\n",
       "      <td>0.143577</td>\n",
       "    </tr>\n",
       "    <tr>\n",
       "      <th>Col11</th>\n",
       "      <td>-0.552496</td>\n",
       "      <td>0.364947</td>\n",
       "      <td>-0.541904</td>\n",
       "      <td>0.035533</td>\n",
       "      <td>0.312770</td>\n",
       "      <td>0.203823</td>\n",
       "      <td>0.109903</td>\n",
       "      <td>-0.060978</td>\n",
       "      <td>0.671703</td>\n",
       "      <td>0.143577</td>\n",
       "      <td>1.000000</td>\n",
       "    </tr>\n",
       "  </tbody>\n",
       "</table>\n",
       "</div>"
      ],
      "text/plain": [
       "           Col1      Col2      Col3      Col4      Col5      Col6      Col7  \\\n",
       "Col1   1.000000  0.022026  0.234937  0.076470 -0.260987  0.061298 -0.202288   \n",
       "Col2   0.022026  1.000000 -0.341699  0.071269  0.148506  0.200632 -0.496180   \n",
       "Col3   0.234937 -0.341699  1.000000 -0.066495 -0.196648 -0.265026  0.205633   \n",
       "Col4   0.076470  0.071269 -0.066495  1.000000  0.042947  0.047400 -0.205654   \n",
       "Col5  -0.260987  0.148506 -0.196648  0.042947  1.000000  0.371260  0.093595   \n",
       "Col6   0.061298  0.200632 -0.265026  0.047400  0.371260  1.000000 -0.221141   \n",
       "Col7  -0.202288 -0.496180  0.205633 -0.205654  0.093595 -0.221141  1.000000   \n",
       "Col8  -0.010504 -0.021946  0.070377  0.667666  0.051658  0.005562 -0.069408   \n",
       "Col9  -0.256131  0.668047 -0.682978 -0.113181  0.183006  0.093705 -0.061668   \n",
       "Col10  0.001918  0.355283 -0.085652  0.203028  0.005527  0.055610  0.042075   \n",
       "Col11 -0.552496  0.364947 -0.541904  0.035533  0.312770  0.203823  0.109903   \n",
       "\n",
       "           Col8      Col9     Col10     Col11  \n",
       "Col1  -0.010504 -0.256131  0.001918 -0.552496  \n",
       "Col2  -0.021946  0.668047  0.355283  0.364947  \n",
       "Col3   0.070377 -0.682978 -0.085652 -0.541904  \n",
       "Col4   0.667666 -0.113181  0.203028  0.035533  \n",
       "Col5   0.051658  0.183006  0.005527  0.312770  \n",
       "Col6   0.005562  0.093705  0.055610  0.203823  \n",
       "Col7  -0.069408 -0.061668  0.042075  0.109903  \n",
       "Col8   1.000000 -0.153794  0.187049 -0.060978  \n",
       "Col9  -0.153794  1.000000  0.114777  0.671703  \n",
       "Col10  0.187049  0.114777  1.000000  0.143577  \n",
       "Col11 -0.060978  0.671703  0.143577  1.000000  "
      ]
     },
     "execution_count": 24,
     "metadata": {},
     "output_type": "execute_result"
    }
   ],
   "source": [
    "dataset_all_characteristics = dataset.drop([\"Target\"], axis=1)\n",
    "dataset_all_characteristics.to_csv('dataset_all_characteristics.csv', index=False)\n",
    "dataset_all_characteristics.corr()"
   ]
  },
  {
   "cell_type": "markdown",
   "metadata": {},
   "source": [
    "## Separación de características y etiquetas del dataset"
   ]
  },
  {
   "cell_type": "code",
   "execution_count": 25,
   "metadata": {},
   "outputs": [
    {
     "name": "stdout",
     "output_type": "stream",
     "text": [
      "Class labels: [3 4 5 6 7 8]\n"
     ]
    }
   ],
   "source": [
    "X = dataset_all_characteristics\n",
    "y = dataset.get(\"Target\")\n",
    "print('Class labels:', np.unique(y))"
   ]
  },
  {
   "cell_type": "markdown",
   "metadata": {},
   "source": [
    "## División del dataset en entrenamiento (75%) y prueba (25%)"
   ]
  },
  {
   "cell_type": "code",
   "execution_count": 26,
   "metadata": {},
   "outputs": [],
   "source": [
    "from sklearn.model_selection import train_test_split\n",
    "X_train, X_test, y_train, y_test = train_test_split(X.values, y, test_size=0.25, random_state=1, stratify=y)"
   ]
  },
  {
   "cell_type": "markdown",
   "metadata": {},
   "source": [
    "## Estandarización del balance de clases"
   ]
  },
  {
   "cell_type": "code",
   "execution_count": 27,
   "metadata": {},
   "outputs": [],
   "source": [
    "from sklearn.preprocessing import StandardScaler\n",
    "sc = StandardScaler()\n",
    "sc.fit(X_train)\n",
    "X_train_std = sc.transform(X_train)\n",
    "X_test_std = sc.transform(X_test)"
   ]
  },
  {
   "cell_type": "markdown",
   "metadata": {},
   "source": [
    "## Entrenamiento y evaluación del modelo por regresión logística (Logistic Regression)"
   ]
  },
  {
   "cell_type": "code",
   "execution_count": 28,
   "metadata": {},
   "outputs": [
    {
     "name": "stderr",
     "output_type": "stream",
     "text": [
      "/home/aalberto/.local/lib/python3.10/site-packages/sklearn/linear_model/_logistic.py:1256: FutureWarning: 'multi_class' was deprecated in version 1.5 and will be removed in 1.7. Use OneVsRestClassifier(LogisticRegression(..)) instead. Leave it to its default value to avoid this warning.\n",
      "  warnings.warn(\n"
     ]
    },
    {
     "name": "stdout",
     "output_type": "stream",
     "text": [
      "Misclassification samples: 165\n",
      "530      True\n",
      "1424    False\n",
      "903      True\n",
      "1382     True\n",
      "587      True\n",
      "        ...  \n",
      "675     False\n",
      "1510     True\n",
      "1002    False\n",
      "969      True\n",
      "52      False\n",
      "Name: Target, Length: 400, dtype: bool\n",
      "Accuracy: 0.588\n"
     ]
    }
   ],
   "source": [
    "from sklearn.linear_model import LogisticRegression\n",
    "lr = LogisticRegression(C=100.0, solver='lbfgs', multi_class='ovr')\n",
    "lr.fit(X_train_std, y_train)\n",
    "y_pred = lr.predict(X_test_std)\n",
    "print('Misclassification samples: %d' % (y_test != y_pred).sum())\n",
    "print(y_test != y_pred)\n",
    "print('Accuracy: %.3f' % lr.score(X_test_std, y_test))"
   ]
  },
  {
   "cell_type": "markdown",
   "metadata": {},
   "source": [
    "## Entrenamiento y evaluación del modelo por máquinas de soporte vectorial (SVM)"
   ]
  },
  {
   "cell_type": "code",
   "execution_count": 29,
   "metadata": {},
   "outputs": [
    {
     "name": "stdout",
     "output_type": "stream",
     "text": [
      "Misclassification samples: 157\n",
      "530     False\n",
      "1424     True\n",
      "903      True\n",
      "1382     True\n",
      "587      True\n",
      "        ...  \n",
      "675     False\n",
      "1510     True\n",
      "1002    False\n",
      "969      True\n",
      "52      False\n",
      "Name: Target, Length: 400, dtype: bool\n",
      "Accuracy: 0.608\n"
     ]
    }
   ],
   "source": [
    "from sklearn.svm import SVC\n",
    "svm = SVC(kernel='rbf', random_state=1, gamma=0.7, C=30.0)\n",
    "svm.fit(X_train_std, y_train)\n",
    "y_pred = svm.predict(X_test_std)\n",
    "print('Misclassification samples: %d' % (y_test != y_pred).sum())\n",
    "print(y_test != y_pred)\n",
    "print('Accuracy: %.3f' % svm.score(X_test_std, y_test))"
   ]
  },
  {
   "cell_type": "markdown",
   "metadata": {},
   "source": [
    "## Entrenamiento y evaluación del modelo por árboles de decisión (Random Trees)"
   ]
  },
  {
   "cell_type": "code",
   "execution_count": 30,
   "metadata": {},
   "outputs": [],
   "source": [
    "from sklearn.tree import DecisionTreeClassifier\n",
    "tree_model = DecisionTreeClassifier(criterion='gini', \n",
    "                                    max_depth=4, \n",
    "                                    random_state=1)\n",
    "tree_model.fit(X_train, y_train)\n",
    "X_combined = np.vstack((X_train, X_test))\n",
    "y_combined = np.hstack((y_train, y_test))"
   ]
  },
  {
   "cell_type": "code",
   "execution_count": 31,
   "metadata": {},
   "outputs": [
    {
     "data": {
      "image/png": "[encoded data removed]",
      "text/plain": [
       "<Figure size 640x480 with 1 Axes>"
      ]
     },
     "metadata": {},
     "output_type": "display_data"
    },
    {
     "name": "stdout",
     "output_type": "stream",
     "text": [
      "Misclassification samples: 172\n",
      "530     False\n",
      "1424    False\n",
      "903      True\n",
      "1382     True\n",
      "587     False\n",
      "        ...  \n",
      "675     False\n",
      "1510     True\n",
      "1002     True\n",
      "969      True\n",
      "52      False\n",
      "Name: Target, Length: 400, dtype: bool\n",
      "Accuracy: 0.570\n"
     ]
    }
   ],
   "source": [
    "from sklearn import tree\n",
    "feature_names = ['Col1', 'Col2', 'Col3', 'Col4', 'Col5', 'Col6', 'Col7', 'Col8', 'Col9', 'Col10', 'Col11']\n",
    "tree.plot_tree(tree_model,\n",
    "               feature_names=feature_names,\n",
    "               filled=True)\n",
    "plt.show()\n",
    "y_pred = tree_model.predict(X_test)\n",
    "print('Misclassification samples: %d' % (y_test != y_pred).sum())\n",
    "print(y_test != y_pred)\n",
    "print('Accuracy: %.3f' % tree_model.score(X_test, y_test))"
   ]
  },
  {
   "cell_type": "markdown",
   "metadata": {},
   "source": [
    "## Conversión de Jupyter Notebook en un archivo Python"
   ]
  },
  {
   "cell_type": "code",
   "execution_count": 32,
   "metadata": {},
   "outputs": [
    {
     "name": "stdout",
     "output_type": "stream",
     "text": [
      "[NbConvertApp] Converting notebook answer2.ipynb to script\n",
      "[NbConvertApp] Writing 3465 bytes to answer2.py\n"
     ]
    }
   ],
   "source": [
    "! python .convert_notebook_to_script.py --input answer2.ipynb --output answer2.py"
   ]
  }
 ],
 "metadata": {
  "kernelspec": {
   "display_name": "Python 3",
   "language": "python",
   "name": "python3"
  },
  "language_info": {
   "codemirror_mode": {
    "name": "ipython",
    "version": 3
   },
   "file_extension": ".py",
   "mimetype": "text/x-python",
   "name": "python",
   "nbconvert_exporter": "python",
   "pygments_lexer": "ipython3",
   "version": "3.10.12"
  }
 },
 "nbformat": 4,
 "nbformat_minor": 2
}
