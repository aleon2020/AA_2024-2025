{
 "cells": [
  {
   "cell_type": "markdown",
   "metadata": {},
   "source": [
    "# Práctica 1 Pregunta 3: Clasificación usando 4 características de los datos"
   ]
  },
  {
   "cell_type": "markdown",
   "metadata": {},
   "source": [
    "Selecciona 4 características de los datos. Usando estas características, implementa los métodos Logistic Regression, SVM y Random Trees para clasificar los datos. Describe en el informe los parámetros usados y los resultados obtenidos con los distintos métodos y deposita el código Python en Aula Virtual en el fichero 'answer3.ipynb'."
   ]
  },
  {
   "cell_type": "markdown",
   "metadata": {},
   "source": [
    "## Importación de bibliotecas para análisis de datos y escalado"
   ]
  },
  {
   "cell_type": "code",
   "execution_count": 1,
   "metadata": {},
   "outputs": [],
   "source": [
    "import numpy as np\n",
    "import pandas as pd\n",
    "import matplotlib.pyplot as plt\n",
    "from sklearn.preprocessing import StandardScaler"
   ]
  },
  {
   "cell_type": "markdown",
   "metadata": {},
   "source": [
    "## Carga del dataset desde un archivo CSV"
   ]
  },
  {
   "cell_type": "code",
   "execution_count": 2,
   "metadata": {},
   "outputs": [],
   "source": [
    "dataset = pd.read_csv(\"dataset.csv\")"
   ]
  },
  {
   "cell_type": "markdown",
   "metadata": {},
   "source": [
    "## Anonimización y análisis de la correlación del dataset"
   ]
  },
  {
   "cell_type": "code",
   "execution_count": 3,
   "metadata": {},
   "outputs": [
    {
     "data": {
      "text/html": [
       "<div>\n",
       "<style scoped>\n",
       "    .dataframe tbody tr th:only-of-type {\n",
       "        vertical-align: middle;\n",
       "    }\n",
       "\n",
       "    .dataframe tbody tr th {\n",
       "        vertical-align: top;\n",
       "    }\n",
       "\n",
       "    .dataframe thead th {\n",
       "        text-align: right;\n",
       "    }\n",
       "</style>\n",
       "<table border=\"1\" class=\"dataframe\">\n",
       "  <thead>\n",
       "    <tr style=\"text-align: right;\">\n",
       "      <th></th>\n",
       "      <th>Col1</th>\n",
       "      <th>Col5</th>\n",
       "      <th>Col7</th>\n",
       "      <th>Col11</th>\n",
       "    </tr>\n",
       "  </thead>\n",
       "  <tbody>\n",
       "    <tr>\n",
       "      <th>Col1</th>\n",
       "      <td>1.000000</td>\n",
       "      <td>-0.260987</td>\n",
       "      <td>-0.202288</td>\n",
       "      <td>-0.552496</td>\n",
       "    </tr>\n",
       "    <tr>\n",
       "      <th>Col5</th>\n",
       "      <td>-0.260987</td>\n",
       "      <td>1.000000</td>\n",
       "      <td>0.093595</td>\n",
       "      <td>0.312770</td>\n",
       "    </tr>\n",
       "    <tr>\n",
       "      <th>Col7</th>\n",
       "      <td>-0.202288</td>\n",
       "      <td>0.093595</td>\n",
       "      <td>1.000000</td>\n",
       "      <td>0.109903</td>\n",
       "    </tr>\n",
       "    <tr>\n",
       "      <th>Col11</th>\n",
       "      <td>-0.552496</td>\n",
       "      <td>0.312770</td>\n",
       "      <td>0.109903</td>\n",
       "      <td>1.000000</td>\n",
       "    </tr>\n",
       "  </tbody>\n",
       "</table>\n",
       "</div>"
      ],
      "text/plain": [
       "           Col1      Col5      Col7     Col11\n",
       "Col1   1.000000 -0.260987 -0.202288 -0.552496\n",
       "Col5  -0.260987  1.000000  0.093595  0.312770\n",
       "Col7  -0.202288  0.093595  1.000000  0.109903\n",
       "Col11 -0.552496  0.312770  0.109903  1.000000"
      ]
     },
     "execution_count": 3,
     "metadata": {},
     "output_type": "execute_result"
    }
   ],
   "source": [
    "dataset_anonymized = dataset.drop([\"Target\"], axis=1)\n",
    "dataset_4_characteristics = dataset_anonymized.drop([\"Col2\", \"Col3\", \"Col4\", \"Col6\", \"Col8\", \"Col9\", \"Col10\"], axis=1)\n",
    "dataset_4_characteristics.to_csv('dataset_4_characteristics.csv', index=False)\n",
    "dataset_4_characteristics.corr()"
   ]
  },
  {
   "cell_type": "markdown",
   "metadata": {},
   "source": [
    "## Separación de características y etiquetas del dataset"
   ]
  },
  {
   "cell_type": "code",
   "execution_count": 4,
   "metadata": {},
   "outputs": [
    {
     "name": "stdout",
     "output_type": "stream",
     "text": [
      "Class labels: [3 4 5 6 7 8]\n"
     ]
    }
   ],
   "source": [
    "X = dataset_4_characteristics\n",
    "y = dataset.get(\"Target\")\n",
    "print('Class labels:', np.unique(y))"
   ]
  },
  {
   "cell_type": "markdown",
   "metadata": {},
   "source": [
    "## División del dataset en entrenamiento (75%) y prueba (25%)"
   ]
  },
  {
   "cell_type": "code",
   "execution_count": 5,
   "metadata": {},
   "outputs": [],
   "source": [
    "from sklearn.model_selection import train_test_split\n",
    "X_train, X_test, y_train, y_test = train_test_split(X.values, y, test_size=0.25, random_state=1, stratify=y)"
   ]
  },
  {
   "cell_type": "markdown",
   "metadata": {},
   "source": [
    "## Estandarización del balance de clases"
   ]
  },
  {
   "cell_type": "code",
   "execution_count": 6,
   "metadata": {},
   "outputs": [],
   "source": [
    "from sklearn.preprocessing import StandardScaler\n",
    "sc = StandardScaler()\n",
    "sc.fit(X_train)\n",
    "X_train_std = sc.transform(X_train)\n",
    "X_test_std = sc.transform(X_test)"
   ]
  },
  {
   "cell_type": "markdown",
   "metadata": {},
   "source": [
    "## Entrenamiento y evaluación del modelo por regresión logística (Logistic Regression)"
   ]
  },
  {
   "cell_type": "code",
   "execution_count": 7,
   "metadata": {},
   "outputs": [
    {
     "name": "stdout",
     "output_type": "stream",
     "text": [
      "Misclassification samples: 164\n",
      "530      True\n",
      "1424    False\n",
      "903      True\n",
      "1382     True\n",
      "587     False\n",
      "        ...  \n",
      "675      True\n",
      "1510     True\n",
      "1002    False\n",
      "969      True\n",
      "52      False\n",
      "Name: Target, Length: 400, dtype: bool\n",
      "Accuracy: 0.590\n"
     ]
    },
    {
     "name": "stderr",
     "output_type": "stream",
     "text": [
      "/home/aalberto/.local/lib/python3.10/site-packages/sklearn/linear_model/_logistic.py:1256: FutureWarning: 'multi_class' was deprecated in version 1.5 and will be removed in 1.7. Use OneVsRestClassifier(LogisticRegression(..)) instead. Leave it to its default value to avoid this warning.\n",
      "  warnings.warn(\n"
     ]
    }
   ],
   "source": [
    "from sklearn.linear_model import LogisticRegression\n",
    "lr = LogisticRegression(C=100.0, solver='lbfgs', multi_class='ovr')\n",
    "lr.fit(X_train_std, y_train)\n",
    "y_pred = lr.predict(X_test_std)\n",
    "print('Misclassification samples: %d' % (y_test != y_pred).sum())\n",
    "print(y_test != y_pred)\n",
    "print('Accuracy: %.3f' % lr.score(X_test_std, y_test))"
   ]
  },
  {
   "cell_type": "markdown",
   "metadata": {},
   "source": [
    "## Entrenamiento y evaluación del modelo por máquinas de soporte vectorial (SVM)"
   ]
  },
  {
   "cell_type": "code",
   "execution_count": 8,
   "metadata": {},
   "outputs": [
    {
     "name": "stdout",
     "output_type": "stream",
     "text": [
      "Misclassification samples: 174\n",
      "530     False\n",
      "1424    False\n",
      "903     False\n",
      "1382     True\n",
      "587      True\n",
      "        ...  \n",
      "675     False\n",
      "1510     True\n",
      "1002     True\n",
      "969     False\n",
      "52      False\n",
      "Name: Target, Length: 400, dtype: bool\n",
      "Accuracy: 0.565\n"
     ]
    }
   ],
   "source": [
    "from sklearn.svm import SVC\n",
    "svm = SVC(kernel='rbf', random_state=1, gamma=0.7, C=30.0)\n",
    "svm.fit(X_train_std, y_train)\n",
    "y_pred = svm.predict(X_test_std)\n",
    "print('Misclassification samples: %d' % (y_test != y_pred).sum())\n",
    "print(y_test != y_pred)\n",
    "print('Accuracy: %.3f' % svm.score(X_test_std, y_test))"
   ]
  },
  {
   "cell_type": "markdown",
   "metadata": {},
   "source": [
    "## Entrenamiento y evaluación del modelo por árboles de decisión (Random Trees)"
   ]
  },
  {
   "cell_type": "code",
   "execution_count": 9,
   "metadata": {},
   "outputs": [],
   "source": [
    "from sklearn.tree import DecisionTreeClassifier\n",
    "tree_model = DecisionTreeClassifier(criterion='gini', \n",
    "                                    max_depth=4, \n",
    "                                    random_state=1)\n",
    "tree_model.fit(X_train, y_train)\n",
    "X_combined = np.vstack((X_train, X_test))\n",
    "y_combined = np.hstack((y_train, y_test))"
   ]
  },
  {
   "cell_type": "code",
   "execution_count": 10,
   "metadata": {},
   "outputs": [
    {
     "data": {
      "image/png": "[encoded data removed]",
      "text/plain": [
       "<Figure size 640x480 with 1 Axes>"
      ]
     },
     "metadata": {},
     "output_type": "display_data"
    },
    {
     "name": "stdout",
     "output_type": "stream",
     "text": [
      "Misclassification samples: 174\n",
      "530     False\n",
      "1424    False\n",
      "903      True\n",
      "1382     True\n",
      "587     False\n",
      "        ...  \n",
      "675     False\n",
      "1510     True\n",
      "1002     True\n",
      "969      True\n",
      "52      False\n",
      "Name: Target, Length: 400, dtype: bool\n",
      "Accuracy: 0.565\n"
     ]
    }
   ],
   "source": [
    "from sklearn import tree\n",
    "feature_names = ['Col1', 'Col5', 'Col7', 'Col11']\n",
    "tree.plot_tree(tree_model,\n",
    "               feature_names=feature_names,\n",
    "               filled=True)\n",
    "plt.show()\n",
    "y_pred = tree_model.predict(X_test)\n",
    "print('Misclassification samples: %d' % (y_test != y_pred).sum())\n",
    "print(y_test != y_pred)\n",
    "print('Accuracy: %.3f' % tree_model.score(X_test, y_test))"
   ]
  },
  {
   "cell_type": "markdown",
   "metadata": {},
   "source": [
    "## Conversión de Jupyter Notebook en un archivo Python"
   ]
  },
  {
   "cell_type": "code",
   "execution_count": 11,
   "metadata": {},
   "outputs": [
    {
     "name": "stdout",
     "output_type": "stream",
     "text": [
      "[NbConvertApp] Converting notebook answer3.ipynb to script\n",
      "[NbConvertApp] Writing 3541 bytes to answer3.py\n"
     ]
    }
   ],
   "source": [
    "! python .convert_notebook_to_script.py --input answer3.ipynb --output answer3.py"
   ]
  }
 ],
 "metadata": {
  "kernelspec": {
   "display_name": "Python 3",
   "language": "python",
   "name": "python3"
  },
  "language_info": {
   "codemirror_mode": {
    "name": "ipython",
    "version": 3
   },
   "file_extension": ".py",
   "mimetype": "text/x-python",
   "name": "python",
   "nbconvert_exporter": "python",
   "pygments_lexer": "ipython3",
   "version": "3.10.12"
  }
 },
 "nbformat": 4,
 "nbformat_minor": 2
}
