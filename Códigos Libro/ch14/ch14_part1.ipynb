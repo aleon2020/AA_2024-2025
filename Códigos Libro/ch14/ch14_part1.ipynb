{
 "cells": [
  {
   "cell_type": "markdown",
   "metadata": {
    "tags": []
   },
   "source": [
    "# Machine Learning with PyTorch and Scikit-Learn  \n",
    "# -- Code Examples"
   ]
  },
  {
   "cell_type": "markdown",
   "metadata": {},
   "source": [
    "## Package version checks"
   ]
  },
  {
   "cell_type": "markdown",
   "metadata": {},
   "source": [
    "Add folder to path in order to load from the check_packages.py script:"
   ]
  },
  {
   "cell_type": "code",
   "execution_count": null,
   "metadata": {},
   "outputs": [],
   "source": [
    "# * import sys\n",
    "# Import the sys module, which is a Python standard library module.\n",
    "# This module provides access to variables and functions that interact strongly with the\n",
    "# Python interpreter, such as manipulating module search path and input/output\n",
    "# standard, among others.\n",
    "# * sys.path\n",
    "# It is a list containing the paths in which the Python interpreter looks for modules when\n",
    "# you use import. When you try to import a module, Python searches the paths specified in this\n",
    "# list.\n",
    "# * sys.path.insert(0, '..')\n",
    "# Insert the path '..' (representing the parent directory) at the beginning of the sys.path list.\n",
    "# Adding it in position 0 ensures that when Python looks for modules to import,\n",
    "# first check in the parent directory before continuing with the default paths.\n",
    "\n",
    "import sys\n",
    "sys.path.insert(0, '..')"
   ]
  },
  {
   "cell_type": "markdown",
   "metadata": {},
   "source": [
    "Check recommended package versions:"
   ]
  },
  {
   "cell_type": "code",
   "execution_count": null,
   "metadata": {},
   "outputs": [],
   "source": [
    "# * from python_environment_check import check_packages\n",
    "# Import the check_packages function from the python_environment_check module. \n",
    "# This module, from its name, appears to be designed to verify that the Python environment \n",
    "# have the correct versions of certain packages installed.\n",
    "# * d = {...}\n",
    "# Defines a dictionary d that contains the names of several packages as keys \n",
    "# (e.g. numpy, scipy, matplotlib, etc.) and as values ​​the minimum versions \n",
    "# required from those packages.\n",
    "# * check_packages(d)\n",
    "# The check_packages function takes as input the dictionary d and probably performs a \n",
    "# check on current Python environment to ensure installed versions \n",
    "# of these packages are at least those specified in the dictionary. If any of the packages \n",
    "# is not installed or has the wrong version, the function may throw an error or \n",
    "# suggest installing/updating the packages.\n",
    "\n",
    "from python_environment_check import check_packages\n",
    "d = {\n",
    "    'numpy': '1.21.2',\n",
    "    'scipy': '1.7.0',\n",
    "    'matplotlib': '3.4.3',\n",
    "    'torch': '1.8.0',\n",
    "    'torchvision': '0.9.0'\n",
    "}\n",
    "check_packages(d)"
   ]
  },
  {
   "cell_type": "markdown",
   "metadata": {},
   "source": [
    "# Chapter 14: Classifying Images with Deep Convolutional Neural Networks (Part 1/2)"
   ]
  },
  {
   "cell_type": "markdown",
   "metadata": {},
   "source": [
    "**Outline**\n",
    "\n",
    "- [The building blocks of CNNs](#The-building-blocks-of-CNNs)\n",
    "  - [Understanding CNNs and feature hierarchies](#Understanding-CNNs-and-feature-hierarchies)\n",
    "  - [Performing discrete convolutions](#Performing-discrete-convolutions)\n",
    "    - [Discrete convolutions in one dimension](#Discrete-convolutions-in-one-dimension)\n",
    "    - [Padding inputs to control the size of the output feature maps](#Padding-inputs-to-control-the-size-of-the-output-feature-maps)\n",
    "    - [Determining the size of the convolution output](#Determining-the-size-of-the-convolution-output)\n",
    "    - [Performing a discrete convolution in 2D](#Performing-a-discrete-convolution-in-2D)\n",
    "  - [Subsampling layers](#Subsampling-layers)\n",
    "- [Putting everything together -- implementing a CNN](#Putting-everything-together----implementing-a-CNN)\n",
    "  - [Working with multiple input or color channels](#Working-with-multiple-input-or-color-channels)\n",
    "  - [Regularizing an NN with L2 regularization and dropout](#Regularizing-an-NN-with-L2-regularization-and-dropout)\n",
    "  - [Loss functions for classification](#Loss-functions-for-classification)\n",
    "- [Implementing a deep CNN using PyTorch](#Implementing-a-deep-CNN-using-PyTorch)\n",
    "  - [The multilayer CNN architecture](#The-multilayer-CNN-architecture)\n",
    "  - [Loading and preprocessing the data](#Loading-and-preprocessing-the-data)\n",
    "  - [Implementing a CNN using the torch.nn module](#Implementing-a-CNN-using-the-torch.nn-module)\n",
    "    - [Configuring CNN layers in PyTorch](#Configuring-CNN-layers-in-PyTorch)\n",
    "    - [Constructing a CNN in PyTorch](#Constructing-a-CNN-in-PyTorch)\n",
    "- [Summary](#summary)"
   ]
  },
  {
   "cell_type": "code",
   "execution_count": null,
   "metadata": {},
   "outputs": [],
   "source": [
    "# * from IPython.display\n",
    "# Import from the display submodule of the IPython package. This module is designed to display \n",
    "# and render different types of data within interactive environments, such as Jupyter Notebooks.\n",
    "# * import Image\n",
    "# Import the Image class from the display module. The Image class is used to display \n",
    "# images in the interactive environment (for example, in a Jupyter Notebook cell).\n",
    "# * %matplotlib inline\n",
    "# This is a magic command specific to IPython/Jupyter Notebook.\n",
    "# Enables display of matplotlib plots directly within cells of the \n",
    "#notebook. Graphics are rendered \"inline\" (within the same notebook) without the need \n",
    "# to open pop-up windows.\n",
    "\n",
    "from IPython.display import Image\n",
    "%matplotlib inline"
   ]
  },
  {
   "cell_type": "markdown",
   "metadata": {},
   "source": [
    "##  The building blocks of convolutional neural networks\n",
    "\n",
    "### Understanding CNNs and feature hierarchies"
   ]
  },
  {
   "cell_type": "code",
   "execution_count": null,
   "metadata": {},
   "outputs": [],
   "source": [
    "# * Image(...)\n",
    "# Use the Image class (probably imported from IPython.display, as in the previous example) \n",
    "# to display an image in an interactive environment such as Jupyter Notebook.\n",
    "# * filename='./figures/14_01.png'\n",
    "# Specifies the path of the image to display. In this case, the image is located in the\n",
    "# file './figures/14_01.png', which is a relative path to the current directory.\n",
    "# * width=700\n",
    "# Set the image width to 700 pixels. This resizes the image so that it occupies that \n",
    "# space width, while its height is adjusted proportionally (if you do not specify a \n",
    "# height).\n",
    "\n",
    "Image(filename='figures/14_01.png', width=700)"
   ]
  },
  {
   "cell_type": "markdown",
   "metadata": {},
   "source": [
    "\n",
    "\n",
    "### Performing discrete convolutions\n",
    "\n",
    "### Discrete convolutions in one dimension\n",
    "\n"
   ]
  },
  {
   "cell_type": "code",
   "execution_count": null,
   "metadata": {},
   "outputs": [],
   "source": [
    "# * Image(...)\n",
    "# Use the Image class (probably imported from IPython.display, as in the previous example) \n",
    "# to display an image in an interactive environment such as Jupyter Notebook.\n",
    "# * filename='./figures/14_02.png'\n",
    "# Specifies the path of the image to display. In this case, the image is located in the\n",
    "# file './figures/14_02.png', which is a relative path to the current directory.\n",
    "# * width=700\n",
    "# Set the image width to 700 pixels. This resizes the image so that it occupies that \n",
    "# space width, while its height is adjusted proportionally (if you do not specify a \n",
    "# height).\n",
    "\n",
    "Image(filename='figures/14_02.png', width=700)"
   ]
  },
  {
   "cell_type": "code",
   "execution_count": null,
   "metadata": {},
   "outputs": [],
   "source": [
    "# * Image(...)\n",
    "# Use the Image class (probably imported from IPython.display, as in the previous example) \n",
    "# to display an image in an interactive environment such as Jupyter Notebook.\n",
    "# * filename='./figures/14_03.png'\n",
    "# Specifies the path of the image to display. In this case, the image is located in the\n",
    "# file './figures/14_03.png', which is a relative path to the current directory.\n",
    "# * width=700\n",
    "# Set the image width to 700 pixels. This resizes the image so that it occupies that \n",
    "# space width, while its height is adjusted proportionally (if you do not specify a \n",
    "# height).\n",
    "\n",
    "Image(filename='figures/14_03.png', width=700)"
   ]
  },
  {
   "cell_type": "markdown",
   "metadata": {},
   "source": [
    "### Padding inputs to control the size of the output feature maps\n",
    "\n"
   ]
  },
  {
   "cell_type": "code",
   "execution_count": null,
   "metadata": {},
   "outputs": [],
   "source": [
    "# * Image(...)\n",
    "# Use the Image class (probably imported from IPython.display, as in the previous example) \n",
    "# to display an image in an interactive environment such as Jupyter Notebook.\n",
    "# * filename='./figures/14_04.png'\n",
    "# Specifies the path of the image to display. In this case, the image is located in the\n",
    "# file './figures/14_04.png', which is a relative path to the current directory.\n",
    "# * width=700\n",
    "# Set the image width to 700 pixels. This resizes the image so that it occupies that \n",
    "# space width, while its height is adjusted proportionally (if you do not specify a \n",
    "# height).\n",
    "\n",
    "Image(filename='figures/14_04.png', width=700)"
   ]
  },
  {
   "cell_type": "markdown",
   "metadata": {},
   "source": [
    "### Determining the size of the convolution output"
   ]
  },
  {
   "cell_type": "code",
   "execution_count": null,
   "metadata": {},
   "outputs": [],
   "source": [
    "import torch\n",
    "import numpy as np\n",
    "\n",
    "print('PyTorch version:', torch.__version__)\n",
    "print('NumPy version: ', np.__version__)"
   ]
  },
  {
   "cell_type": "code",
   "execution_count": null,
   "metadata": {},
   "outputs": [],
   "source": [
    "import numpy as np\n",
    "def conv1d(x, w, p=0, s=1):\n",
    "    w_rot = np.array(w[::-1])\n",
    "    x_padded = np.array(x)\n",
    "    if p > 0:\n",
    "        zero_pad = np.zeros(shape=p)\n",
    "        x_padded = np.concatenate(\n",
    "            [zero_pad, x_padded, zero_pad\n",
    "        ])\n",
    "    res = []\n",
    "    for i in range(0, (int((len(x_padded) - len(w_rot))/s) + 1) * s, s):\n",
    "        res.append(np.sum(x_padded[i:i + w_rot.shape[0]] * w_rot))\n",
    "    return np.array(res)\n",
    "## Testing:\n",
    "x = [1, 3, 2, 4, 5, 6, 1, 3]\n",
    "w = [1, 0, 3, 1, 2]\n",
    "print('Conv1d Implementation:',\n",
    "      conv1d(x, w, p=2, s=1))\n",
    "print('Numpy Results:',\n",
    "      np.convolve(x, w, mode='same')) "
   ]
  },
  {
   "cell_type": "markdown",
   "metadata": {},
   "source": [
    "### Performing a discrete convolution in 2D"
   ]
  },
  {
   "cell_type": "code",
   "execution_count": null,
   "metadata": {},
   "outputs": [],
   "source": [
    "# * Image(...)\n",
    "# Use the Image class (probably imported from IPython.display, as in the previous example) \n",
    "# to display an image in an interactive environment such as Jupyter Notebook.\n",
    "# * filename='./figures/14_05.png'\n",
    "# Specifies the path of the image to display. In this case, the image is located in the\n",
    "# file './figures/14_05.png', which is a relative path to the current directory.\n",
    "# * width=700\n",
    "# Set the image width to 700 pixels. This resizes the image so that it occupies that \n",
    "# space width, while its height is adjusted proportionally (if you do not specify a \n",
    "# height).\n",
    "\n",
    "Image(filename='figures/14_05.png', width=700)"
   ]
  },
  {
   "cell_type": "code",
   "execution_count": null,
   "metadata": {},
   "outputs": [],
   "source": [
    "# * Image(...)\n",
    "# Use the Image class (probably imported from IPython.display, as in the previous example) \n",
    "# to display an image in an interactive environment such as Jupyter Notebook.\n",
    "# * filename='./figures/14_06.png'\n",
    "# Specifies the path of the image to display. In this case, the image is located in the\n",
    "# file './figures/14_06.png', which is a relative path to the current directory.\n",
    "# * width=600\n",
    "# Set the image width to 600 pixels. This resizes the image so that it occupies that \n",
    "# space width, while its height is adjusted proportionally (if you do not specify a \n",
    "# height).\n",
    "\n",
    "Image(filename='figures/14_06.png', width=600)"
   ]
  },
  {
   "cell_type": "code",
   "execution_count": null,
   "metadata": {},
   "outputs": [],
   "source": [
    "# * Image(...)\n",
    "# Use the Image class (probably imported from IPython.display, as in the previous example) \n",
    "# to display an image in an interactive environment such as Jupyter Notebook.\n",
    "# * filename='./figures/14_07.png'\n",
    "# Specifies the path of the image to display. In this case, the image is located in the\n",
    "# file './figures/14_07.png', which is a relative path to the current directory.\n",
    "# * width=800\n",
    "# Set the image width to 800 pixels. This resizes the image so that it occupies that \n",
    "# space width, while its height is adjusted proportionally (if you do not specify a \n",
    "# height).\n",
    "\n",
    "Image(filename='figures/14_07.png', width=800)"
   ]
  },
  {
   "cell_type": "code",
   "execution_count": null,
   "metadata": {},
   "outputs": [],
   "source": [
    "import numpy as np\n",
    "import scipy.signal\n",
    "def conv2d(X, W, p=(0, 0), s=(1, 1)):\n",
    "    W_rot = np.array(W)[::-1,::-1]\n",
    "    X_orig = np.array(X)\n",
    "    n1 = X_orig.shape[0] + 2*p[0]\n",
    "    n2 = X_orig.shape[1] + 2*p[1]\n",
    "    X_padded = np.zeros(shape=(n1, n2))\n",
    "    X_padded[p[0]:p[0]+X_orig.shape[0],\n",
    "             p[1]:p[1]+X_orig.shape[1]] = X_orig\n",
    "\n",
    "    res = []\n",
    "    for i in range(0, \n",
    "            int((X_padded.shape[0] - \\\n",
    "            W_rot.shape[0])/s[0])+ 1, s[0]):\n",
    "        res.append([])\n",
    "    for j in range(0, \n",
    "            int((X_padded.shape[1] - \\\n",
    "            W_rot.shape[1])/s[1]) + 1, s[1]):\n",
    "            X_sub = X_padded[i:i + W_rot.shape[0],\n",
    "                             j:j + W_rot.shape[1]]\n",
    "            res[-1].append(np.sum(X_sub * W_rot))\n",
    "    return(np.array(res))\n",
    "X = [[1, 3, 2, 4], [5, 6, 1, 3], [1, 2, 0, 2], [3, 4, 3, 2]]\n",
    "W = [[1, 0, 3], [1, 2, 1], [0, 1, 1]]\n",
    "print('Conv2d Implementation:\\n',\n",
    "    conv2d(X, W, p=(1, 1), s=(1, 1)))\n",
    "print('SciPy Results:\\n',\n",
    "    scipy.signal.convolve2d(X, W, mode='same'))"
   ]
  },
  {
   "cell_type": "markdown",
   "metadata": {},
   "source": [
    "## Subsampling layers"
   ]
  },
  {
   "cell_type": "code",
   "execution_count": null,
   "metadata": {},
   "outputs": [],
   "source": [
    "# * Image(...)\n",
    "# Use the Image class (probably imported from IPython.display, as in the previous example) \n",
    "# to display an image in an interactive environment such as Jupyter Notebook.\n",
    "# * filename='./figures/14_08.png'\n",
    "# Specifies the path of the image to display. In this case, the image is located in the\n",
    "# file './figures/14_08.png', which is a relative path to the current directory.\n",
    "# * width=700\n",
    "# Set the image width to 700 pixels. This resizes the image so that it occupies that \n",
    "# space width, while its height is adjusted proportionally (if you do not specify a \n",
    "# height).\n",
    "\n",
    "Image(filename='figures/14_08.png', width=700)"
   ]
  },
  {
   "cell_type": "markdown",
   "metadata": {},
   "source": [
    "## Putting everything together – implementing a CNN\n",
    "\n",
    "### Working with multiple input or color channels\n",
    "\n"
   ]
  },
  {
   "cell_type": "code",
   "execution_count": null,
   "metadata": {},
   "outputs": [],
   "source": [
    "# * Image(...)\n",
    "# Use the Image class (probably imported from IPython.display, as in the previous example) \n",
    "# to display an image in an interactive environment such as Jupyter Notebook.\n",
    "# * filename='./figures/14_09.png'\n",
    "# Specifies the path of the image to display. In this case, the image is located in the\n",
    "# file './figures/14_09.png', which is a relative path to the current directory.\n",
    "# * width=800\n",
    "# Set the image width to 800 pixels. This resizes the image so that it occupies that \n",
    "# space width, while its height is adjusted proportionally (if you do not specify a \n",
    "# height).\n",
    "\n",
    "Image(filename='figures/14_09.png', width=800)"
   ]
  },
  {
   "cell_type": "markdown",
   "metadata": {},
   "source": [
    "**TIP: Reading an image file**"
   ]
  },
  {
   "cell_type": "code",
   "execution_count": null,
   "metadata": {},
   "outputs": [],
   "source": [
    "import torch\n",
    "from torchvision.io import read_image\n",
    "img = read_image('example-image.png') \n",
    "print('Image shape:', img.shape)\n",
    "print('Number of channels:', img.shape[0])\n",
    "print('Image data type:', img.dtype)\n",
    "print(img[:, 100:102, 100:102])"
   ]
  },
  {
   "cell_type": "markdown",
   "metadata": {},
   "source": [
    "## Regularizing a neural network with L2 regularization and dropout\n",
    "\n"
   ]
  },
  {
   "cell_type": "code",
   "execution_count": null,
   "metadata": {},
   "outputs": [],
   "source": [
    "# * Image(...)\n",
    "# Use the Image class (probably imported from IPython.display, as in the previous example) \n",
    "# to display an image in an interactive environment such as Jupyter Notebook.\n",
    "# * filename='./figures/14_10.png'\n",
    "# Specifies the path of the image to display. In this case, the image is located in the\n",
    "# file './figures/14_10.png', which is a relative path to the current directory.\n",
    "# * width=700\n",
    "# Set the image width to 700 pixels. This resizes the image so that it occupies that \n",
    "# space width, while its height is adjusted proportionally (if you do not specify a \n",
    "# height).\n",
    "\n",
    "Image(filename='figures/14_10.png', width=700)"
   ]
  },
  {
   "cell_type": "code",
   "execution_count": null,
   "metadata": {},
   "outputs": [],
   "source": [
    "import torch.nn as nn\n",
    "loss_func = nn.BCELoss()\n",
    "loss = loss_func(torch.tensor([0.9]), torch.tensor([1.0]))\n",
    "l2_lambda = 0.001\n",
    "conv_layer = nn.Conv2d(in_channels=3, \n",
    "                       out_channels=5, \n",
    "                       kernel_size=5)\n",
    "l2_penalty = l2_lambda * sum(\n",
    "    [(p**2).sum() for p in conv_layer.parameters()]\n",
    ")\n",
    "loss_with_penalty = loss + l2_penalty\n",
    "linear_layer = nn.Linear(10, 16)\n",
    "l2_penalty = l2_lambda * sum(\n",
    "    [(p**2).sum() for p in linear_layer.parameters()]\n",
    ")\n",
    "loss_with_penalty = loss + l2_penalty"
   ]
  },
  {
   "cell_type": "markdown",
   "metadata": {},
   "source": [
    "## Loss Functions for Classification\n",
    "\n",
    " * **`nn.BCELoss()`**\n",
    "   * `from_logits=False` \n",
    "   * `from_logits=True`\n",
    "\n",
    " * **`nn.CrossEntropyLoss()`**\n",
    "   * `from_logits=False`\n",
    "   * `from_logits=True`\n"
   ]
  },
  {
   "cell_type": "code",
   "execution_count": null,
   "metadata": {},
   "outputs": [],
   "source": [
    "# * Image(...)\n",
    "# Use the Image class (probably imported from IPython.display, as in the previous example) \n",
    "# to display an image in an interactive environment such as Jupyter Notebook.\n",
    "# * filename='./figures/14_11.png'\n",
    "# Specifies the path of the image to display. In this case, the image is located in the\n",
    "# file './figures/14_11.png', which is a relative path to the current directory.\n",
    "# * width=800\n",
    "# Set the image width to 800 pixels. This resizes the image so that it occupies that \n",
    "# space width, while its height is adjusted proportionally (if you do not specify a \n",
    "# height).\n",
    "\n",
    "Image(filename='figures/14_11.png', width=800)"
   ]
  },
  {
   "cell_type": "code",
   "execution_count": null,
   "metadata": {},
   "outputs": [],
   "source": [
    "####### Binary Cross-entropy\n",
    "logits = torch.tensor([0.8])\n",
    "probas = torch.sigmoid(logits)\n",
    "target = torch.tensor([1.0])\n",
    "bce_loss_fn = nn.BCELoss()\n",
    "bce_logits_loss_fn = nn.BCEWithLogitsLoss()\n",
    "print(f'BCE (w Probas): {bce_loss_fn(probas, target):.4f}')\n",
    "print(f'BCE (w Logits): '\n",
    "      f'{bce_logits_loss_fn(logits, target):.4f}')\n",
    "\n",
    "####### Categorical Cross-entropy\n",
    "logits = torch.tensor([[1.5, 0.8, 2.1]])\n",
    "probas = torch.softmax(logits, dim=1)\n",
    "target = torch.tensor([2])\n",
    "cce_loss_fn = nn.NLLLoss()\n",
    "cce_logits_loss_fn = nn.CrossEntropyLoss()\n",
    "print(f'CCE (w Probas): '\n",
    "      f'{cce_loss_fn(torch.log(probas), target):.4f}')\n",
    "print(f'CCE (w Logits): '\n",
    "      f'{cce_logits_loss_fn(logits, target):.4f}')"
   ]
  },
  {
   "cell_type": "markdown",
   "metadata": {},
   "source": [
    "## Implementing a deep convolutional neural network using PyTorch\n",
    "\n",
    "### The multilayer CNN architecture"
   ]
  },
  {
   "cell_type": "code",
   "execution_count": null,
   "metadata": {},
   "outputs": [],
   "source": [
    "# * Image(...)\n",
    "# Use the Image class (probably imported from IPython.display, as in the previous example) \n",
    "# to display an image in an interactive environment such as Jupyter Notebook.\n",
    "# * filename='./figures/14_12.png'\n",
    "# Specifies the path of the image to display. In this case, the image is located in the\n",
    "# file './figures/14_12.png', which is a relative path to the current directory.\n",
    "# * width=800\n",
    "# Set the image width to 800 pixels. This resizes the image so that it occupies that \n",
    "# space width, while its height is adjusted proportionally (if you do not specify a \n",
    "# height).\n",
    "\n",
    "Image(filename='figures/14_12.png', width=800)"
   ]
  },
  {
   "cell_type": "markdown",
   "metadata": {},
   "source": [
    "### Loading and preprocessing the data"
   ]
  },
  {
   "cell_type": "code",
   "execution_count": null,
   "metadata": {},
   "outputs": [],
   "source": [
    "import torchvision \n",
    "from torchvision import transforms \n",
    "image_path = './'\n",
    "transform = transforms.Compose([\n",
    "    transforms.ToTensor()\n",
    "])\n",
    "mnist_dataset = torchvision.datasets.MNIST(\n",
    "    root=image_path, train=True, \n",
    "    transform=transform, download=True\n",
    ")\n",
    "from torch.utils.data import Subset\n",
    "mnist_valid_dataset = Subset(mnist_dataset, \n",
    "                             torch.arange(10000)) \n",
    "mnist_train_dataset = Subset(mnist_dataset, torch.arange(\n",
    "                                                10000, len(mnist_dataset)\n",
    "                                            ))\n",
    "mnist_test_dataset = torchvision.datasets.MNIST(\n",
    "    root=image_path, train=False, \n",
    "    transform=transform, download=False\n",
    ")"
   ]
  },
  {
   "cell_type": "code",
   "execution_count": null,
   "metadata": {},
   "outputs": [],
   "source": [
    "from torch.utils.data import DataLoader\n",
    "batch_size = 64\n",
    "torch.manual_seed(1)\n",
    "train_dl = DataLoader(mnist_train_dataset, \n",
    "                      batch_size, \n",
    "                      shuffle=True)\n",
    "valid_dl = DataLoader(mnist_valid_dataset, \n",
    "                      batch_size, \n",
    "                      shuffle=False)"
   ]
  },
  {
   "cell_type": "markdown",
   "metadata": {},
   "source": [
    "### Implementing a CNN using the torch.nn module\n",
    "\n",
    "#### Configuring CNN layers in PyTorch\n",
    "\n",
    " * **Conv2d:** `torch.nn.Conv2d`\n",
    "   * `out_channels`\n",
    "   * `kernel_size`\n",
    "   * `stride`\n",
    "   * `padding`\n",
    "   \n",
    "   \n",
    " * **MaxPool2d:** `torch.nn.MaxPool2d`\n",
    "   * `kernel_size`\n",
    "   * `stride`\n",
    "   * `padding`\n",
    "   \n",
    "   \n",
    " * **Dropout** `torch.nn.Dropout`\n",
    "   * `p`"
   ]
  },
  {
   "cell_type": "markdown",
   "metadata": {},
   "source": [
    "### Constructing a CNN in PyTorch"
   ]
  },
  {
   "cell_type": "code",
   "execution_count": null,
   "metadata": {},
   "outputs": [],
   "source": [
    "model = nn.Sequential()\n",
    "model.add_module(\n",
    "    'conv1', \n",
    "    nn.Conv2d(\n",
    "        in_channels=1, out_channels=32, \n",
    "        kernel_size=5, padding=2\n",
    "    )\n",
    ")\n",
    "model.add_module('relu1', nn.ReLU())        \n",
    "model.add_module('pool1', nn.MaxPool2d(kernel_size=2))   \n",
    "model.add_module(\n",
    "    'conv2', \n",
    "    nn.Conv2d(\n",
    "        in_channels=32, out_channels=64, \n",
    "        kernel_size=5, padding=2\n",
    "    )\n",
    ")\n",
    "model.add_module('relu2', nn.ReLU())        \n",
    "model.add_module('pool2', nn.MaxPool2d(kernel_size=2))      "
   ]
  },
  {
   "cell_type": "code",
   "execution_count": null,
   "metadata": {},
   "outputs": [],
   "source": [
    "x = torch.ones((4, 1, 28, 28))\n",
    "model(x).shape"
   ]
  },
  {
   "cell_type": "code",
   "execution_count": null,
   "metadata": {},
   "outputs": [],
   "source": [
    "model.add_module('flatten', nn.Flatten()) \n",
    "x = torch.ones((4, 1, 28, 28))\n",
    "model(x).shape"
   ]
  },
  {
   "cell_type": "code",
   "execution_count": null,
   "metadata": {},
   "outputs": [],
   "source": [
    "model.add_module('fc1', nn.Linear(3136, 1024)) \n",
    "model.add_module('relu3', nn.ReLU()) \n",
    "model.add_module('dropout', nn.Dropout(p=0.5)) \n",
    "model.add_module('fc2', nn.Linear(1024, 10)) "
   ]
  },
  {
   "cell_type": "code",
   "execution_count": null,
   "metadata": {},
   "outputs": [],
   "source": [
    "# device = torch.device(\"cuda:0\")\n",
    "device = torch.device(\"cpu\")\n",
    "model = model.to(device) "
   ]
  },
  {
   "cell_type": "code",
   "execution_count": null,
   "metadata": {},
   "outputs": [],
   "source": [
    "loss_fn = nn.CrossEntropyLoss()\n",
    "optimizer = torch.optim.Adam(model.parameters(), lr=0.001)"
   ]
  },
  {
   "cell_type": "code",
   "execution_count": null,
   "metadata": {},
   "outputs": [],
   "source": [
    "def train(model, num_epochs, train_dl, valid_dl):\n",
    "    loss_hist_train = [0] * num_epochs\n",
    "    accuracy_hist_train = [0] * num_epochs\n",
    "    loss_hist_valid = [0] * num_epochs\n",
    "    accuracy_hist_valid = [0] * num_epochs\n",
    "    for epoch in range(num_epochs):\n",
    "        model.train()\n",
    "        for x_batch, y_batch in train_dl:\n",
    "            x_batch = x_batch.to(device) \n",
    "            y_batch = y_batch.to(device) \n",
    "            pred = model(x_batch)\n",
    "            loss = loss_fn(pred, y_batch)\n",
    "            loss.backward()\n",
    "            optimizer.step()\n",
    "            optimizer.zero_grad()\n",
    "            loss_hist_train[epoch] += loss.item()*y_batch.size(0)\n",
    "            is_correct = (\n",
    "                torch.argmax(pred, dim=1) == y_batch\n",
    "            ).float()\n",
    "            accuracy_hist_train[epoch] += is_correct.sum().cpu()\n",
    "        loss_hist_train[epoch] /= len(train_dl.dataset)\n",
    "        accuracy_hist_train[epoch] /= len(train_dl.dataset)\n",
    "        \n",
    "        model.eval()\n",
    "        with torch.no_grad():\n",
    "            for x_batch, y_batch in valid_dl:\n",
    "                x_batch = x_batch.to(device) \n",
    "                y_batch = y_batch.to(device) \n",
    "                pred = model(x_batch)\n",
    "                loss = loss_fn(pred, y_batch)\n",
    "                loss_hist_valid[epoch] += \\\n",
    "                    loss.item()*y_batch.size(0) \n",
    "                is_correct = (\n",
    "                    torch.argmax(pred, dim=1) == y_batch\n",
    "                ).float() \n",
    "                accuracy_hist_valid[epoch] += is_correct.sum().cpu()\n",
    "        loss_hist_valid[epoch] /= len(valid_dl.dataset)\n",
    "        accuracy_hist_valid[epoch] /= len(valid_dl.dataset)\n",
    "        \n",
    "        print(f'Epoch {epoch+1} accuracy: '\n",
    "              f'{accuracy_hist_train[epoch]:.4f} val_accuracy: '\n",
    "              f'{accuracy_hist_valid[epoch]:.4f}')\n",
    "    return loss_hist_train, loss_hist_valid, \\\n",
    "        accuracy_hist_train, accuracy_hist_valid"
   ]
  },
  {
   "cell_type": "code",
   "execution_count": null,
   "metadata": {},
   "outputs": [],
   "source": [
    "torch.manual_seed(1)\n",
    "num_epochs = 20\n",
    "hist = train(model, num_epochs, train_dl, valid_dl)"
   ]
  },
  {
   "cell_type": "code",
   "execution_count": null,
   "metadata": {},
   "outputs": [],
   "source": [
    "import matplotlib.pyplot as plt\n",
    "x_arr = np.arange(len(hist[0])) + 1\n",
    "fig = plt.figure(figsize=(12, 4))\n",
    "ax = fig.add_subplot(1, 2, 1)\n",
    "ax.plot(x_arr, hist[0], '-o', label='Train loss')\n",
    "ax.plot(x_arr, hist[1], '--<', \n",
    "        label='Validation loss')\n",
    "ax.set_xlabel('Epoch', size=15)\n",
    "ax.set_ylabel('Loss', size=15)\n",
    "ax.legend(fontsize=15)\n",
    "ax = fig.add_subplot(1, 2, 2)\n",
    "ax.plot(x_arr, hist[2], '-o', label='Train acc.')\n",
    "ax.plot(x_arr, hist[3], '--<', label='Validation acc.')\n",
    "ax.legend(fontsize=15)\n",
    "ax.set_xlabel('Epoch', size=15)\n",
    "ax.set_ylabel('Accuracy', size=15)\n",
    "# plt.savefig('figures/14_13.png')\n",
    "plt.show()"
   ]
  },
  {
   "cell_type": "code",
   "execution_count": null,
   "metadata": {},
   "outputs": [],
   "source": [
    "torch.cuda.synchronize()\n",
    "model_cpu = model.cpu()\n",
    "pred = model(mnist_test_dataset.data.unsqueeze(1) / 255.)\n",
    "is_correct = (\n",
    "    torch.argmax(pred, dim=1) == mnist_test_dataset.targets\n",
    ").float()\n",
    "print(f'Test accuracy: {is_correct.mean():.4f}') "
   ]
  },
  {
   "cell_type": "code",
   "execution_count": null,
   "metadata": {},
   "outputs": [],
   "source": [
    "fig = plt.figure(figsize=(12, 4))\n",
    "for i in range(12):\n",
    "    ax = fig.add_subplot(2, 6, i+1)\n",
    "    ax.set_xticks([]); ax.set_yticks([])\n",
    "    img = mnist_test_dataset[i][0][0, :, :]\n",
    "    pred = model(img.unsqueeze(0).unsqueeze(1))\n",
    "    y_pred = torch.argmax(pred)\n",
    "    ax.imshow(img, cmap='gray_r')\n",
    "    ax.text(0.9, 0.1, y_pred.item(), \n",
    "            size=15, color='blue',\n",
    "            horizontalalignment='center',\n",
    "            verticalalignment='center', \n",
    "            transform=ax.transAxes)\n",
    "# plt.savefig('figures/14_14.png')\n",
    "plt.show()"
   ]
  },
  {
   "cell_type": "code",
   "execution_count": null,
   "metadata": {},
   "outputs": [],
   "source": [
    "import os\n",
    "if not os.path.exists('models'):\n",
    "    os.mkdir('models')\n",
    "path = 'models/mnist-cnn.ph'\n",
    "torch.save(model, path)"
   ]
  },
  {
   "cell_type": "markdown",
   "metadata": {},
   "source": [
    "# Summary"
   ]
  },
  {
   "cell_type": "markdown",
   "metadata": {},
   "source": [
    "----\n",
    "\n",
    "Readers may ignore the next cell."
   ]
  },
  {
   "cell_type": "code",
   "execution_count": null,
   "metadata": {},
   "outputs": [],
   "source": [
    "# Run a command in the terminal from a Python environment (such as a Jupyter Notebook or a \n",
    "# script that allows system commands to convert a Jupyter notebook to a file Python script. \n",
    "# * !\n",
    "# This symbol is used in environments such as Jupyter Notebooks to execute system commands \n",
    "# operational directly from the notebook. In this case, the command is an execution of a \n",
    "# Python Script.\n",
    "# * python convert_notebook_to_script.py\n",
    "# This command runs a Python script called convert_notebook_to_script.py. This file \n",
    "# is located in the previous directory (../ indicates that it is one level up in the system \n",
    "# files). The purpose of this script is to convert a Jupyter notebook (.ipynb) into a \n",
    "# Python script file (.py).\n",
    "# * --input ch14_part1.ipynb\n",
    "# This is an option or argument that tells the script what the input file is, in this \n",
    "# case, the notebook ch14_part1.ipynb.\n",
    "# * --output ch14_part1.py\n",
    "# This option tells the script to save the output (the converted file) with the name\n",
    "# ch14_part1.py, which is a Python script.\n",
    "\n",
    "! python ../.convert_notebook_to_script.py --input ch14_part1.ipynb --output ch14_part1.py"
   ]
  }
 ],
 "metadata": {
  "kernelspec": {
   "display_name": "Python 3",
   "language": "python",
   "name": "python3"
  },
  "language_info": {
   "codemirror_mode": {
    "name": "ipython",
    "version": 3
   },
   "file_extension": ".py",
   "mimetype": "text/x-python",
   "name": "python",
   "nbconvert_exporter": "python",
   "pygments_lexer": "ipython3",
   "version": "3.10.12"
  }
 },
 "nbformat": 4,
 "nbformat_minor": 4
}
