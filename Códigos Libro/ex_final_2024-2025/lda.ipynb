{
 "cells": [
  {
   "cell_type": "markdown",
   "metadata": {},
   "source": [
    "# LDA (Linear Discriminant Analysis)"
   ]
  },
  {
   "cell_type": "code",
   "execution_count": 1,
   "metadata": {},
   "outputs": [],
   "source": [
    "import pandas as pd\n",
    "df = pd.read_csv('dataset1.csv')"
   ]
  },
  {
   "cell_type": "code",
   "execution_count": 2,
   "metadata": {},
   "outputs": [
    {
     "data": {
      "text/plain": [
       "(768, 9)"
      ]
     },
     "execution_count": 2,
     "metadata": {},
     "output_type": "execute_result"
    }
   ],
   "source": [
    "df.shape"
   ]
  },
  {
   "cell_type": "markdown",
   "metadata": {},
   "source": [
    "**PASO 1: Estandarización del dataset**"
   ]
  },
  {
   "cell_type": "markdown",
   "metadata": {},
   "source": [
    "La estandarización implica escalar los datos para que cada característica tenga media 0 y desviación estándar 1."
   ]
  },
  {
   "cell_type": "code",
   "execution_count": 3,
   "metadata": {},
   "outputs": [],
   "source": [
    "from sklearn.model_selection import train_test_split\n",
    "X, y = df.iloc[:, 0:-1].values, df.iloc[:, -1].values\n",
    "X_train, X_test, y_train, y_test = \\\n",
    "    train_test_split(X, y, test_size=0.3,\n",
    "                     stratify=y, \n",
    "                     random_state=0)\n",
    "# standarize the features\n",
    "from sklearn.preprocessing import StandardScaler\n",
    "sc = StandardScaler()\n",
    "X_train_std = sc.fit_transform(X_train)\n",
    "X_test_std = sc.transform(X_test)"
   ]
  },
  {
   "cell_type": "markdown",
   "metadata": {},
   "source": [
    "**PASO 2: Cálculo del vector medio para cada clase**"
   ]
  },
  {
   "cell_type": "code",
   "execution_count": 4,
   "metadata": {},
   "outputs": [
    {
     "name": "stdout",
     "output_type": "stream",
     "text": [
      "Labels counts in y: [500 268]\n",
      "Labels counts in y_train: [350 187]\n",
      "Labels counts in y_test: [150  81]\n"
     ]
    }
   ],
   "source": [
    "import numpy as np\n",
    "print('Labels counts in y:', np.bincount(y))\n",
    "print('Labels counts in y_train:', np.bincount(y_train))\n",
    "print('Labels counts in y_test:', np.bincount(y_test))"
   ]
  },
  {
   "cell_type": "code",
   "execution_count": 5,
   "metadata": {},
   "outputs": [
    {
     "name": "stdout",
     "output_type": "stream",
     "text": [
      "MV 0: [-0.2311 -0.1178 -0.1745 -0.1791 -0.0634 -0.3381 -0.0426 -0.0632]\n",
      "\n",
      "MV 1: [-0.2311 -0.1178 -0.1745 -0.1791 -0.0634 -0.3381 -0.0426 -0.0632]\n",
      "\n"
     ]
    }
   ],
   "source": [
    "np.set_printoptions(precision=4)\n",
    "mean_vecs = []\n",
    "for label in range(0, 2):\n",
    "    mean_vecs.append(np.mean(\n",
    "        X_train_std[y_train == label], axis=0))\n",
    "    print(f'MV {label}: {mean_vecs[label - 1]}\\n')"
   ]
  },
  {
   "cell_type": "markdown",
   "metadata": {},
   "source": [
    "Cada uno de los vectores medios obtenidos (MV 0 y MV 1 en este caso) representan el centroide de cada clase en el espacio de características estandarizado, fundamentales para poder calcular las matrices de dispersión entre clases y dentro de las mismas, lo que ayuda a maximizar la separabilidad entre clases."
   ]
  },
  {
   "cell_type": "markdown",
   "metadata": {},
   "source": [
    "**PASO 3: Contrucción de las matrices de dispersión dentro y entre clases**"
   ]
  },
  {
   "cell_type": "markdown",
   "metadata": {},
   "source": [
    "La matriz de dispersión dentro de clases (S_W) representa la variabilidad dentro de cada clase. Si los valores obtenidos en S_W son bajos, se sugiere que la dispersión dentro de las clases es menor.\n",
    "\n",
    "La matriz de dispersión entre clases (S_B) indica la variabilidad entre cada clase. Si la S_B obtenida es grande en comparación con S_W, se sugiere que las clases están bien clasificadas, lo que facilita la clasificación."
   ]
  },
  {
   "cell_type": "code",
   "execution_count": 6,
   "metadata": {},
   "outputs": [
    {
     "name": "stdout",
     "output_type": "stream",
     "text": [
      "Within-class scatter matrix: 8x8\n"
     ]
    }
   ],
   "source": [
    "d = 8 # number of features\n",
    "S_W = np.zeros((d, d))\n",
    "for label, mv in zip(range(0, 2), mean_vecs):\n",
    "    class_scatter = np.zeros((d, d))\n",
    "    for row in X_train_std[y_train == label]:\n",
    "        row, mv = row.reshape(d, 1), mv.reshape(d, 1)\n",
    "        class_scatter += (row - mv).dot((row - mv).T)\n",
    "    S_W += class_scatter\n",
    "print('Within-class scatter matrix: '\n",
    "      f'{S_W.shape[0]}x{S_W.shape[1]}')"
   ]
  },
  {
   "cell_type": "code",
   "execution_count": 7,
   "metadata": {},
   "outputs": [
    {
     "name": "stdout",
     "output_type": "stream",
     "text": [
      "Class label distribution: [350 187]\n"
     ]
    }
   ],
   "source": [
    "print('Class label distribution:',\n",
    "      np.bincount(y_train))"
   ]
  },
  {
   "cell_type": "code",
   "execution_count": 8,
   "metadata": {},
   "outputs": [
    {
     "name": "stdout",
     "output_type": "stream",
     "text": [
      "Scaled within-class scatter matrix: 8x8\n"
     ]
    }
   ],
   "source": [
    "d = 8  # number of features\n",
    "S_W = np.zeros((d, d))\n",
    "for label, mv in zip(range(0, 2), mean_vecs):\n",
    "    class_scatter = np.cov(X_train_std[y_train == label].T)\n",
    "    S_W += class_scatter\n",
    "print(f'Scaled within-class scatter matrix: '\n",
    "      f'{S_W.shape[0]}x{S_W.shape[1]}')"
   ]
  },
  {
   "cell_type": "code",
   "execution_count": 9,
   "metadata": {},
   "outputs": [
    {
     "name": "stdout",
     "output_type": "stream",
     "text": [
      "Between-class scatter matrix: 8x8\n"
     ]
    }
   ],
   "source": [
    "mean_overall = np.mean(X_train_std, axis=0)\n",
    "mean_overall = mean_overall.reshape(d, 1)\n",
    "\n",
    "d = 8  # number of features\n",
    "S_B = np.zeros((d, d))\n",
    "for i, mean_vec in enumerate(mean_vecs):\n",
    "    n = X_train_std[y_train == i + 1, :].shape[0]\n",
    "    mean_vec = mean_vec.reshape(d, 1) # make column vector\n",
    "    S_B += n * (mean_vec - mean_overall).dot(\n",
    "        (mean_vec - mean_overall).T)\n",
    "print('Between-class scatter matrix: ' \n",
    "      f'{S_B.shape[0]}x{S_B.shape[1]}')"
   ]
  },
  {
   "cell_type": "markdown",
   "metadata": {},
   "source": [
    "**PASO 4: Cálculo de valores y vectores propios**"
   ]
  },
  {
   "cell_type": "code",
   "execution_count": 10,
   "metadata": {},
   "outputs": [],
   "source": [
    "eigen_vals, eigen_vecs =\\\n",
    "    np.linalg.eig(np.linalg.inv(S_W).dot(S_B))"
   ]
  },
  {
   "cell_type": "markdown",
   "metadata": {},
   "source": [
    "Al resolver la ecuación de valores propios para (S_W) ^ -1 * S_B, se obtienen vectores y valores propios que definen las direcciones y magnitudes de máxima separabilidad entre las clases.\n",
    "\n",
    "Los valores propios obtenidos indican la capacidad de separabilidad de cada dirección encontrada, donde un valor propio grande sugiere que su correspondiente vector propio proporciona una buena discriminación entre clases."
   ]
  },
  {
   "cell_type": "markdown",
   "metadata": {},
   "source": [
    "**PASO 5: Ordenación de los valores propios en orden decreciente**"
   ]
  },
  {
   "cell_type": "markdown",
   "metadata": {},
   "source": [
    "Los valores propios ordenados indican la importancia de cada dirección en términos de discriminabilidad, donde los valores más grandes muestran que las primeras direcciones seleccionadas en LDA capturan mejor la variabilidad entre clases, lo cual es útil para reducir dimensiones sin perder información importante."
   ]
  },
  {
   "cell_type": "code",
   "execution_count": 11,
   "metadata": {},
   "outputs": [
    {
     "name": "stdout",
     "output_type": "stream",
     "text": [
      "Eigenvalues in descending order:\n",
      "\n",
      "23.417121697885175\n",
      "7.929516926269009e-16\n",
      "7.929516926269009e-16\n",
      "4.46858337266712e-16\n",
      "3.1491929830047883e-16\n",
      "2.810786782083204e-16\n",
      "2.3761644051568856e-17\n",
      "0.0\n"
     ]
    }
   ],
   "source": [
    "eigen_pairs = [(np.abs(eigen_vals[i]), eigen_vecs[:, i]) \n",
    "               for i in range(len(eigen_vals))]\n",
    "eigen_pairs = sorted(eigen_pairs,\n",
    "                     key=lambda k: k[0], reverse=True)\n",
    "print('Eigenvalues in descending order:\\n')\n",
    "for eigen_val in eigen_pairs:\n",
    "    print(eigen_val[0])"
   ]
  },
  {
   "cell_type": "code",
   "execution_count": 12,
   "metadata": {},
   "outputs": [
    {
     "data": {
      "image/png": "[encoded data removed]",
      "text/plain": [
       "<Figure size 640x480 with 1 Axes>"
      ]
     },
     "metadata": {},
     "output_type": "display_data"
    }
   ],
   "source": [
    "tot = sum(eigen_vals.real)\n",
    "discr = [(i / tot) for i in sorted(eigen_vals.real,\n",
    "                                   reverse=True)]\n",
    "cum_discr = np.cumsum(discr)\n",
    "import matplotlib.pyplot as plt\n",
    "plt.bar(range(1, 9), discr, align='center',\n",
    "        label='Individual discriminability')\n",
    "plt.step(range(1, 9), cum_discr, where='mid',\n",
    "         label='Cumulative discriminability')\n",
    "plt.ylabel('\"Discriminability\" ratio')\n",
    "plt.xlabel('Linear Discriminants')\n",
    "plt.ylim([-0.1, 1.1])\n",
    "plt.legend(loc='best')\n",
    "plt.tight_layout()\n",
    "plt.show()"
   ]
  },
  {
   "cell_type": "markdown",
   "metadata": {},
   "source": [
    "**PASO 6: Selección de los vectores propios más grandes para construir la matriz de transformación**"
   ]
  },
  {
   "cell_type": "code",
   "execution_count": 13,
   "metadata": {},
   "outputs": [
    {
     "name": "stdout",
     "output_type": "stream",
     "text": [
      "Matrix W:\n",
      " [[-0.478  -0.7244]\n",
      " [-0.2027  0.2694]\n",
      " [-0.1163  0.2531]\n",
      " [-0.3161 -0.1459]\n",
      " [-0.1376  0.0678]\n",
      " [-0.7172  0.332 ]\n",
      " [ 0.2123 -0.0999]\n",
      " [ 0.1963  0.084 ]]\n"
     ]
    }
   ],
   "source": [
    "w = np.hstack((eigen_pairs[0][1][:, np.newaxis].real, \n",
    "               eigen_pairs[1][1][:, np.newaxis].real))\n",
    "print('Matrix W:\\n', w)"
   ]
  },
  {
   "cell_type": "markdown",
   "metadata": {},
   "source": [
    "Como se puede observar, la matriz de transformación W es de tamaño d x k, donde k es el número de dimensiones seleccionadas. Esto permite reducir el espacio de características y maximizar la discriminación entre clases en el espacio transformado."
   ]
  },
  {
   "cell_type": "markdown",
   "metadata": {},
   "source": [
    "**PASO 7: Proyección de las muestras en el nuevo subespacio usando la matriz de transformación**"
   ]
  },
  {
   "cell_type": "code",
   "execution_count": 14,
   "metadata": {},
   "outputs": [
    {
     "data": {
      "image/png": "[encoded data removed]",
      "text/plain": [
       "<Figure size 640x480 with 1 Axes>"
      ]
     },
     "metadata": {},
     "output_type": "display_data"
    }
   ],
   "source": [
    "X_train_lda = X_train_std.dot(w)\n",
    "colors = ['r', 'b', 'g']\n",
    "markers = ['o', 's', '^']\n",
    "for l, c, m in zip(np.unique(y_train), colors, markers):\n",
    "    plt.scatter(X_train_lda[y_train==l, 0],\n",
    "                X_train_lda[y_train==l, 1], # * (-1)\n",
    "                c=c, label=f'Class {l}', marker=m)\n",
    "plt.xlabel('LD 1')\n",
    "plt.ylabel('LD 2')\n",
    "plt.legend(loc='lower right')\n",
    "plt.tight_layout()\n",
    "plt.show()"
   ]
  },
  {
   "cell_type": "markdown",
   "metadata": {},
   "source": [
    "Como se puede observar en el gráfico resultante, las clases deberían aparecer separadas si LDA ha capturado bien las diferencias entre ellas, donde una buena separación visual en las primeras dos componentes discriminantes sugiere que el subespacio reducido es efectivo para clasificar las clases."
   ]
  },
  {
   "cell_type": "markdown",
   "metadata": {},
   "source": [
    "**Clasificación y visualización de las regiones de decisión en el subespacio LDA**"
   ]
  },
  {
   "cell_type": "markdown",
   "metadata": {},
   "source": [
    "Se entrena un clasificador de Regresión Logística en el subespacio LDA y se visualizan las regiones de decisión tanto para el conjunto de entrenamiento como para el conjunto de prueba."
   ]
  },
  {
   "cell_type": "code",
   "execution_count": 15,
   "metadata": {},
   "outputs": [],
   "source": [
    "from matplotlib.colors import ListedColormap\n",
    "def plot_decision_regions(X, y, classifier, test_idx=None, resolution=0.02):\n",
    "\n",
    "    # setup marker generator and color map\n",
    "    markers = ('o', 's', '^', 'v', '<')\n",
    "    colors = ('red', 'blue', 'lightgreen', 'gray', 'cyan')\n",
    "    cmap = ListedColormap(colors[:len(np.unique(y))])\n",
    "\n",
    "    # plot the decision surface\n",
    "    x1_min, x1_max = X[:, 0].min() - 1, X[:, 0].max() + 1\n",
    "    x2_min, x2_max = X[:, 1].min() - 1, X[:, 1].max() + 1\n",
    "    xx1, xx2 = np.meshgrid(np.arange(x1_min, x1_max, resolution),\n",
    "                           np.arange(x2_min, x2_max, resolution))\n",
    "    lab = classifier.predict(np.array([xx1.ravel(), xx2.ravel()]).T)\n",
    "    lab = lab.reshape(xx1.shape)\n",
    "    plt.contourf(xx1, xx2, lab, alpha=0.3, cmap=cmap)\n",
    "    plt.xlim(xx1.min(), xx1.max())\n",
    "    plt.ylim(xx2.min(), xx2.max())\n",
    "\n",
    "    # plot class examples\n",
    "    for idx, cl in enumerate(np.unique(y)):\n",
    "        plt.scatter(x=X[y == cl, 0],\n",
    "        y=X[y == cl, 1],\n",
    "        alpha=0.8,\n",
    "        c=colors[idx],\n",
    "        marker=markers[idx],\n",
    "        label=f'Class {cl}',\n",
    "        edgecolor='black')"
   ]
  },
  {
   "cell_type": "code",
   "execution_count": 16,
   "metadata": {},
   "outputs": [],
   "source": [
    "# the following import statement is one line\n",
    "# from sklearn.linear_model import LogisticRegression\n",
    "# from sklearn.discriminant_analysis import LinearDiscriminantAnalysis as LDA\n",
    "# lda = LDA(n_components=1)\n",
    "# X_train_lda = lda.fit_transform(X_train_std, y_train)\n",
    "# lr = LogisticRegression(multi_class='ovr', random_state=1, \n",
    "#                         solver='lbfgs')\n",
    "# lr = lr.fit(X_train_lda, y_train)\n",
    "# plot_decision_regions(X_train_lda, y_train, classifier=lr)\n",
    "# plt.xlabel('LD 1')\n",
    "# plt.ylabel('LD 2')\n",
    "# plt.legend(loc='lower left')\n",
    "# plt.tight_layout()\n",
    "# plt.show()"
   ]
  },
  {
   "cell_type": "code",
   "execution_count": 17,
   "metadata": {},
   "outputs": [],
   "source": [
    "# X_test_lda = lda.transform(X_test_std)\n",
    "# plot_decision_regions(X_test_lda, y_test, classifier=lr)\n",
    "# plt.xlabel('LD 1')\n",
    "# plt.ylabel('LD 2')\n",
    "# plt.legend(loc='lower left')\n",
    "# plt.tight_layout()\n",
    "# plt.show()"
   ]
  }
 ],
 "metadata": {
  "kernelspec": {
   "display_name": "Python 3",
   "language": "python",
   "name": "python3"
  },
  "language_info": {
   "codemirror_mode": {
    "name": "ipython",
    "version": 3
   },
   "file_extension": ".py",
   "mimetype": "text/x-python",
   "name": "python",
   "nbconvert_exporter": "python",
   "pygments_lexer": "ipython3",
   "version": "3.9.20"
  }
 },
 "nbformat": 4,
 "nbformat_minor": 2
}
