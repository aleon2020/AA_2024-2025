{
 "cells": [
  {
   "cell_type": "markdown",
   "metadata": {},
   "source": [
    "# Machine Learning with PyTorch and Scikit-Learn  \n",
    "# -- Code Examples"
   ]
  },
  {
   "cell_type": "markdown",
   "metadata": {},
   "source": [
    "## Package version checks"
   ]
  },
  {
   "cell_type": "markdown",
   "metadata": {},
   "source": [
    "Add folder to path in order to load from the check_packages.py script:"
   ]
  },
  {
   "cell_type": "code",
   "execution_count": 67,
   "metadata": {},
   "outputs": [],
   "source": [
    "# * import sys\n",
    "# Import the sys module, which is a Python standard library module.\n",
    "# This module provides access to variables and functions that interact strongly with the\n",
    "# Python interpreter, such as manipulating module search path and input/output\n",
    "# standard, among others.\n",
    "# * sys.path\n",
    "# It is a list containing the paths in which the Python interpreter looks for modules when\n",
    "# you use import. When you try to import a module, Python searches the paths specified in this\n",
    "# list.\n",
    "# * sys.path.insert(0, '..')\n",
    "# Insert the path '..' (representing the parent directory) at the beginning of the sys.path list.\n",
    "# Adding it in position 0 ensures that when Python looks for modules to import,\n",
    "# first check in the parent directory before continuing with the default paths.\n",
    "\n",
    "import sys\n",
    "sys.path.insert(0, '..')"
   ]
  },
  {
   "cell_type": "markdown",
   "metadata": {},
   "source": [
    "Check recommended package versions:"
   ]
  },
  {
   "cell_type": "code",
   "execution_count": 68,
   "metadata": {},
   "outputs": [
    {
     "name": "stdout",
     "output_type": "stream",
     "text": [
      "[OK] numpy 1.26.3\n",
      "[OK] matplotlib 3.9.2\n",
      "[OK] sklearn 1.5.2\n"
     ]
    }
   ],
   "source": [
    "# * from python_environment_check import check_packages\n",
    "# Import the check_packages function from the python_environment_check module. \n",
    "# This module, from its name, appears to be designed to verify that the Python environment \n",
    "# have the correct versions of certain packages installed.\n",
    "# * d = {...}\n",
    "# Defines a dictionary d that contains the names of several packages as keys \n",
    "# (e.g. numpy, scipy, matplotlib, etc.) and as values ​​the minimum versions \n",
    "# required from those packages.\n",
    "# * check_packages(d)\n",
    "# The check_packages function takes as input the dictionary d and probably performs a \n",
    "# check on current Python environment to ensure installed versions \n",
    "# of these packages are at least those specified in the dictionary. If any of the packages \n",
    "# is not installed or has the wrong version, the function may throw an error or \n",
    "# suggest installing/updating the packages.\n",
    "\n",
    "from python_environment_check import check_packages\n",
    "d = {\n",
    "    'numpy': '1.21.2',\n",
    "    'matplotlib': '3.4.3',\n",
    "    'sklearn': '1.0',\n",
    "}\n",
    "check_packages(d)"
   ]
  },
  {
   "cell_type": "markdown",
   "metadata": {},
   "source": [
    "# Example 16 - Neural Network Exercise"
   ]
  },
  {
   "cell_type": "markdown",
   "metadata": {},
   "source": [
    "### Overview"
   ]
  },
  {
   "cell_type": "markdown",
   "metadata": {},
   "source": [
    "- [Importing libraries for data analysis and scaling](#importing-libraries-for-data-analysis-and-scaling)\n",
    "- [Extracting the principal components step by step](#extracting-the-principal-components-step-by-step)\n",
    "- [Obtaining and preparing the MNIST dataset](#obtaining-and-preparing-the-mnist-dataset)\n",
    "- [Implementing a multi-layer perceptron](#implementing-a-multi-layer-perceptron)\n",
    "- [Coding the neural network training loop](#coding-the-neural-network-training-loop)\n",
    "- [Evaluating the neural network performance](#evaluating-the-neural-network-performance)\n",
    "- [Summary](#summary)"
   ]
  },
  {
   "cell_type": "code",
   "execution_count": 69,
   "metadata": {},
   "outputs": [],
   "source": [
    "# * from IPython.display\n",
    "# Import from the display submodule of the IPython package. This module is designed to display \n",
    "# and render different types of data within interactive environments, such as Jupyter Notebooks.\n",
    "# * import Image\n",
    "# Import the Image class from the display module. The Image class is used to display \n",
    "# images in the interactive environment (for example, in a Jupyter Notebook cell).\n",
    "# * %matplotlib inline\n",
    "# This is a magic command specific to IPython/Jupyter Notebook.\n",
    "# Enables display of matplotlib plots directly within cells of the \n",
    "# notebook. Graphics are rendered \"inline\" (within the same notebook) without the need \n",
    "# to open pop-up windows.\n",
    "\n",
    "from IPython.display import Image\n",
    "%matplotlib inline"
   ]
  },
  {
   "cell_type": "markdown",
   "metadata": {},
   "source": [
    "## Importing libraries for data analysis and scaling"
   ]
  },
  {
   "cell_type": "code",
   "execution_count": 70,
   "metadata": {},
   "outputs": [],
   "source": [
    "import numpy as np\n",
    "import matplotlib.pyplot as plt\n",
    "from sklearn.datasets import fetch_openml\n",
    "from sklearn.model_selection import train_test_split\n",
    "import pandas as pd\n",
    "from sklearn.preprocessing import StandardScaler"
   ]
  },
  {
   "cell_type": "markdown",
   "metadata": {},
   "source": [
    "## Extracting the principal components step by step"
   ]
  },
  {
   "cell_type": "code",
   "execution_count": 71,
   "metadata": {},
   "outputs": [],
   "source": [
    "# Download the wine dataset from the UCI Machine Learning Repository\n",
    "df = pd.read_csv('dataset1.csv')"
   ]
  },
  {
   "cell_type": "code",
   "execution_count": 72,
   "metadata": {},
   "outputs": [
    {
     "data": {
      "text/html": [
       "<div>\n",
       "<style scoped>\n",
       "    .dataframe tbody tr th:only-of-type {\n",
       "        vertical-align: middle;\n",
       "    }\n",
       "\n",
       "    .dataframe tbody tr th {\n",
       "        vertical-align: top;\n",
       "    }\n",
       "\n",
       "    .dataframe thead th {\n",
       "        text-align: right;\n",
       "    }\n",
       "</style>\n",
       "<table border=\"1\" class=\"dataframe\">\n",
       "  <thead>\n",
       "    <tr style=\"text-align: right;\">\n",
       "      <th></th>\n",
       "      <th>Col7</th>\n",
       "      <th>Col5</th>\n",
       "      <th>Col2</th>\n",
       "      <th>Col4</th>\n",
       "      <th>Col8</th>\n",
       "      <th>Col3</th>\n",
       "      <th>Col6</th>\n",
       "      <th>Col1</th>\n",
       "      <th>Target</th>\n",
       "    </tr>\n",
       "  </thead>\n",
       "  <tbody>\n",
       "    <tr>\n",
       "      <th>0</th>\n",
       "      <td>20.8</td>\n",
       "      <td>0.733</td>\n",
       "      <td>48</td>\n",
       "      <td>9</td>\n",
       "      <td>22</td>\n",
       "      <td>120</td>\n",
       "      <td>72</td>\n",
       "      <td>56</td>\n",
       "      <td>0</td>\n",
       "    </tr>\n",
       "    <tr>\n",
       "      <th>1</th>\n",
       "      <td>32.0</td>\n",
       "      <td>0.444</td>\n",
       "      <td>42</td>\n",
       "      <td>1</td>\n",
       "      <td>29</td>\n",
       "      <td>100</td>\n",
       "      <td>66</td>\n",
       "      <td>196</td>\n",
       "      <td>0</td>\n",
       "    </tr>\n",
       "    <tr>\n",
       "      <th>2</th>\n",
       "      <td>34.8</td>\n",
       "      <td>0.217</td>\n",
       "      <td>24</td>\n",
       "      <td>1</td>\n",
       "      <td>45</td>\n",
       "      <td>112</td>\n",
       "      <td>80</td>\n",
       "      <td>132</td>\n",
       "      <td>0</td>\n",
       "    </tr>\n",
       "    <tr>\n",
       "      <th>3</th>\n",
       "      <td>31.0</td>\n",
       "      <td>0.874</td>\n",
       "      <td>21</td>\n",
       "      <td>0</td>\n",
       "      <td>16</td>\n",
       "      <td>113</td>\n",
       "      <td>80</td>\n",
       "      <td>0</td>\n",
       "      <td>0</td>\n",
       "    </tr>\n",
       "    <tr>\n",
       "      <th>4</th>\n",
       "      <td>26.2</td>\n",
       "      <td>0.313</td>\n",
       "      <td>41</td>\n",
       "      <td>6</td>\n",
       "      <td>30</td>\n",
       "      <td>80</td>\n",
       "      <td>66</td>\n",
       "      <td>0</td>\n",
       "      <td>0</td>\n",
       "    </tr>\n",
       "  </tbody>\n",
       "</table>\n",
       "</div>"
      ],
      "text/plain": [
       "   Col7   Col5  Col2  Col4  Col8  Col3  Col6  Col1  Target\n",
       "0  20.8  0.733    48     9    22   120    72    56       0\n",
       "1  32.0  0.444    42     1    29   100    66   196       0\n",
       "2  34.8  0.217    24     1    45   112    80   132       0\n",
       "3  31.0  0.874    21     0    16   113    80     0       0\n",
       "4  26.2  0.313    41     6    30    80    66     0       0"
      ]
     },
     "execution_count": 72,
     "metadata": {},
     "output_type": "execute_result"
    }
   ],
   "source": [
    "# Show the first five rows of the dataset\n",
    "df.head()"
   ]
  },
  {
   "cell_type": "code",
   "execution_count": 73,
   "metadata": {},
   "outputs": [
    {
     "data": {
      "text/plain": [
       "(768, 9)"
      ]
     },
     "execution_count": 73,
     "metadata": {},
     "output_type": "execute_result"
    }
   ],
   "source": [
    "# Show the shape of the dataset\n",
    "df.shape"
   ]
  },
  {
   "cell_type": "code",
   "execution_count": 74,
   "metadata": {},
   "outputs": [],
   "source": [
    "# Splitting the dataset into features and target variable\n",
    "X, y = df.iloc[:, 0:-1].values, df.iloc[:, -1].values # Target variable is the first column"
   ]
  },
  {
   "cell_type": "markdown",
   "metadata": {},
   "source": [
    "## Obtaining and preparing the MNIST dataset"
   ]
  },
  {
   "cell_type": "markdown",
   "metadata": {},
   "source": [
    "Split into training, validation, and test set:"
   ]
  },
  {
   "cell_type": "code",
   "execution_count": 75,
   "metadata": {},
   "outputs": [
    {
     "name": "stdout",
     "output_type": "stream",
     "text": [
      "(521, 8)\n",
      "(521,)\n",
      "(131, 8)\n",
      "(131,)\n",
      "(116, 8)\n",
      "(116,)\n"
     ]
    }
   ],
   "source": [
    "# Split into training, validation, and test sets\n",
    "X_temp, X_test, y_temp, y_test = train_test_split(\n",
    "    X, y, test_size=0.15, random_state=123, stratify=y)\n",
    "\n",
    "X_train, X_valid, y_train, y_valid = train_test_split(\n",
    "    X_temp, y_temp, test_size=0.2, random_state=123, stratify=y_temp)\n",
    "\n",
    "sc = StandardScaler()\n",
    "X_train = sc.fit_transform(X_train)\n",
    "X_valid = sc.transform(X_valid)\n",
    "X_test = sc.transform(X_test)\n",
    "\n",
    "# optional to free up some memory by deleting non-used arrays\n",
    "del X_temp, y_temp, X, y\n",
    "\n",
    "print(X_train.shape)\n",
    "print(y_train.shape)\n",
    "print(X_valid.shape)\n",
    "print(y_valid.shape)\n",
    "print(X_test.shape)\n",
    "print(y_test.shape)"
   ]
  },
  {
   "cell_type": "markdown",
   "metadata": {},
   "source": [
    "## Implementing a multi-layer perceptron"
   ]
  },
  {
   "cell_type": "code",
   "execution_count": 76,
   "metadata": {},
   "outputs": [],
   "source": [
    "# Sigmoid activation function\n",
    "def sigmoid(z):                                        \n",
    "    return 1. / (1. + np.exp(-z))"
   ]
  },
  {
   "cell_type": "code",
   "execution_count": 77,
   "metadata": {},
   "outputs": [],
   "source": [
    "# Int to one-hot encoding function\n",
    "def int_to_onehot(y, num_labels):\n",
    "\n",
    "    ary = np.zeros((y.shape[0], num_labels))\n",
    "    for i, val in enumerate(y):\n",
    "        ary[i, val] = 1\n",
    "\n",
    "    return ary"
   ]
  },
  {
   "cell_type": "code",
   "execution_count": 78,
   "metadata": {},
   "outputs": [],
   "source": [
    "# MLP neural network class\n",
    "class NeuralNetMLP:\n",
    "\n",
    "    def __init__(self, num_features, num_hidden, num_classes, random_seed=123):\n",
    "        super().__init__()\n",
    "        \n",
    "        self.num_classes = num_classes\n",
    "        \n",
    "        # hidden\n",
    "        rng = np.random.RandomState(random_seed)\n",
    "        \n",
    "        self.weight_h = rng.normal(\n",
    "            loc=0.0, scale=0.1, size=(num_hidden, num_features))\n",
    "        self.bias_h = np.zeros(num_hidden)\n",
    "        \n",
    "        # output\n",
    "        self.weight_out = rng.normal(\n",
    "            loc=0.0, scale=0.1, size=(num_classes, num_hidden))\n",
    "        self.bias_out = np.zeros(num_classes)\n",
    "        \n",
    "    def forward(self, x):\n",
    "        # Hidden layer\n",
    "        # input dim: [n_examples, n_features] dot [n_hidden, n_features].T\n",
    "        # output dim: [n_examples, n_hidden]\n",
    "        z_h = np.dot(x, self.weight_h.T) + self.bias_h\n",
    "        a_h = sigmoid(z_h)\n",
    "\n",
    "        # Output layer\n",
    "        # input dim: [n_examples, n_hidden] dot [n_classes, n_hidden].T\n",
    "        # output dim: [n_examples, n_classes]\n",
    "        z_out = np.dot(a_h, self.weight_out.T) + self.bias_out\n",
    "        a_out = sigmoid(z_out)\n",
    "        return a_h, a_out\n",
    "\n",
    "    def backward(self, x, a_h, a_out, y):  \n",
    "    \n",
    "        #########################\n",
    "        ### Output layer weights\n",
    "        #########################\n",
    "        \n",
    "        # onehot encoding\n",
    "        y_onehot = int_to_onehot(y, self.num_classes)\n",
    "\n",
    "        # Part 1: dLoss/dOutWeights\n",
    "        ## = dLoss/dOutAct * dOutAct/dOutNet * dOutNet/dOutWeight\n",
    "        ## where DeltaOut = dLoss/dOutAct * dOutAct/dOutNet\n",
    "        ## for convenient re-use\n",
    "        \n",
    "        # input/output dim: [n_examples, n_classes]\n",
    "        d_loss__d_a_out = 2.*(a_out - y_onehot) / y.shape[0]\n",
    "\n",
    "        # input/output dim: [n_examples, n_classes]\n",
    "        d_a_out__d_z_out = a_out * (1. - a_out) # sigmoid derivative\n",
    "\n",
    "        # output dim: [n_examples, n_classes]\n",
    "        delta_out = d_loss__d_a_out * d_a_out__d_z_out # \"delta (rule) placeholder\"\n",
    "\n",
    "        # gradient for output weights\n",
    "        \n",
    "        # [n_examples, n_hidden]\n",
    "        d_z_out__dw_out = a_h\n",
    "        \n",
    "        # input dim: [n_classes, n_examples] dot [n_examples, n_hidden]\n",
    "        # output dim: [n_classes, n_hidden]\n",
    "        d_loss__dw_out = np.dot(delta_out.T, d_z_out__dw_out)\n",
    "        d_loss__db_out = np.sum(delta_out, axis=0)\n",
    "        \n",
    "\n",
    "        #################################        \n",
    "        # Part 2: dLoss/dHiddenWeights\n",
    "        ## = DeltaOut * dOutNet/dHiddenAct * dHiddenAct/dHiddenNet * dHiddenNet/dWeight\n",
    "        \n",
    "        # [n_classes, n_hidden]\n",
    "        d_z_out__a_h = self.weight_out\n",
    "        \n",
    "        # output dim: [n_examples, n_hidden]\n",
    "        d_loss__a_h = np.dot(delta_out, d_z_out__a_h)\n",
    "        \n",
    "        # [n_examples, n_hidden]\n",
    "        d_a_h__d_z_h = a_h * (1. - a_h) # sigmoid derivative\n",
    "        \n",
    "        # [n_examples, n_features]\n",
    "        d_z_h__d_w_h = x\n",
    "        \n",
    "        # output dim: [n_hidden, n_features]\n",
    "        d_loss__d_w_h = np.dot((d_loss__a_h * d_a_h__d_z_h).T, d_z_h__d_w_h)\n",
    "        d_loss__d_b_h = np.sum((d_loss__a_h * d_a_h__d_z_h), axis=0)\n",
    "\n",
    "        return (d_loss__dw_out, d_loss__db_out, \n",
    "                d_loss__d_w_h, d_loss__d_b_h)"
   ]
  },
  {
   "cell_type": "code",
   "execution_count": 79,
   "metadata": {},
   "outputs": [],
   "source": [
    "# Create a MLP object with 50 hidden units and 10 output units\n",
    "model = NeuralNetMLP(num_features=8,\n",
    "                     num_hidden=24,\n",
    "                     num_classes=2)"
   ]
  },
  {
   "cell_type": "markdown",
   "metadata": {},
   "source": [
    "## Coding the neural network training loop"
   ]
  },
  {
   "cell_type": "markdown",
   "metadata": {},
   "source": [
    "Defining data loaders:"
   ]
  },
  {
   "cell_type": "code",
   "execution_count": 80,
   "metadata": {},
   "outputs": [],
   "source": [
    "# Mini-batch generator function\n",
    "def minibatch_generator(X, y, minibatch_size):\n",
    "    indices = np.arange(X.shape[0])\n",
    "    np.random.shuffle(indices)\n",
    "\n",
    "    for start_idx in range(0, indices.shape[0] - minibatch_size \n",
    "                           + 1, minibatch_size):\n",
    "        batch_idx = indices[start_idx:start_idx + minibatch_size]\n",
    "        \n",
    "        yield X[batch_idx], y[batch_idx]"
   ]
  },
  {
   "cell_type": "markdown",
   "metadata": {},
   "source": [
    "Defining a function to compute the loss and accuracy"
   ]
  },
  {
   "cell_type": "code",
   "execution_count": 81,
   "metadata": {},
   "outputs": [],
   "source": [
    "# Define a function to compute the loss and accuracy\n",
    "def mse_loss(targets, probas, num_labels=2):\n",
    "    onehot_targets = int_to_onehot(targets, num_labels=num_labels)\n",
    "    return np.mean((onehot_targets - probas)**2)\n",
    "\n",
    "def accuracy(targets, predicted_labels):\n",
    "    return np.mean(predicted_labels == targets)\n",
    "\n",
    "def compute_mse_and_acc(nnet, X, y, num_labels=2, minibatch_size=10):\n",
    "    mse, correct_pred, num_examples = 0., 0, 0\n",
    "    minibatch_gen = minibatch_generator(X, y, minibatch_size)\n",
    "        \n",
    "    for i, (features, targets) in enumerate(minibatch_gen):\n",
    "\n",
    "        _, probas = nnet.forward(features)\n",
    "        predicted_labels = np.argmax(probas, axis=1)\n",
    "        \n",
    "        onehot_targets = int_to_onehot(targets, num_labels=num_labels)\n",
    "        loss = np.mean((onehot_targets - probas)**2)\n",
    "        correct_pred += (predicted_labels == targets).sum()\n",
    "        \n",
    "        num_examples += targets.shape[0]\n",
    "        mse += loss\n",
    "\n",
    "    mse = mse/(i+1)\n",
    "    acc = correct_pred/num_examples\n",
    "    return mse, acc"
   ]
  },
  {
   "cell_type": "code",
   "execution_count": 82,
   "metadata": {},
   "outputs": [],
   "source": [
    "# Train function\n",
    "def train(model, X_train, y_train, X_valid, y_valid, \n",
    "          num_epochs, minibatch_size, learning_rate=0.1):\n",
    "    \n",
    "    epoch_train_loss = []\n",
    "    epoch_valid_loss = []\n",
    "    epoch_train_acc = []\n",
    "    epoch_valid_acc = []\n",
    "    \n",
    "    for e in range(num_epochs):\n",
    "\n",
    "        # iterate over minibatches\n",
    "        minibatch_gen = minibatch_generator(\n",
    "            X_train, y_train, minibatch_size)\n",
    "\n",
    "        for X_train_mini, y_train_mini in minibatch_gen:\n",
    "            \n",
    "            #### Compute outputs ####\n",
    "            a_h, a_out = model.forward(X_train_mini)\n",
    "\n",
    "            #### Compute gradients ####\n",
    "            d_loss__d_w_out, d_loss__d_b_out, d_loss__d_w_h, d_loss__d_b_h = \\\n",
    "                model.backward(X_train_mini, a_h, a_out, y_train_mini)\n",
    "\n",
    "            #### Update weights ####\n",
    "            model.weight_h -= learning_rate * d_loss__d_w_h\n",
    "            model.bias_h -= learning_rate * d_loss__d_b_h\n",
    "            model.weight_out -= learning_rate * d_loss__d_w_out\n",
    "            model.bias_out -= learning_rate * d_loss__d_b_out\n",
    "        \n",
    "        #### Epoch Logging ####        \n",
    "        train_mse, train_acc = compute_mse_and_acc(model, X_train, y_train)\n",
    "        valid_mse, valid_acc = compute_mse_and_acc(model, X_valid, y_valid)\n",
    "        train_acc, valid_acc = train_acc*100, valid_acc*100\n",
    "        epoch_train_acc.append(train_acc)\n",
    "        epoch_valid_acc.append(valid_acc)\n",
    "        epoch_train_loss.append(train_mse)\n",
    "        epoch_valid_loss.append(valid_mse)\n",
    "        print(f'Epoch: {e+1:03d}/{num_epochs:03d} '\n",
    "              f'| Train MSE: {train_mse:.2f} '\n",
    "              f'| Train Acc: {train_acc:.2f}% '\n",
    "              f'| Valid MSE: {valid_mse:.2f} '\n",
    "              f'| Valid Acc: {valid_acc:.2f}%')\n",
    "\n",
    "    return epoch_train_loss, epoch_valid_loss, epoch_train_acc, epoch_valid_acc"
   ]
  },
  {
   "cell_type": "code",
   "execution_count": 83,
   "metadata": {},
   "outputs": [
    {
     "name": "stdout",
     "output_type": "stream",
     "text": [
      "Epoch: 001/010 | Train MSE: 0.23 | Train Acc: 65.00% | Valid MSE: 0.23 | Valid Acc: 64.62%\n",
      "Epoch: 002/010 | Train MSE: 0.22 | Train Acc: 65.19% | Valid MSE: 0.22 | Valid Acc: 64.62%\n",
      "Epoch: 003/010 | Train MSE: 0.22 | Train Acc: 65.00% | Valid MSE: 0.21 | Valid Acc: 65.38%\n",
      "Epoch: 004/010 | Train MSE: 0.21 | Train Acc: 65.19% | Valid MSE: 0.21 | Valid Acc: 65.38%\n",
      "Epoch: 005/010 | Train MSE: 0.20 | Train Acc: 65.38% | Valid MSE: 0.20 | Valid Acc: 66.92%\n",
      "Epoch: 006/010 | Train MSE: 0.19 | Train Acc: 66.35% | Valid MSE: 0.19 | Valid Acc: 68.46%\n",
      "Epoch: 007/010 | Train MSE: 0.19 | Train Acc: 73.65% | Valid MSE: 0.18 | Valid Acc: 76.92%\n",
      "Epoch: 008/010 | Train MSE: 0.18 | Train Acc: 74.62% | Valid MSE: 0.17 | Valid Acc: 77.69%\n",
      "Epoch: 009/010 | Train MSE: 0.18 | Train Acc: 75.00% | Valid MSE: 0.17 | Valid Acc: 76.92%\n",
      "Epoch: 010/010 | Train MSE: 0.17 | Train Acc: 75.19% | Valid MSE: 0.16 | Valid Acc: 78.46%\n"
     ]
    }
   ],
   "source": [
    "# Train the model\n",
    "\n",
    "np.random.seed(123) # for the training set shuffling\n",
    "\n",
    "epoch_train_loss, epoch_valid_loss, epoch_train_acc, epoch_valid_acc = train(\n",
    "    model, X_train, y_train, X_valid, y_valid,\n",
    "    num_epochs=10, minibatch_size=10,learning_rate=0.1)"
   ]
  },
  {
   "cell_type": "markdown",
   "metadata": {},
   "source": [
    "## Evaluating the neural network performance"
   ]
  },
  {
   "cell_type": "code",
   "execution_count": 84,
   "metadata": {},
   "outputs": [
    {
     "data": {
      "image/png": "[encoded data removed]",
      "text/plain": [
       "<Figure size 640x480 with 1 Axes>"
      ]
     },
     "metadata": {},
     "output_type": "display_data"
    }
   ],
   "source": [
    "# Plot the training and validation loss\n",
    "plt.plot(range(len(epoch_train_loss)), epoch_train_loss, label='training')\n",
    "plt.plot(range(len(epoch_valid_loss)), epoch_valid_loss, label='Validation')\n",
    "plt.ylabel('Mean Squared Error')\n",
    "plt.xlabel('Epoch')\n",
    "plt.show()"
   ]
  },
  {
   "cell_type": "code",
   "execution_count": 85,
   "metadata": {},
   "outputs": [
    {
     "data": {
      "image/png": "[encoded data removed]",
      "text/plain": [
       "<Figure size 640x480 with 1 Axes>"
      ]
     },
     "metadata": {},
     "output_type": "display_data"
    }
   ],
   "source": [
    "# Plot the training and validation accuracy\n",
    "plt.plot(range(len(epoch_train_acc)), epoch_train_acc, label='Training')\n",
    "plt.plot(range(len(epoch_valid_acc)), epoch_valid_acc, label='Validation')\n",
    "plt.ylabel('Accuracy')\n",
    "plt.xlabel('Epochs')\n",
    "plt.legend(loc='lower right')\n",
    "plt.show()"
   ]
  },
  {
   "cell_type": "code",
   "execution_count": 86,
   "metadata": {},
   "outputs": [
    {
     "name": "stdout",
     "output_type": "stream",
     "text": [
      "Test accuracy: 81.82%\n"
     ]
    }
   ],
   "source": [
    "# Compute the test accuracy\n",
    "test_mse, test_acc = compute_mse_and_acc(model, X_test, y_test)\n",
    "print(f'Test accuracy: {test_acc*100:.2f}%')"
   ]
  },
  {
   "cell_type": "markdown",
   "metadata": {},
   "source": [
    "# Summary"
   ]
  },
  {
   "cell_type": "markdown",
   "metadata": {},
   "source": [
    "---\n",
    "\n",
    "Readers may ignore the next cell."
   ]
  },
  {
   "cell_type": "code",
   "execution_count": 87,
   "metadata": {},
   "outputs": [
    {
     "name": "stdout",
     "output_type": "stream",
     "text": [
      "[NbConvertApp] Converting notebook ex16.ipynb to script\n",
      "[NbConvertApp] Writing 14275 bytes to ex16.py\n"
     ]
    }
   ],
   "source": [
    "# Run a command in the terminal from a Python environment (such as a Jupyter Notebook or a \n",
    "# script that allows system commands to convert a Jupyter notebook to a file Python script. \n",
    "# * !\n",
    "# This symbol is used in environments such as Jupyter Notebooks to execute system commands \n",
    "# operational directly from the notebook. In this case, the command is an execution of a \n",
    "# Python Script.\n",
    "# * python ../.convert_notebook_to_script.py\n",
    "# This command runs a Python script called convert_notebook_to_script.py. This file \n",
    "# is located in the previous directory (../ indicates that it is one level up in the system \n",
    "# files). The purpose of this script is to convert a Jupyter notebook (.ipynb) into a \n",
    "# Python script file (.py).\n",
    "# * --input ex16.ipynb\n",
    "# This is an option or argument that tells the script what the input file is, in this \n",
    "# case, the notebook ex16.ipynb.\n",
    "# * --output ex16.py\n",
    "# This option tells the script to save the output (the converted file) with the name\n",
    "# ex16.py, which is a Python script.\n",
    "\n",
    "! python ../.convert_notebook_to_script.py --input ex16.ipynb --output ex16.py"
   ]
  }
 ],
 "metadata": {
  "kernelspec": {
   "display_name": "KITTS-prosody2",
   "language": "python",
   "name": "python3"
  },
  "language_info": {
   "codemirror_mode": {
    "name": "ipython",
    "version": 3
   },
   "file_extension": ".py",
   "mimetype": "text/x-python",
   "name": "python",
   "nbconvert_exporter": "python",
   "pygments_lexer": "ipython3",
   "version": "3.9.20"
  }
 },
 "nbformat": 4,
 "nbformat_minor": 2
}
