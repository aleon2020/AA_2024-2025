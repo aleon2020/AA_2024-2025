{
 "cells": [
  {
   "cell_type": "markdown",
   "metadata": {},
   "source": [
    "# Machine Learning with PyTorch and Scikit-Learn  \n",
    "# -- Code Examples"
   ]
  },
  {
   "cell_type": "markdown",
   "metadata": {},
   "source": [
    "## Package version checks"
   ]
  },
  {
   "cell_type": "markdown",
   "metadata": {},
   "source": [
    "Add folder to path in order to load from the check_packages.py script:"
   ]
  },
  {
   "cell_type": "code",
   "execution_count": 5,
   "metadata": {},
   "outputs": [],
   "source": [
    "# * import sys\n",
    "# Import the sys module, which is a Python standard library module.\n",
    "# This module provides access to variables and functions that interact strongly with the\n",
    "# Python interpreter, such as manipulating module search path and input/output\n",
    "# standard, among others.\n",
    "# * sys.path\n",
    "# It is a list containing the paths in which the Python interpreter looks for modules when\n",
    "# you use import. When you try to import a module, Python searches the paths specified in this\n",
    "# list.\n",
    "# * sys.path.insert(0, '..')\n",
    "# Insert the path '..' (representing the parent directory) at the beginning of the sys.path list.\n",
    "# Adding it in position 0 ensures that when Python looks for modules to import,\n",
    "# first check in the parent directory before continuing with the default paths.\n",
    "\n",
    "import sys\n",
    "sys.path.insert(0, '..')"
   ]
  },
  {
   "cell_type": "markdown",
   "metadata": {},
   "source": [
    "Check recommended package versions:"
   ]
  },
  {
   "cell_type": "code",
   "execution_count": 6,
   "metadata": {},
   "outputs": [
    {
     "name": "stdout",
     "output_type": "stream",
     "text": [
      "[OK] numpy 1.24.3\n",
      "[OK] matplotlib 3.5.1\n",
      "[OK] sklearn 1.5.2\n",
      "[OK] pandas 2.2.2\n"
     ]
    }
   ],
   "source": [
    "# * from python_environment_check import check_packages\n",
    "# Import the check_packages function from the python_environment_check module. \n",
    "# This module, from its name, appears to be designed to verify that the Python environment \n",
    "# have the correct versions of certain packages installed.\n",
    "# * d = {...}\n",
    "# Defines a dictionary d that contains the names of several packages as keys \n",
    "# (e.g. numpy, scipy, matplotlib, etc.) and as values ​​the minimum versions \n",
    "# required from those packages.\n",
    "# * check_packages(d)\n",
    "# The check_packages function takes as input the dictionary d and probably performs a \n",
    "# check on current Python environment to ensure installed versions \n",
    "# of these packages are at least those specified in the dictionary. If any of the packages \n",
    "# is not installed or has the wrong version, the function may throw an error or \n",
    "# suggest installing/updating the packages.\n",
    "\n",
    "from python_environment_check import check_packages\n",
    "d = {\n",
    "    'numpy': '1.21.2',\n",
    "    'matplotlib': '3.4.3',\n",
    "    'sklearn': '1.0',\n",
    "    'pandas': '1.3.2'\n",
    "}\n",
    "check_packages(d)"
   ]
  },
  {
   "cell_type": "markdown",
   "metadata": {},
   "source": [
    "# Example 5 - ??? Dataset"
   ]
  },
  {
   "cell_type": "markdown",
   "metadata": {},
   "source": [
    "### Overview"
   ]
  },
  {
   "cell_type": "markdown",
   "metadata": {},
   "source": [
    "..."
   ]
  },
  {
   "cell_type": "code",
   "execution_count": 7,
   "metadata": {},
   "outputs": [],
   "source": [
    "# * from IPython.display\n",
    "# Import from the display submodule of the IPython package. This module is designed to display \n",
    "# and render different types of data within interactive environments, such as Jupyter Notebooks.\n",
    "# * import Image\n",
    "# Import the Image class from the display module. The Image class is used to display \n",
    "# images in the interactive environment (for example, in a Jupyter Notebook cell).\n",
    "# * %matplotlib inline\n",
    "# This is a magic command specific to IPython/Jupyter Notebook.\n",
    "# Enables display of matplotlib plots directly within cells of the \n",
    "# notebook. Graphics are rendered \"inline\" (within the same notebook) without the need \n",
    "# to open pop-up windows.\n",
    "\n",
    "from IPython.display import Image\n",
    "%matplotlib inline"
   ]
  },
  {
   "cell_type": "markdown",
   "metadata": {},
   "source": [
    "## ..."
   ]
  },
  {
   "cell_type": "markdown",
   "metadata": {},
   "source": [
    "..."
   ]
  },
  {
   "cell_type": "markdown",
   "metadata": {},
   "source": [
    "# Summary"
   ]
  },
  {
   "cell_type": "markdown",
   "metadata": {},
   "source": [
    "---\n",
    "\n",
    "Readers may ignore the next cell."
   ]
  },
  {
   "cell_type": "code",
   "execution_count": 8,
   "metadata": {},
   "outputs": [
    {
     "name": "stdout",
     "output_type": "stream",
     "text": [
      "[NbConvertApp] Converting notebook ex05.ipynb to script\n",
      "[NbConvertApp] Writing 4177 bytes to ex05.py\n"
     ]
    }
   ],
   "source": [
    "# Run a command in the terminal from a Python environment (such as a Jupyter Notebook or a \n",
    "# script that allows system commands to convert a Jupyter notebook to a file Python script. \n",
    "# * !\n",
    "# This symbol is used in environments such as Jupyter Notebooks to execute system commands \n",
    "# operational directly from the notebook. In this case, the command is an execution of a \n",
    "# python script.\n",
    "# * python ../.convert_notebook_to_script.py\n",
    "# This command runs a Python script called convert_notebook_to_script.py. This file \n",
    "# is located in the previous directory (../ indicates that it is one level up in the system \n",
    "# files). The purpose of this script is to convert a Jupyter notebook (.ipynb) into a \n",
    "# Python script file (.py).\n",
    "# * --input ex05.ipynb\n",
    "# This is an option or argument that tells the script what the input file is, in this \n",
    "# case, the notebook ex05.ipynb.\n",
    "# * --output ex05.py\n",
    "# This option tells the script to save the output (the converted file) with the name\n",
    "# ex05.py, which is a Python script.\n",
    "\n",
    "! python ../.convert_notebook_to_script.py --input ex05.ipynb --output ex05.py"
   ]
  }
 ],
 "metadata": {
  "kernelspec": {
   "display_name": "Python 3",
   "language": "python",
   "name": "python3"
  },
  "language_info": {
   "codemirror_mode": {
    "name": "ipython",
    "version": 3
   },
   "file_extension": ".py",
   "mimetype": "text/x-python",
   "name": "python",
   "nbconvert_exporter": "python",
   "pygments_lexer": "ipython3",
   "version": "3.10.12"
  }
 },
 "nbformat": 4,
 "nbformat_minor": 2
}
