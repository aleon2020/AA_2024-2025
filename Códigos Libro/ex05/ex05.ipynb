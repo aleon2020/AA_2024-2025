{
 "cells": [
  {
   "cell_type": "markdown",
   "metadata": {},
   "source": [
    "# Machine Learning with PyTorch and Scikit-Learn  \n",
    "# -- Code Examples"
   ]
  },
  {
   "cell_type": "markdown",
   "metadata": {},
   "source": [
    "## Package version checks"
   ]
  },
  {
   "cell_type": "markdown",
   "metadata": {},
   "source": [
    "Add folder to path in order to load from the check_packages.py script:"
   ]
  },
  {
   "cell_type": "code",
   "execution_count": 1,
   "metadata": {},
   "outputs": [],
   "source": [
    "# * import sys\n",
    "# Importa el módulo sys, que es un módulo de la biblioteca estándar de Python.\n",
    "# Este módulo proporciona acceso a variables y funciones que interactúan fuertemente con el\n",
    "# intérprete de Python, como la manipulación de la ruta de búsqueda de módulos y la entrada/salida\n",
    "# estándar, entre otros.\n",
    "# * sys.path\n",
    "# Es una lista que contiene las rutas en las que el intérprete de Python busca los módulos cuando\n",
    "# usas import. Al intentar importar un módulo, Python busca en las rutas especificadas en esta\n",
    "# lista.\n",
    "# * sys.path.insert(0, '..')\n",
    "# Inserta la ruta '..' (que representa el directorio padre) al inicio de la lista sys.path.\n",
    "# Al agregarla en la posición 0, se asegura que cuando Python busque módulos para importar,\n",
    "# primero verifique en el directorio padre antes de continuar con las rutas predeterminadas.\n",
    "\n",
    "import sys\n",
    "sys.path.insert(0, '..')"
   ]
  },
  {
   "cell_type": "markdown",
   "metadata": {},
   "source": [
    "Check recommended package versions:"
   ]
  },
  {
   "cell_type": "code",
   "execution_count": 2,
   "metadata": {},
   "outputs": [
    {
     "name": "stdout",
     "output_type": "stream",
     "text": [
      "[OK] Your Python version is 3.10.12 (main, Sep 11 2024, 15:47:36) [GCC 11.4.0]\n",
      "[OK] numpy 1.24.3\n",
      "[OK] matplotlib 3.5.1\n",
      "[OK] sklearn 1.5.2\n",
      "[OK] pandas 2.2.2\n"
     ]
    }
   ],
   "source": [
    "# * from python_environment_check import check_packages\n",
    "# Importa la función check_packages desde el módulo python_environment_check. \n",
    "# Este módulo, por su nombre, parece estar diseñado para verificar que el entorno de Python \n",
    "# tenga instaladas las versiones correctas de ciertos paquetes.\n",
    "# * d = {...}\n",
    "# Define un diccionario d que contiene como claves los nombres de varios paquetes \n",
    "# (por ejemplo, numpy, scipy, matplotlib, etc.) y como valores las versiones mínimas \n",
    "# requeridas de esos paquetes.\n",
    "# * check_packages(d)\n",
    "# La función check_packages toma como entrada el diccionario d y probablemente realiza una \n",
    "# verificación en el entorno actual de Python para asegurarse de que las versiones instaladas \n",
    "# de estos paquetes sean al menos las especificadas en el diccionario. Si alguno de los paquetes \n",
    "# no está instalado o tiene una versión incorrecta, es posible que la función lance un error o \n",
    "# sugiera instalar/actualizar los paquetes.\n",
    "\n",
    "from python_environment_check import check_packages\n",
    "d = {\n",
    "    'numpy': '1.21.2',\n",
    "    'matplotlib': '3.4.3',\n",
    "    'sklearn': '1.0',\n",
    "    'pandas': '1.3.2'\n",
    "}\n",
    "check_packages(d)"
   ]
  },
  {
   "cell_type": "markdown",
   "metadata": {},
   "source": [
    "# Example 5 - ??? Dataset"
   ]
  },
  {
   "cell_type": "markdown",
   "metadata": {},
   "source": [
    "### Overview"
   ]
  },
  {
   "cell_type": "markdown",
   "metadata": {},
   "source": [
    "..."
   ]
  },
  {
   "cell_type": "code",
   "execution_count": 3,
   "metadata": {},
   "outputs": [],
   "source": [
    "# * from IPython.display\n",
    "# Importa desde el submódulo display del paquete IPython. Este módulo está diseñado para mostrar \n",
    "# y renderizar diferentes tipos de datos dentro de entornos interactivos, como Jupyter Notebooks.\n",
    "# * import Image\n",
    "# Importa la clase Image desde el módulo display. La clase Image se utiliza para mostrar \n",
    "# imágenes en el entorno interactivo (por ejemplo, en una celda de Jupyter Notebook).\n",
    "# * %matplotlib inline\n",
    "# Esto es una \"magic command\" (comando mágico) específico de IPython/Jupyter Notebook.\n",
    "# Habilita la visualización de gráficos de matplotlib directamente dentro de las celdas del \n",
    "# notebook. Los gráficos se renderizan \"en línea\" (dentro del mismo cuaderno) sin necesidad \n",
    "# de abrir ventanas emergentes.\n",
    "\n",
    "from IPython.display import Image\n",
    "%matplotlib inline"
   ]
  },
  {
   "cell_type": "markdown",
   "metadata": {},
   "source": [
    "## ..."
   ]
  },
  {
   "cell_type": "markdown",
   "metadata": {},
   "source": [
    "..."
   ]
  },
  {
   "cell_type": "markdown",
   "metadata": {},
   "source": [
    "# Summary"
   ]
  },
  {
   "cell_type": "markdown",
   "metadata": {},
   "source": [
    "---\n",
    "\n",
    "Readers may ignore the next cell."
   ]
  },
  {
   "cell_type": "code",
   "execution_count": 4,
   "metadata": {},
   "outputs": [
    {
     "name": "stdout",
     "output_type": "stream",
     "text": [
      "[NbConvertApp] Converting notebook ex05.ipynb to script\n",
      "[NbConvertApp] Writing 4376 bytes to ex05.py\n"
     ]
    }
   ],
   "source": [
    "# Run a command in the terminal from a Python environment (such as a Jupyter Notebook or a \n",
    "# script that allows system commands to convert a Jupyter notebook to a file Python script. \n",
    "# * !\n",
    "# This symbol is used in environments such as Jupyter Notebooks to execute system commands \n",
    "# operational directly from the notebook. In this case, the command is an execution of a \n",
    "# python script.\n",
    "# * python ../.convert_notebook_to_script.py\n",
    "# This command runs a Python script called convert_notebook_to_script.py. This file \n",
    "# is located in the previous directory (../ indicates that it is one level up in the system \n",
    "# files). The purpose of this script is to convert a Jupyter notebook (.ipynb) into a \n",
    "# Python script file (.py).\n",
    "# * --input ex05.ipynb\n",
    "# This is an option or argument that tells the script what the input file is, in this \n",
    "# case, the notebook ex05.ipynb.\n",
    "# * --output ex05.py\n",
    "# This option tells the script to save the output (the converted file) with the name\n",
    "# ex05.py, which is a Python script.\n",
    "\n",
    "! python ../.convert_notebook_to_script.py --input ex05.ipynb --output ex05.py"
   ]
  }
 ],
 "metadata": {
  "kernelspec": {
   "display_name": "Python 3",
   "language": "python",
   "name": "python3"
  },
  "language_info": {
   "codemirror_mode": {
    "name": "ipython",
    "version": 3
   },
   "file_extension": ".py",
   "mimetype": "text/x-python",
   "name": "python",
   "nbconvert_exporter": "python",
   "pygments_lexer": "ipython3",
   "version": "3.10.12"
  }
 },
 "nbformat": 4,
 "nbformat_minor": 2
}
