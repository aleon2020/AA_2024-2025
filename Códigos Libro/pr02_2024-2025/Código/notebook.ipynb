{
 "cells": [
  {
   "cell_type": "markdown",
   "metadata": {},
   "source": [
    "# PRÁCTICA 2: APRENDIZAJE DE PYTORCH"
   ]
  },
  {
   "cell_type": "markdown",
   "metadata": {},
   "source": [
    "---"
   ]
  },
  {
   "cell_type": "markdown",
   "metadata": {},
   "source": [
    "# Configuración y Visualización del Entorno"
   ]
  },
  {
   "cell_type": "markdown",
   "metadata": {},
   "source": [
    "## Configuración de las Rutas de Importación"
   ]
  },
  {
   "cell_type": "markdown",
   "metadata": {},
   "source": [
    "Se añade el directorio padre (..) al path (sys.path), lo que permite al entorno de Python acceder a módulos o paquetes ubicados en directorios superiores al actual. Esto es útil para poder importar scripts o paquetes personalizados sin tener que mover ficheros o el directorio de trabajo."
   ]
  },
  {
   "cell_type": "code",
   "execution_count": 1,
   "metadata": {},
   "outputs": [],
   "source": [
    "import sys\n",
    "sys.path.insert(0, '..')"
   ]
  },
  {
   "cell_type": "markdown",
   "metadata": {},
   "source": [
    "## Verificación de las Versiones de los Paquetes"
   ]
  },
  {
   "cell_type": "markdown",
   "metadata": {},
   "source": [
    "Se utiliza la función check_packages() para verificar que los paquetes y sus respectivas versiones indicadas en el diccionario 'd' estén instalados correctamente dentro del entorno. Este paso es importante para verificar la compatibilidad de cada paquete para poder evitar errores por diferencia de versión."
   ]
  },
  {
   "cell_type": "code",
   "execution_count": 2,
   "metadata": {},
   "outputs": [
    {
     "name": "stdout",
     "output_type": "stream",
     "text": [
      "[OK] Your Python version is 3.9.20 (main, Oct  3 2024, 07:27:41) \n",
      "[GCC 11.2.0]\n",
      "[FAIL]: mlxtend is not installed and/or cannot be imported.\n",
      "[FAIL]: tensorboard is not installed and/or cannot be imported.\n",
      "[FAIL]: pytorch_lightning is not installed and/or cannot be imported.\n",
      "[FAIL]: torchmetrics is not installed and/or cannot be imported.\n",
      "[OK] numpy 1.26.4\n",
      "[OK] scipy 1.13.1\n",
      "[OK] matplotlib 3.9.2\n",
      "[OK] sklearn 1.5.1\n",
      "[OK] pandas 2.2.3\n",
      "[OK] torch 2.5.1\n",
      "[OK] torchvision 0.20.1\n"
     ]
    }
   ],
   "source": [
    "from python_environment_check import check_packages\n",
    "d = {\n",
    "    'numpy': '1.21.2',\n",
    "    'scipy': '1.7.0',\n",
    "    'mlxtend' : '0.19.0',\n",
    "    'matplotlib': '3.4.3',\n",
    "    'sklearn': '1.0',\n",
    "    'pandas': '1.3.2',\n",
    "    'torch': '1.9.0',\n",
    "    'torchvision': '0.9.0',\n",
    "    'tensorboard': '2.7.0',\n",
    "    'pytorch_lightning': '1.5.0',\n",
    "    'torchmetrics': '0.6.2'\n",
    "}\n",
    "check_packages(d)"
   ]
  },
  {
   "cell_type": "markdown",
   "metadata": {},
   "source": [
    "## Importación de Paquetes"
   ]
  },
  {
   "cell_type": "markdown",
   "metadata": {},
   "source": [
    "Se importan los paquetes esenciales para analizar y visualizar datos: numpy para cálculos numéricos, pandas para manipular datos y matplotlib.pyplot para visualizar gráficos, entre otros."
   ]
  },
  {
   "cell_type": "code",
   "execution_count": 3,
   "metadata": {},
   "outputs": [],
   "source": [
    "import torch\n",
    "import numpy as np\n",
    "import pandas as pd\n",
    "import torch.nn as nn\n",
    "import matplotlib.pyplot as plt\n",
    "from sklearn.model_selection import train_test_split\n",
    "from torch.utils.data import DataLoader, TensorDataset"
   ]
  },
  {
   "cell_type": "markdown",
   "metadata": {},
   "source": [
    "---"
   ]
  },
  {
   "cell_type": "markdown",
   "metadata": {},
   "source": [
    "# Código Fuente"
   ]
  },
  {
   "cell_type": "markdown",
   "metadata": {},
   "source": [
    "## Introducción"
   ]
  },
  {
   "cell_type": "markdown",
   "metadata": {},
   "source": [
    "En este Notebook se abordará el problema de clasificación binaria propuesto en la Práctica 2.\n",
    "\n",
    "Para ello, se utilizará el dataset 'Adult', obtenido del UC Irvine Machine Learning Repository. Este dataset incluye información sobre las ganancias anuales de una persona, en este caso, la variable de salida 'y' predice si una persona gana más o menos de 50000$ al año, basándose en varias características demográficas y laborales.\n",
    "\n",
    "Y por último, se hará uso de PyTorch para implementar una red neuronal que satisfaga todo lo mencionado anteriormente. Se ha elegido este dataset ya que contiene todo lo que se nos pide en la Práctica, ya que está compuesto por características categóricas y numéricas.\n",
    "\n",
    "Para poder utilizar este dataset, se ha utilizado one hot encoding para convertir las características categoricas en números, ya que, debido a errores obtenidos al intentar realizar esto mismo con PyTorch, esta tarea se ha terminado llevando a cabo manualmente con Pandas."
   ]
  },
  {
   "cell_type": "code",
   "execution_count": 4,
   "metadata": {},
   "outputs": [
    {
     "name": "stderr",
     "output_type": "stream",
     "text": [
      "/tmp/ipykernel_233237/3248847456.py:5: ParserWarning: Falling back to the 'python' engine because the 'c' engine does not support regex separators (separators > 1 char and different from '\\s+' are interpreted as regex); you can avoid this warning by specifying engine='python'.\n",
      "  df = pd.read_csv('adult.data', names=header, header=None, sep=', ')\n",
      "/tmp/ipykernel_233237/3248847456.py:6: ParserWarning: Falling back to the 'python' engine because the 'c' engine does not support regex separators (separators > 1 char and different from '\\s+' are interpreted as regex); you can avoid this warning by specifying engine='python'.\n",
      "  df_test = pd.read_csv('adult.test', names=header, header=None, skiprows=[0], sep=', ')\n",
      "/tmp/ipykernel_233237/3248847456.py:15: FutureWarning: Downcasting behavior in `replace` is deprecated and will be removed in a future version. To retain the old behavior, explicitly call `result.infer_objects(copy=False)`. To opt-in to the future behavior, set `pd.set_option('future.no_silent_downcasting', True)`\n",
      "  df = df.replace({cat: replace})\n",
      "/tmp/ipykernel_233237/3248847456.py:16: FutureWarning: Downcasting behavior in `replace` is deprecated and will be removed in a future version. To retain the old behavior, explicitly call `result.infer_objects(copy=False)`. To opt-in to the future behavior, set `pd.set_option('future.no_silent_downcasting', True)`\n",
      "  df_test = df_test.replace({cat: replace})\n"
     ]
    },
    {
     "data": {
      "text/html": [
       "<div>\n",
       "<style scoped>\n",
       "    .dataframe tbody tr th:only-of-type {\n",
       "        vertical-align: middle;\n",
       "    }\n",
       "\n",
       "    .dataframe tbody tr th {\n",
       "        vertical-align: top;\n",
       "    }\n",
       "\n",
       "    .dataframe thead th {\n",
       "        text-align: right;\n",
       "    }\n",
       "</style>\n",
       "<table border=\"1\" class=\"dataframe\">\n",
       "  <thead>\n",
       "    <tr style=\"text-align: right;\">\n",
       "      <th></th>\n",
       "      <th>age</th>\n",
       "      <th>workclass</th>\n",
       "      <th>fnlwgt</th>\n",
       "      <th>education</th>\n",
       "      <th>education-num</th>\n",
       "      <th>marital-status</th>\n",
       "      <th>occupation</th>\n",
       "      <th>relationship</th>\n",
       "      <th>race</th>\n",
       "      <th>sex</th>\n",
       "      <th>capital-gain</th>\n",
       "      <th>capital-loss</th>\n",
       "      <th>hours-per-week</th>\n",
       "      <th>native-country</th>\n",
       "      <th>income</th>\n",
       "    </tr>\n",
       "  </thead>\n",
       "  <tbody>\n",
       "    <tr>\n",
       "      <th>0</th>\n",
       "      <td>39</td>\n",
       "      <td>7</td>\n",
       "      <td>77516</td>\n",
       "      <td>9</td>\n",
       "      <td>13</td>\n",
       "      <td>4</td>\n",
       "      <td>1</td>\n",
       "      <td>1</td>\n",
       "      <td>4</td>\n",
       "      <td>1</td>\n",
       "      <td>2174</td>\n",
       "      <td>0</td>\n",
       "      <td>40</td>\n",
       "      <td>39</td>\n",
       "      <td>0</td>\n",
       "    </tr>\n",
       "  </tbody>\n",
       "</table>\n",
       "</div>"
      ],
      "text/plain": [
       "   age  workclass  fnlwgt  education  education-num  marital-status  \\\n",
       "0   39          7   77516          9             13               4   \n",
       "\n",
       "   occupation  relationship  race  sex  capital-gain  capital-loss  \\\n",
       "0           1             1     4    1          2174             0   \n",
       "\n",
       "   hours-per-week  native-country  income  \n",
       "0              40              39       0  "
      ]
     },
     "execution_count": 4,
     "metadata": {},
     "output_type": "execute_result"
    }
   ],
   "source": [
    "# Obtain the MNIST dataset\n",
    "header = ['age', 'workclass', 'fnlwgt', 'education', 'education-num', 'marital-status', 'occupation', 'relationship', 'race', 'sex', 'capital-gain', 'capital-loss', 'hours-per-week', 'native-country', 'income']\n",
    "features = ['age', 'workclass', 'fnlwgt', 'education', 'education-num', 'marital-status', 'occupation', 'relationship', 'race', 'sex', 'capital-gain', 'capital-loss', 'hours-per-week', 'native-country']\n",
    "\n",
    "df = pd.read_csv('adult.data', names=header, header=None, sep=', ')\n",
    "df_test = pd.read_csv('adult.test', names=header, header=None, skiprows=[0], sep=', ')\n",
    "\n",
    "categorical_columns = df.loc[:, df.dtypes == 'object'].columns\n",
    "numerical_columns = df.loc[:, df.dtypes == np.int64].columns\n",
    "\n",
    "# Manual one hot encoding\n",
    "for cat in categorical_columns:\n",
    "  indexes = np.unique(df[cat])\n",
    "  replace = {k: v for v, k in enumerate(indexes)}\n",
    "  df = df.replace({cat: replace})\n",
    "  df_test = df_test.replace({cat: replace})\n",
    "\n",
    "categorical_columns = categorical_columns[:-1]\n",
    "\n",
    "df.head(1)"
   ]
  },
  {
   "cell_type": "code",
   "execution_count": 5,
   "metadata": {},
   "outputs": [
    {
     "data": {
      "text/html": [
       "<div>\n",
       "<style scoped>\n",
       "    .dataframe tbody tr th:only-of-type {\n",
       "        vertical-align: middle;\n",
       "    }\n",
       "\n",
       "    .dataframe tbody tr th {\n",
       "        vertical-align: top;\n",
       "    }\n",
       "\n",
       "    .dataframe thead th {\n",
       "        text-align: right;\n",
       "    }\n",
       "</style>\n",
       "<table border=\"1\" class=\"dataframe\">\n",
       "  <thead>\n",
       "    <tr style=\"text-align: right;\">\n",
       "      <th></th>\n",
       "      <th>age</th>\n",
       "      <th>workclass</th>\n",
       "      <th>fnlwgt</th>\n",
       "      <th>education</th>\n",
       "      <th>education-num</th>\n",
       "      <th>marital-status</th>\n",
       "      <th>occupation</th>\n",
       "      <th>relationship</th>\n",
       "      <th>race</th>\n",
       "      <th>sex</th>\n",
       "      <th>capital-gain</th>\n",
       "      <th>capital-loss</th>\n",
       "      <th>hours-per-week</th>\n",
       "      <th>native-country</th>\n",
       "      <th>income</th>\n",
       "    </tr>\n",
       "  </thead>\n",
       "  <tbody>\n",
       "    <tr>\n",
       "      <th>0</th>\n",
       "      <td>25</td>\n",
       "      <td>4</td>\n",
       "      <td>226802</td>\n",
       "      <td>1</td>\n",
       "      <td>7</td>\n",
       "      <td>4</td>\n",
       "      <td>7</td>\n",
       "      <td>3</td>\n",
       "      <td>2</td>\n",
       "      <td>1</td>\n",
       "      <td>0</td>\n",
       "      <td>0</td>\n",
       "      <td>40</td>\n",
       "      <td>39</td>\n",
       "      <td>0</td>\n",
       "    </tr>\n",
       "  </tbody>\n",
       "</table>\n",
       "</div>"
      ],
      "text/plain": [
       "   age  workclass  fnlwgt  education  education-num  marital-status  \\\n",
       "0   25          4  226802          1              7               4   \n",
       "\n",
       "   occupation  relationship  race  sex  capital-gain  capital-loss  \\\n",
       "0           7             3     2    1             0             0   \n",
       "\n",
       "   hours-per-week  native-country  income  \n",
       "0              40              39       0  "
      ]
     },
     "execution_count": 5,
     "metadata": {},
     "output_type": "execute_result"
    }
   ],
   "source": [
    "df_test.head(1)"
   ]
  },
  {
   "cell_type": "markdown",
   "metadata": {},
   "source": [
    "Como se puede observar, el dataset de training está compuesto por 32561 filas y 15 columnas, mientras que el dataset de test está compuesto por 16281 filas y 15 columnas."
   ]
  },
  {
   "cell_type": "markdown",
   "metadata": {},
   "source": [
    "## Conversión del Dataset a PyTorch"
   ]
  },
  {
   "cell_type": "markdown",
   "metadata": {},
   "source": [
    "Se dividen los datos en training, validation y test para poder realizar el entrenamiento del modelo, quedándonos con un 80% del dataset de entrenamiento para training y el 20% restante para validación. \n",
    "\n",
    "Por otro lado, para el dataset de test nos quedamos con todos los datos que nos dan."
   ]
  },
  {
   "cell_type": "code",
   "execution_count": 6,
   "metadata": {},
   "outputs": [],
   "source": [
    "df_train, df_valid = train_test_split(\n",
    "    df, train_size=0.8, random_state=1\n",
    ")\n",
    "train_stats = df_train.describe().transpose()"
   ]
  },
  {
   "cell_type": "markdown",
   "metadata": {},
   "source": [
    "Una vez hecho esto, se normalizan los datos de las columnas numéricas para poder utililzarlos en el entrenamiento de la red neuronal."
   ]
  },
  {
   "cell_type": "code",
   "execution_count": 7,
   "metadata": {},
   "outputs": [
    {
     "name": "stderr",
     "output_type": "stream",
     "text": [
      "/tmp/ipykernel_233237/2954724609.py:5: FutureWarning: Setting an item of incompatible dtype is deprecated and will raise in a future error of pandas. Value '[ 0.03136861  1.13088809 -0.48174048 ... -0.84824698  1.49739459\n",
      " -0.40843918]' has dtype incompatible with int64, please explicitly cast to a compatible dtype first.\n",
      "  df_train_norm.loc[:, col_name] = \\\n",
      "/tmp/ipykernel_233237/2954724609.py:7: FutureWarning: Setting an item of incompatible dtype is deprecated and will raise in a future error of pandas. Value '[ 1.71729849 -1.50795867 -0.99484957 ... -0.26183658 -0.62834308\n",
      "  0.9842855 ]' has dtype incompatible with int64, please explicitly cast to a compatible dtype first.\n",
      "  df_valid_norm.loc[:, col_name] = \\\n",
      "/tmp/ipykernel_233237/2954724609.py:9: FutureWarning: Setting an item of incompatible dtype is deprecated and will raise in a future error of pandas. Value '[-0.99484957 -0.04193269 -0.77494568 ... -0.04193269  0.39787511\n",
      " -0.26183658]' has dtype incompatible with int64, please explicitly cast to a compatible dtype first.\n",
      "  df_test_norm.loc[:, col_name] = \\\n",
      "/tmp/ipykernel_233237/2954724609.py:5: FutureWarning: Setting an item of incompatible dtype is deprecated and will raise in a future error of pandas. Value '[-0.01343616 -0.80208924 -0.3164637  ... -0.80730848  0.74282552\n",
      " -1.23555065]' has dtype incompatible with int64, please explicitly cast to a compatible dtype first.\n",
      "  df_train_norm.loc[:, col_name] = \\\n",
      "/tmp/ipykernel_233237/2954724609.py:7: FutureWarning: Setting an item of incompatible dtype is deprecated and will raise in a future error of pandas. Value '[-1.53919167  0.17090787 -0.82600526 ...  0.94598903 -1.536398\n",
      "  0.93853296]' has dtype incompatible with int64, please explicitly cast to a compatible dtype first.\n",
      "  df_valid_norm.loc[:, col_name] = \\\n",
      "/tmp/ipykernel_233237/2954724609.py:9: FutureWarning: Setting an item of incompatible dtype is deprecated and will raise in a future error of pandas. Value '[ 0.34739001 -0.94550988  1.38698201 ...  1.74593001 -1.00141146\n",
      " -0.07405677]' has dtype incompatible with int64, please explicitly cast to a compatible dtype first.\n",
      "  df_test_norm.loc[:, col_name] = \\\n",
      "/tmp/ipykernel_233237/2954724609.py:5: FutureWarning: Setting an item of incompatible dtype is deprecated and will raise in a future error of pandas. Value '[-1.19810839  1.12881639 -0.4224668  ...  1.12881639 -0.4224668\n",
      "  1.12881639]' has dtype incompatible with int64, please explicitly cast to a compatible dtype first.\n",
      "  df_train_norm.loc[:, col_name] = \\\n",
      "/tmp/ipykernel_233237/2954724609.py:7: FutureWarning: Setting an item of incompatible dtype is deprecated and will raise in a future error of pandas. Value '[-2.36157078 -1.19810839  1.12881639 ... -0.4224668  -1.19810839\n",
      "  2.29227878]' has dtype incompatible with int64, please explicitly cast to a compatible dtype first.\n",
      "  df_valid_norm.loc[:, col_name] = \\\n",
      "/tmp/ipykernel_233237/2954724609.py:9: FutureWarning: Setting an item of incompatible dtype is deprecated and will raise in a future error of pandas. Value '[-1.19810839 -0.4224668   0.74099559 ...  1.12881639  1.12881639\n",
      "  1.12881639]' has dtype incompatible with int64, please explicitly cast to a compatible dtype first.\n",
      "  df_test_norm.loc[:, col_name] = \\\n",
      "/tmp/ipykernel_233237/2954724609.py:5: FutureWarning: Setting an item of incompatible dtype is deprecated and will raise in a future error of pandas. Value '[-0.14725111 -0.14725111 -0.14725111 ... -0.14725111 -0.14725111\n",
      " -0.14725111]' has dtype incompatible with int64, please explicitly cast to a compatible dtype first.\n",
      "  df_train_norm.loc[:, col_name] = \\\n",
      "/tmp/ipykernel_233237/2954724609.py:7: FutureWarning: Setting an item of incompatible dtype is deprecated and will raise in a future error of pandas. Value '[-0.14725111 -0.14725111  3.64523815 ... -0.14725111 -0.14725111\n",
      " -0.14725111]' has dtype incompatible with int64, please explicitly cast to a compatible dtype first.\n",
      "  df_valid_norm.loc[:, col_name] = \\\n",
      "/tmp/ipykernel_233237/2954724609.py:9: FutureWarning: Setting an item of incompatible dtype is deprecated and will raise in a future error of pandas. Value '[-0.14725111 -0.14725111 -0.14725111 ... -0.14725111  0.59617382\n",
      " -0.14725111]' has dtype incompatible with int64, please explicitly cast to a compatible dtype first.\n",
      "  df_test_norm.loc[:, col_name] = \\\n",
      "/tmp/ipykernel_233237/2954724609.py:5: FutureWarning: Setting an item of incompatible dtype is deprecated and will raise in a future error of pandas. Value '[-0.21798758 -0.21798758  4.49390526 ... -0.21798758 -0.21798758\n",
      "  4.49390526]' has dtype incompatible with int64, please explicitly cast to a compatible dtype first.\n",
      "  df_train_norm.loc[:, col_name] = \\\n",
      "/tmp/ipykernel_233237/2954724609.py:7: FutureWarning: Setting an item of incompatible dtype is deprecated and will raise in a future error of pandas. Value '[-0.21798758 -0.21798758 -0.21798758 ... -0.21798758 -0.21798758\n",
      " -0.21798758]' has dtype incompatible with int64, please explicitly cast to a compatible dtype first.\n",
      "  df_valid_norm.loc[:, col_name] = \\\n",
      "/tmp/ipykernel_233237/2954724609.py:9: FutureWarning: Setting an item of incompatible dtype is deprecated and will raise in a future error of pandas. Value '[-0.21798758 -0.21798758 -0.21798758 ... -0.21798758 -0.21798758\n",
      " -0.21798758]' has dtype incompatible with int64, please explicitly cast to a compatible dtype first.\n",
      "  df_test_norm.loc[:, col_name] = \\\n",
      "/tmp/ipykernel_233237/2954724609.py:5: FutureWarning: Setting an item of incompatible dtype is deprecated and will raise in a future error of pandas. Value '[-0.03453295 -0.03453295  0.77605945 ... -0.03453295 -0.03453295\n",
      "  0.37076325]' has dtype incompatible with int64, please explicitly cast to a compatible dtype first.\n",
      "  df_train_norm.loc[:, col_name] = \\\n",
      "/tmp/ipykernel_233237/2954724609.py:7: FutureWarning: Setting an item of incompatible dtype is deprecated and will raise in a future error of pandas. Value '[ 2.0730073  -1.25042156  0.77605945 ... -0.03453295  0.37076325\n",
      "  1.58665186]' has dtype incompatible with int64, please explicitly cast to a compatible dtype first.\n",
      "  df_valid_norm.loc[:, col_name] = \\\n",
      "/tmp/ipykernel_233237/2954724609.py:9: FutureWarning: Setting an item of incompatible dtype is deprecated and will raise in a future error of pandas. Value '[-0.03453295  0.77605945 -0.03453295 ...  0.77605945 -0.03453295\n",
      "  1.58665186]' has dtype incompatible with int64, please explicitly cast to a compatible dtype first.\n",
      "  df_test_norm.loc[:, col_name] = \\\n"
     ]
    },
    {
     "data": {
      "text/html": [
       "<div>\n",
       "<style scoped>\n",
       "    .dataframe tbody tr th:only-of-type {\n",
       "        vertical-align: middle;\n",
       "    }\n",
       "\n",
       "    .dataframe tbody tr th {\n",
       "        vertical-align: top;\n",
       "    }\n",
       "\n",
       "    .dataframe thead th {\n",
       "        text-align: right;\n",
       "    }\n",
       "</style>\n",
       "<table border=\"1\" class=\"dataframe\">\n",
       "  <thead>\n",
       "    <tr style=\"text-align: right;\">\n",
       "      <th></th>\n",
       "      <th>age</th>\n",
       "      <th>workclass</th>\n",
       "      <th>fnlwgt</th>\n",
       "      <th>education</th>\n",
       "      <th>education-num</th>\n",
       "      <th>marital-status</th>\n",
       "      <th>occupation</th>\n",
       "      <th>relationship</th>\n",
       "      <th>race</th>\n",
       "      <th>sex</th>\n",
       "      <th>capital-gain</th>\n",
       "      <th>capital-loss</th>\n",
       "      <th>hours-per-week</th>\n",
       "      <th>native-country</th>\n",
       "      <th>income</th>\n",
       "    </tr>\n",
       "  </thead>\n",
       "  <tbody>\n",
       "    <tr>\n",
       "      <th>32511</th>\n",
       "      <td>-0.994850</td>\n",
       "      <td>2</td>\n",
       "      <td>3.064737</td>\n",
       "      <td>9</td>\n",
       "      <td>1.128816</td>\n",
       "      <td>4</td>\n",
       "      <td>1</td>\n",
       "      <td>3</td>\n",
       "      <td>2</td>\n",
       "      <td>0</td>\n",
       "      <td>-0.147251</td>\n",
       "      <td>-0.217988</td>\n",
       "      <td>-0.034533</td>\n",
       "      <td>39</td>\n",
       "      <td>0</td>\n",
       "    </tr>\n",
       "    <tr>\n",
       "      <th>5192</th>\n",
       "      <td>-0.481740</td>\n",
       "      <td>4</td>\n",
       "      <td>0.166802</td>\n",
       "      <td>9</td>\n",
       "      <td>1.128816</td>\n",
       "      <td>2</td>\n",
       "      <td>4</td>\n",
       "      <td>0</td>\n",
       "      <td>4</td>\n",
       "      <td>1</td>\n",
       "      <td>1.900268</td>\n",
       "      <td>-0.217988</td>\n",
       "      <td>0.370763</td>\n",
       "      <td>39</td>\n",
       "      <td>1</td>\n",
       "    </tr>\n",
       "    <tr>\n",
       "      <th>12172</th>\n",
       "      <td>-0.848247</td>\n",
       "      <td>4</td>\n",
       "      <td>-0.807308</td>\n",
       "      <td>9</td>\n",
       "      <td>1.128816</td>\n",
       "      <td>4</td>\n",
       "      <td>7</td>\n",
       "      <td>1</td>\n",
       "      <td>1</td>\n",
       "      <td>1</td>\n",
       "      <td>-0.147251</td>\n",
       "      <td>-0.217988</td>\n",
       "      <td>-0.034533</td>\n",
       "      <td>0</td>\n",
       "      <td>0</td>\n",
       "    </tr>\n",
       "    <tr>\n",
       "      <th>235</th>\n",
       "      <td>1.497395</td>\n",
       "      <td>7</td>\n",
       "      <td>0.742826</td>\n",
       "      <td>11</td>\n",
       "      <td>-0.422467</td>\n",
       "      <td>2</td>\n",
       "      <td>8</td>\n",
       "      <td>0</td>\n",
       "      <td>4</td>\n",
       "      <td>1</td>\n",
       "      <td>-0.147251</td>\n",
       "      <td>-0.217988</td>\n",
       "      <td>-0.034533</td>\n",
       "      <td>39</td>\n",
       "      <td>0</td>\n",
       "    </tr>\n",
       "    <tr>\n",
       "      <th>29733</th>\n",
       "      <td>-0.408439</td>\n",
       "      <td>4</td>\n",
       "      <td>-1.235551</td>\n",
       "      <td>9</td>\n",
       "      <td>1.128816</td>\n",
       "      <td>2</td>\n",
       "      <td>1</td>\n",
       "      <td>0</td>\n",
       "      <td>4</td>\n",
       "      <td>1</td>\n",
       "      <td>-0.147251</td>\n",
       "      <td>4.493905</td>\n",
       "      <td>0.370763</td>\n",
       "      <td>39</td>\n",
       "      <td>1</td>\n",
       "    </tr>\n",
       "  </tbody>\n",
       "</table>\n",
       "</div>"
      ],
      "text/plain": [
       "            age  workclass    fnlwgt  education  education-num  \\\n",
       "32511 -0.994850          2  3.064737          9       1.128816   \n",
       "5192  -0.481740          4  0.166802          9       1.128816   \n",
       "12172 -0.848247          4 -0.807308          9       1.128816   \n",
       "235    1.497395          7  0.742826         11      -0.422467   \n",
       "29733 -0.408439          4 -1.235551          9       1.128816   \n",
       "\n",
       "       marital-status  occupation  relationship  race  sex  capital-gain  \\\n",
       "32511               4           1             3     2    0     -0.147251   \n",
       "5192                2           4             0     4    1      1.900268   \n",
       "12172               4           7             1     1    1     -0.147251   \n",
       "235                 2           8             0     4    1     -0.147251   \n",
       "29733               2           1             0     4    1     -0.147251   \n",
       "\n",
       "       capital-loss  hours-per-week  native-country  income  \n",
       "32511     -0.217988       -0.034533              39       0  \n",
       "5192      -0.217988        0.370763              39       1  \n",
       "12172     -0.217988       -0.034533               0       0  \n",
       "235       -0.217988       -0.034533              39       0  \n",
       "29733      4.493905        0.370763              39       1  "
      ]
     },
     "execution_count": 7,
     "metadata": {},
     "output_type": "execute_result"
    }
   ],
   "source": [
    "df_train_norm, df_valid_norm, df_test_norm = df_train.copy(), df_valid.copy(), df_test.copy()\n",
    "for col_name in numerical_columns:\n",
    "    mean = train_stats.loc[col_name, 'mean']\n",
    "    std  = train_stats.loc[col_name, 'std']\n",
    "    df_train_norm.loc[:, col_name] = \\\n",
    "        (df_train_norm.loc[:, col_name] - mean)/std\n",
    "    df_valid_norm.loc[:, col_name] = \\\n",
    "        (df_valid_norm.loc[:, col_name] - mean)/std\n",
    "    df_test_norm.loc[:, col_name] = \\\n",
    "        (df_test_norm.loc[:, col_name] - mean)/std\n",
    "df_train_norm.tail()"
   ]
  },
  {
   "cell_type": "markdown",
   "metadata": {},
   "source": [
    "Ahora, se dividen los datasets normalizados previamente en X e y para poder entrenar el dataset."
   ]
  },
  {
   "cell_type": "code",
   "execution_count": 8,
   "metadata": {},
   "outputs": [
    {
     "name": "stdout",
     "output_type": "stream",
     "text": [
      "torch.Size([26048, 14])\n",
      "torch.Size([6513, 14])\n",
      "torch.Size([16281, 14])\n"
     ]
    }
   ],
   "source": [
    "X_train = torch.tensor(df_train_norm[features].values).float()\n",
    "y_train = torch.tensor(df_train_norm['income'].values).float()\n",
    "X_valid = torch.tensor(df_valid_norm[features].values).float()\n",
    "y_valid = torch.tensor(df_valid_norm['income'].values).float()\n",
    "X_test = torch.tensor(df_test_norm[features].values).float()\n",
    "y_test = torch.tensor(df_test_norm['income'].values).float()\n",
    "\n",
    "print(X_train.shape)\n",
    "print(X_valid.shape)\n",
    "print(X_test.shape)"
   ]
  },
  {
   "cell_type": "markdown",
   "metadata": {},
   "source": [
    "Y por último, se mueven los tensores a la GPU en caso de que ésta se encuentre disponible y se cargan para que puedan ser usados más adelante."
   ]
  },
  {
   "cell_type": "code",
   "execution_count": 9,
   "metadata": {},
   "outputs": [],
   "source": [
    "if torch.cuda.is_available():\n",
    "  X_train = X_train.cuda()\n",
    "  y_train = y_train.cuda()\n",
    "  X_valid = X_valid.cuda()\n",
    "  y_valid = y_valid.cuda()\n",
    "  X_test = X_test.cuda()\n",
    "  y_test = y_test.cuda()\n",
    "\n",
    "train_ds = TensorDataset(X_train, y_train)\n",
    "train_dl = DataLoader(train_ds, batch_size=64, shuffle=True)\n",
    "valid_ds = TensorDataset(X_valid, y_valid)\n",
    "valid_dl = DataLoader(valid_ds, batch_size=64, shuffle=False)\n",
    "test_ds = TensorDataset(X_test, y_test)\n",
    "test_dl = DataLoader(test_ds, batch_size=64, shuffle=False)"
   ]
  },
  {
   "cell_type": "markdown",
   "metadata": {},
   "source": [
    "## Creación de la Red Neuronal"
   ]
  },
  {
   "cell_type": "markdown",
   "metadata": {},
   "source": [
    "En primer lugar, se crea una red neuronal simple para clasificación binaria. Para ello, se utiliza ReLU para las activaciones internas y Sigmoid para la salida."
   ]
  },
  {
   "cell_type": "code",
   "execution_count": 10,
   "metadata": {},
   "outputs": [
    {
     "data": {
      "text/plain": [
       "BinaryClassifier(\n",
       "  (layer1): Linear(in_features=14, out_features=64, bias=True)\n",
       "  (layer2): Linear(in_features=64, out_features=32, bias=True)\n",
       "  (output): Linear(in_features=32, out_features=1, bias=True)\n",
       "  (sigmoid): Sigmoid()\n",
       ")"
      ]
     },
     "execution_count": 10,
     "metadata": {},
     "output_type": "execute_result"
    }
   ],
   "source": [
    "class BinaryClassifier(nn.Module):\n",
    "    \n",
    "    def __init__(self, input_size):\n",
    "        super(BinaryClassifier, self).__init__()\n",
    "        self.layer1 = nn.Linear(input_size, 64)\n",
    "        self.layer2 = nn.Linear(64, 32)\n",
    "        self.output = nn.Linear(32, 1)\n",
    "        self.sigmoid = nn.Sigmoid()\n",
    "\n",
    "    def forward(self, x):\n",
    "        x = torch.relu(self.layer1(x))\n",
    "        x = torch.relu(self.layer2(x))\n",
    "        x = self.sigmoid(self.output(x))\n",
    "        return x\n",
    "\n",
    "# Model initialization.\n",
    "device = \"cuda\" if torch.cuda.is_available() else \"cpu\"\n",
    "model = BinaryClassifier(X_train.shape[1]).to(device)\n",
    "model"
   ]
  },
  {
   "cell_type": "markdown",
   "metadata": {},
   "source": [
    "## Configuración del Entrenamiento de la Red Neuronal"
   ]
  },
  {
   "cell_type": "markdown",
   "metadata": {},
   "source": [
    "Se define la función de pérdida con BCE (Binary Cross Entropy) y el optimizador, además de configurarse el ciclo de entrenamiento."
   ]
  },
  {
   "cell_type": "code",
   "execution_count": 11,
   "metadata": {},
   "outputs": [],
   "source": [
    "loss_fn = nn.BCELoss()\n",
    "optimizer = torch.optim.Adam(model.parameters(), lr=0.001)\n",
    "\n",
    "def train(model, loader, loss_fn, optimizer):\n",
    "    model.train()\n",
    "    total_loss = 0\n",
    "    for X_batch, y_batch in loader:\n",
    "        optimizer.zero_grad()\n",
    "        outputs = model(X_batch).squeeze()\n",
    "        loss = loss_fn(outputs, y_batch)\n",
    "        loss.backward()\n",
    "        optimizer.step()\n",
    "        total_loss += loss.item()\n",
    "    return total_loss / len(loader)"
   ]
  },
  {
   "cell_type": "markdown",
   "metadata": {},
   "source": [
    "## Entrenamiento de la Red Neuronal"
   ]
  },
  {
   "cell_type": "markdown",
   "metadata": {},
   "source": [
    "Se establecen las épocas (epochs) para ver cómo se va entrenando la red neuronal. En este caso,en vez de entrenarse sólo una vez, se entrena 10 veces, para obtener una mayor y mejor precisión."
   ]
  },
  {
   "cell_type": "code",
   "execution_count": 12,
   "metadata": {},
   "outputs": [
    {
     "name": "stdout",
     "output_type": "stream",
     "text": [
      "Epoch 1, Loss: 0.4321\n",
      "Epoch 2, Loss: 0.3824\n",
      "Epoch 3, Loss: 0.3587\n",
      "Epoch 4, Loss: 0.3449\n",
      "Epoch 5, Loss: 0.3359\n",
      "Epoch 6, Loss: 0.3356\n",
      "Epoch 7, Loss: 0.3331\n",
      "Epoch 8, Loss: 0.3303\n",
      "Epoch 9, Loss: 0.3304\n",
      "Epoch 10, Loss: 0.3292\n"
     ]
    },
    {
     "data": {
      "image/png": "[encoded data removed]",
      "text/plain": [
       "<Figure size 640x480 with 1 Axes>"
      ]
     },
     "metadata": {},
     "output_type": "display_data"
    }
   ],
   "source": [
    "num_epochs = 10\n",
    "train_losses = []\n",
    "\n",
    "for epoch in range(num_epochs):\n",
    "    train_loss = train(model, train_dl, loss_fn, optimizer)\n",
    "    train_losses.append(train_loss)\n",
    "    print(f\"Epoch {epoch+1}, Loss: {train_loss:.4f}\")\n",
    "\n",
    "plt.plot(range(1, num_epochs+1), train_losses, label='Train loss')\n",
    "plt.xlabel('Epochs')\n",
    "plt.ylabel('Loss')\n",
    "plt.title('Train loss')\n",
    "plt.legend()\n",
    "plt.show()"
   ]
  },
  {
   "cell_type": "markdown",
   "metadata": {},
   "source": [
    "Como se puede ver, en esta gráfica se puede visualizar la evolución del entrenamiento, el cual es satisfactorio ya que reduce el valor de pérdida casi a 0."
   ]
  },
  {
   "cell_type": "code",
   "execution_count": 13,
   "metadata": {},
   "outputs": [
    {
     "name": "stdout",
     "output_type": "stream",
     "text": [
      "Test accuracy: 84.72%\n"
     ]
    }
   ],
   "source": [
    "def evaluate(model, loader):\n",
    "    model.eval()\n",
    "    correct = 0\n",
    "    total = 0\n",
    "    with torch.no_grad():\n",
    "        for X_batch, y_batch in loader:\n",
    "            outputs = model(X_batch).squeeze()\n",
    "            predictions = (outputs > 0.5).int()\n",
    "            correct += (predictions == y_batch).sum().item()\n",
    "            total += y_batch.size(0)\n",
    "    return correct / total\n",
    "\n",
    "accuracy = evaluate(model, test_dl)\n",
    "print(f\"Test accuracy: {accuracy * 100:.2f}%\")"
   ]
  },
  {
   "cell_type": "markdown",
   "metadata": {},
   "source": [
    "La precisión obtenida se encuentra entre el 80-90%, por lo que se sugiere que el entrenamiento se ha realizado correctamente."
   ]
  },
  {
   "cell_type": "markdown",
   "metadata": {},
   "source": [
    "---"
   ]
  },
  {
   "cell_type": "markdown",
   "metadata": {},
   "source": [
    "# Convertir Jupyter Notebook a Fichero Python"
   ]
  },
  {
   "cell_type": "code",
   "execution_count": 14,
   "metadata": {},
   "outputs": [
    {
     "name": "stdout",
     "output_type": "stream",
     "text": [
      "[NbConvertApp] Converting notebook notebook.ipynb to script\n",
      "[NbConvertApp] Writing 9377 bytes to notebook.py\n"
     ]
    }
   ],
   "source": [
    "! python .convert_notebook_to_script.py --input notebook.ipynb --output notebook.py"
   ]
  }
 ],
 "metadata": {
  "kernelspec": {
   "display_name": "Python 3",
   "language": "python",
   "name": "python3"
  },
  "language_info": {
   "codemirror_mode": {
    "name": "ipython",
    "version": 3
   },
   "file_extension": ".py",
   "mimetype": "text/x-python",
   "name": "python",
   "nbconvert_exporter": "python",
   "pygments_lexer": "ipython3",
   "version": "3.9.20"
  }
 },
 "nbformat": 4,
 "nbformat_minor": 2
}
