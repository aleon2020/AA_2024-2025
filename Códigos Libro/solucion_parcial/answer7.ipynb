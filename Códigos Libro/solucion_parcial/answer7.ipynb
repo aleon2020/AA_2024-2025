{
 "cells": [
  {
   "cell_type": "markdown",
   "metadata": {},
   "source": [
    "# PREGUNTA 7"
   ]
  },
  {
   "cell_type": "markdown",
   "metadata": {},
   "source": [
    "## Configuración de las Rutas de Importación"
   ]
  },
  {
   "cell_type": "markdown",
   "metadata": {},
   "source": [
    "Se añade el directorio padre (..) al path (sys.path), lo que permite al entorno de Python acceder a módulos o paquetes ubicados en directorios superiores al actual. Esto es útil para poder importar scripts o paquetes personalizados sin tener que mover ficheros o el directorio de trabajo."
   ]
  },
  {
   "cell_type": "code",
   "execution_count": 1,
   "metadata": {},
   "outputs": [],
   "source": [
    "import sys\n",
    "sys.path.insert(0, '..')"
   ]
  },
  {
   "cell_type": "markdown",
   "metadata": {},
   "source": [
    "## Verificación de las Versiones de los Paquetes"
   ]
  },
  {
   "cell_type": "markdown",
   "metadata": {},
   "source": [
    "Se utiliza la función check_packages() para verificar que los paquetes y sus respectivas versiones indicadas en el diccionario 'd' estén instalados correctamente dentro del entorno. Este paso es importante para verificar la compatibilidad de cada paquete para poder evitar errores por diferencia de versión."
   ]
  },
  {
   "cell_type": "code",
   "execution_count": 2,
   "metadata": {},
   "outputs": [
    {
     "name": "stdout",
     "output_type": "stream",
     "text": [
      "[OK] Your Python version is 3.10.12 (main, Sep 11 2024, 15:47:36) [GCC 11.4.0]\n",
      "[OK] numpy 1.24.3\n",
      "[OK] scipy 1.8.0\n",
      "[OK] mlxtend 0.23.1\n",
      "[OK] matplotlib 3.5.1\n",
      "[OK] sklearn 1.5.2\n",
      "[OK] pandas 2.2.2\n"
     ]
    }
   ],
   "source": [
    "from python_environment_check import check_packages\n",
    "d = {\n",
    "    'numpy': '1.21.2',\n",
    "    'scipy': '1.7.0',\n",
    "    'mlxtend' : '0.19.0',\n",
    "    'matplotlib': '3.4.3',\n",
    "    'sklearn': '1.0',\n",
    "    'pandas': '1.3.2'\n",
    "}\n",
    "check_packages(d)"
   ]
  },
  {
   "cell_type": "markdown",
   "metadata": {},
   "source": [
    "## Importación de Paquetes"
   ]
  },
  {
   "cell_type": "markdown",
   "metadata": {},
   "source": [
    "Se importan los paquetes esenciales para analizar y visualizar datos: numpy para cálculos numéricos, pandas para manipular datos y matplotlib.pyplot para visualizar gráficos, entre otros."
   ]
  },
  {
   "cell_type": "code",
   "execution_count": 3,
   "metadata": {},
   "outputs": [],
   "source": [
    "import numpy as np\n",
    "import pandas as pd\n",
    "import matplotlib.pyplot as plt\n",
    "from sklearn.linear_model import LinearRegression\n",
    "from sklearn.preprocessing import PolynomialFeatures"
   ]
  },
  {
   "cell_type": "markdown",
   "metadata": {},
   "source": [
    "---"
   ]
  },
  {
   "cell_type": "code",
   "execution_count": 4,
   "metadata": {},
   "outputs": [],
   "source": [
    "columns = ['Col1', 'Col2', 'Col3', 'Col4', 'Col5', 'Col6', 'Col7', 'Col8', 'Target']\n",
    "df = pd.read_csv(\"dataset_regression.csv\", \n",
    "                 sep=',',\n",
    "                 usecols=columns)"
   ]
  },
  {
   "cell_type": "code",
   "execution_count": 5,
   "metadata": {},
   "outputs": [],
   "source": [
    "X = df[['Col1', 'Col2', 'Col3', 'Col4', 'Col5', 'Col6', 'Col7', 'Col8']].values\n",
    "y = df['Target'].values\n",
    "\n",
    "from sklearn.model_selection import train_test_split\n",
    "\n",
    "# PARÁMETROS POR DEFECTO\n",
    "X_train, X_test, y_train, y_test = train_test_split(\n",
    "    X, y, test_size=0.30, random_state=123)\n",
    "\n",
    "# PARÁMETROS ÓPTIMOS\n",
    "# X_train, X_test, y_train, y_test = train_test_split(\n",
    "#     X, y, test_size=0.30, random_state=1)"
   ]
  },
  {
   "cell_type": "code",
   "execution_count": 6,
   "metadata": {},
   "outputs": [
    {
     "name": "stdout",
     "output_type": "stream",
     "text": [
      "Cubic Model Coefficients: [-6.29648500e-03 -1.17092636e+02  1.20738183e+03 -3.84536965e+02\n",
      " -3.30475259e+01 -4.66159165e+02 -2.00086786e+02 -1.49638679e+02\n",
      " -1.56922435e+02  3.21233898e-02 -8.51196952e-01  2.36854344e-01\n",
      "  5.85881000e-02  1.83756425e-01  1.54232961e-01  4.17664547e-02\n",
      "  1.07812352e-01  6.83483223e-02 -1.63687976e-01  1.12621882e+00\n",
      " -1.21362757e+00 -1.49683504e+00 -7.78384388e-01 -8.36070915e-01\n",
      "  2.17254904e-01 -6.30994986e-02  6.97307977e-01  3.87528594e-01\n",
      "  2.41303393e-01  2.56914835e-01 -1.81661901e-03  3.10095164e-02\n",
      "  5.21017270e-02  8.64487030e-03  3.18023173e-02  5.57219643e-01\n",
      "  3.90960135e-01  3.22890810e-01  2.67743369e-01  8.85196719e-02\n",
      "  1.29879196e-01  1.58403913e-01  5.16493481e-02  9.85493642e-02\n",
      "  5.41000440e-02 -3.63917838e-06  2.19833513e-04 -4.20176052e-05\n",
      " -1.68433263e-05  6.14316843e-06 -3.17569413e-05 -1.50087588e-06\n",
      " -2.11750924e-05  1.54694741e-04  7.10041324e-05 -4.74847060e-04\n",
      "  3.82906269e-04  5.01083883e-04  2.91089557e-04  3.14326406e-04\n",
      " -6.83774984e-05  3.75738624e-06 -1.77747931e-04 -1.43949139e-04\n",
      " -5.73345163e-05 -9.25610062e-05 -2.90900396e-06 -7.77100860e-05\n",
      " -3.16304053e-05 -9.47551259e-06 -2.14571044e-05 -1.38028414e-04\n",
      " -1.25160167e-04 -1.41144941e-05 -6.43962631e-05 -4.36575468e-05\n",
      " -3.75811389e-05 -6.85282328e-05 -8.71988902e-07 -2.52069776e-05\n",
      " -2.27049361e-05 -4.14611909e-03  9.22979937e-04 -4.16062487e-05\n",
      " -7.67516768e-03  1.01578555e-03  1.52578487e-04  4.86289024e-04\n",
      " -1.69953871e-04 -3.91256717e-04  2.02559139e-04  1.88135335e-04\n",
      " -3.00031573e-05  9.89240095e-05 -3.13301354e-04 -3.22621728e-04\n",
      " -4.58617435e-04 -4.85778144e-04 -4.67378711e-04 -3.96165621e-04\n",
      "  1.25794502e-03  2.23274265e-04  6.84821170e-04  3.78887674e-04\n",
      "  5.17723189e-04  4.74806835e-04  1.34309058e-04  2.46812780e-04\n",
      "  1.51639404e-04 -3.91110486e-05  4.22310649e-05 -2.08180676e-04\n",
      " -1.18105927e-04 -5.88114090e-05 -6.70237193e-05 -3.33493890e-06\n",
      "  4.93049630e-05  1.55114613e-05  3.13966081e-05  2.21713976e-05\n",
      " -3.42037207e-04 -3.73540290e-04 -1.98762751e-04 -2.11894817e-04\n",
      " -8.98347338e-05 -1.25692479e-04 -1.37154351e-04 -3.94849645e-05\n",
      " -7.64521404e-05 -4.57724927e-05  3.96802601e-06  4.68431788e-06\n",
      " -1.62886058e-06  3.96560146e-07 -2.00781537e-06  4.81128858e-05\n",
      " -5.50534973e-05  1.47221101e-06 -3.06959185e-05 -1.61816373e-05\n",
      " -8.91793631e-06 -1.85749027e-05  2.56367910e-07 -6.69633761e-06\n",
      " -5.28295528e-06 -2.00002381e-04 -2.47056260e-04 -1.98917346e-04\n",
      " -1.36737808e-04 -8.05792410e-05 -1.21942420e-04 -1.37423552e-04\n",
      " -6.36007318e-05 -8.28098673e-05 -3.57295827e-05 -1.26586565e-05\n",
      " -2.92730686e-05 -3.86994410e-05 -2.17898996e-05 -4.89870607e-05\n",
      " -2.98312342e-05 -5.78326308e-06 -1.61733556e-05 -1.63918026e-05\n",
      " -6.36570427e-06]\n",
      "Cubic Model Intercept: 150010.3657240098\n",
      "Cubic Transformed Data: [1.00000000e+00 1.53000000e+02 8.00000000e+00 1.94000000e+02\n",
      " 2.80000000e+01 1.92000000e+02 6.23000000e+02 9.35000000e+02\n",
      " 1.49000000e+02 2.34090000e+04 1.22400000e+03 2.96820000e+04\n",
      " 4.28400000e+03 2.93760000e+04 9.53190000e+04 1.43055000e+05\n",
      " 2.27970000e+04 6.40000000e+01 1.55200000e+03 2.24000000e+02\n",
      " 1.53600000e+03 4.98400000e+03 7.48000000e+03 1.19200000e+03\n",
      " 3.76360000e+04 5.43200000e+03 3.72480000e+04 1.20862000e+05\n",
      " 1.81390000e+05 2.89060000e+04 7.84000000e+02 5.37600000e+03\n",
      " 1.74440000e+04 2.61800000e+04 4.17200000e+03 3.68640000e+04\n",
      " 1.19616000e+05 1.79520000e+05 2.86080000e+04 3.88129000e+05\n",
      " 5.82505000e+05 9.28270000e+04 8.74225000e+05 1.39315000e+05\n",
      " 2.22010000e+04 3.58157700e+06 1.87272000e+05 4.54134600e+06\n",
      " 6.55452000e+05 4.49452800e+06 1.45838070e+07 2.18874150e+07\n",
      " 3.48794100e+06 9.79200000e+03 2.37456000e+05 3.42720000e+04\n",
      " 2.35008000e+05 7.62552000e+05 1.14444000e+06 1.82376000e+05\n",
      " 5.75830800e+06 8.31096000e+05 5.69894400e+06 1.84918860e+07\n",
      " 2.77526700e+07 4.42261800e+06 1.19952000e+05 8.22528000e+05\n",
      " 2.66893200e+06 4.00554000e+06 6.38316000e+05 5.64019200e+06\n",
      " 1.83012480e+07 2.74665600e+07 4.37702400e+06 5.93837370e+07\n",
      " 8.91232650e+07 1.42025310e+07 1.33756425e+08 2.13151950e+07\n",
      " 3.39675300e+06 5.12000000e+02 1.24160000e+04 1.79200000e+03\n",
      " 1.22880000e+04 3.98720000e+04 5.98400000e+04 9.53600000e+03\n",
      " 3.01088000e+05 4.34560000e+04 2.97984000e+05 9.66896000e+05\n",
      " 1.45112000e+06 2.31248000e+05 6.27200000e+03 4.30080000e+04\n",
      " 1.39552000e+05 2.09440000e+05 3.33760000e+04 2.94912000e+05\n",
      " 9.56928000e+05 1.43616000e+06 2.28864000e+05 3.10503200e+06\n",
      " 4.66004000e+06 7.42616000e+05 6.99380000e+06 1.11452000e+06\n",
      " 1.77608000e+05 7.30138400e+06 1.05380800e+06 7.22611200e+06\n",
      " 2.34472280e+07 3.51896600e+07 5.60776400e+06 1.52096000e+05\n",
      " 1.04294400e+06 3.38413600e+06 5.07892000e+06 8.09368000e+05\n",
      " 7.15161600e+06 2.32055040e+07 3.48268800e+07 5.54995200e+06\n",
      " 7.52970260e+07 1.13005970e+08 1.80084380e+07 1.69599650e+08\n",
      " 2.70271100e+07 4.30699400e+06 2.19520000e+04 1.50528000e+05\n",
      " 4.88432000e+05 7.33040000e+05 1.16816000e+05 1.03219200e+06\n",
      " 3.34924800e+06 5.02656000e+06 8.01024000e+05 1.08676120e+07\n",
      " 1.63101400e+07 2.59915600e+06 2.44783000e+07 3.90082000e+06\n",
      " 6.21628000e+05 7.07788800e+06 2.29662720e+07 3.44678400e+07\n",
      " 5.49273600e+06 7.45207680e+07 1.11840960e+08 1.78227840e+07\n",
      " 1.67851200e+08 2.67484800e+07 4.26259200e+06 2.41804367e+08\n",
      " 3.62900615e+08 5.78312210e+07 5.44642175e+08 8.67932450e+07\n",
      " 1.38312230e+07 8.17400375e+08 1.30259525e+08 2.07579350e+07\n",
      " 3.30794900e+06]\n",
      "Predicted Target: [21.14979215]\n"
     ]
    }
   ],
   "source": [
    "regr = LinearRegression()\n",
    "\n",
    "cubic = PolynomialFeatures(degree=3)\n",
    "X_train_cubic = cubic.fit_transform(X_train)\n",
    "\n",
    "regr_cubic = regr.fit(X_train_cubic, y_train)\n",
    "\n",
    "print(\"Cubic Model Coefficients:\", regr_cubic.coef_)\n",
    "print(\"Cubic Model Intercept:\", regr_cubic.intercept_)\n",
    "\n",
    "new_data_cubic = np.array([[153.0, 8.0, 194.0, 28, 192.0, 623.0, 935.0, 149.0]])\n",
    "\n",
    "transformed_new_data_cubic = cubic.transform(new_data_cubic)\n",
    "print(\"Cubic Transformed Data:\", transformed_new_data_cubic[0])\n",
    "\n",
    "predicted_target_cubic = regr_cubic.predict(transformed_new_data_cubic)\n",
    "print(\"Predicted Target:\", predicted_target_cubic)"
   ]
  },
  {
   "cell_type": "code",
   "execution_count": 7,
   "metadata": {},
   "outputs": [],
   "source": [
    "X_train_cubic = cubic.fit_transform(X_train)\n",
    "X_test_cubic = cubic.fit_transform(X_test)\n",
    "\n",
    "y_train_cubic = regr.predict(X_train_cubic)\n",
    "y_test_cubic = regr.predict(X_test_cubic)"
   ]
  },
  {
   "cell_type": "code",
   "execution_count": 8,
   "metadata": {},
   "outputs": [
    {
     "name": "stdout",
     "output_type": "stream",
     "text": [
      "MSE train: 18.52\n",
      "MSE test: 38.72\n",
      "MAE train: 3.38\n",
      "MAE test: 4.54\n",
      "R² train: 0.93\n",
      "R² test: 0.86\n"
     ]
    }
   ],
   "source": [
    "from sklearn.metrics import mean_squared_error\n",
    "from sklearn.metrics import mean_absolute_error\n",
    "from sklearn.metrics import r2_score\n",
    "\n",
    "mae_train = mean_absolute_error(y_train, y_train_cubic)\n",
    "mae_test = mean_absolute_error(y_test, y_test_cubic)\n",
    "\n",
    "mse_train = mean_squared_error(y_train, y_train_cubic)\n",
    "mse_test = mean_squared_error(y_test, y_test_cubic)\n",
    "\n",
    "r2_train = r2_score(y_train, y_train_cubic)\n",
    "r2_test = r2_score(y_test, y_test_cubic)\n",
    "\n",
    "print(f'MSE train: {mse_train:.2f}')\n",
    "print(f'MSE test: {mse_test:.2f}')\n",
    "\n",
    "print(f'MAE train: {mae_train:.2f}')\n",
    "print(f'MAE test: {mae_test:.2f}')\n",
    "\n",
    "print(f'R² train: {r2_train:.2f}')\n",
    "print(f'R² test: {r2_test:.2f}')"
   ]
  },
  {
   "cell_type": "markdown",
   "metadata": {},
   "source": [
    "---"
   ]
  },
  {
   "cell_type": "markdown",
   "metadata": {},
   "source": [
    "## Convertir Jupyter Notebook a Fichero Python"
   ]
  },
  {
   "cell_type": "markdown",
   "metadata": {},
   "source": [
    "### Script en el Directorio Actual"
   ]
  },
  {
   "cell_type": "code",
   "execution_count": 9,
   "metadata": {},
   "outputs": [
    {
     "name": "stdout",
     "output_type": "stream",
     "text": [
      "[NbConvertApp] Converting notebook answer7.ipynb to script\n",
      "[NbConvertApp] Writing 3913 bytes to answer7.py\n"
     ]
    }
   ],
   "source": [
    "! python .convert_notebook_to_script.py --input answer7.ipynb --output answer7.py"
   ]
  },
  {
   "cell_type": "markdown",
   "metadata": {},
   "source": [
    "### Script en el Directorio Padre"
   ]
  },
  {
   "cell_type": "code",
   "execution_count": 10,
   "metadata": {},
   "outputs": [
    {
     "name": "stdout",
     "output_type": "stream",
     "text": [
      "[NbConvertApp] Converting notebook answer7.ipynb to script\n",
      "[NbConvertApp] Writing 3913 bytes to answer7.py\n"
     ]
    }
   ],
   "source": [
    "! python ../.convert_notebook_to_script.py --input answer7.ipynb --output answer7.py"
   ]
  }
 ],
 "metadata": {
  "kernelspec": {
   "display_name": "Python 3",
   "language": "python",
   "name": "python3"
  },
  "language_info": {
   "codemirror_mode": {
    "name": "ipython",
    "version": 3
   },
   "file_extension": ".py",
   "mimetype": "text/x-python",
   "name": "python",
   "nbconvert_exporter": "python",
   "pygments_lexer": "ipython3",
   "version": "3.10.12"
  }
 },
 "nbformat": 4,
 "nbformat_minor": 2
}
