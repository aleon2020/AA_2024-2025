{
 "cells": [
  {
   "cell_type": "markdown",
   "metadata": {},
   "source": [
    "# PREGUNTA 5"
   ]
  },
  {
   "cell_type": "markdown",
   "metadata": {},
   "source": [
    "Implementa un modelo de regresión lineal para este conjunto de datos. Usa el 75% de los datos para el entrenamiento y el 25% para las pruebas.\n",
    "\n",
    "a. ¿Qué rendimiento se alcanza con este modelo? (contesta en el cuadernillo)\n",
    "\n",
    "b. ¿Cuál es el valor de la variable de salida si el vector de caracterı́sticas de entrada es [180.0, 10.4, 120.0, 28, 162.0, 765.0, 830.0, 275.0]? (contesta en el cuadernillo)\n",
    "\n",
    "c. Determina el valor de los coeﬁcientes del modelo y comprueba el resultado obtenido en el punto anterior. (contesta en el cuadernillo)\n",
    "\n",
    "Deposita el código Python en Aula Virtual en el ﬁchero 'answer5.ipynb'.\n",
    "\n",
    "RESPUESTA\n",
    "\n",
    "a.\n",
    "\n",
    "El rendimiento del modelo se evalúa utilizando el error absoluto medio (8.17 en el conjunto de entrenamiento y 8.47 en el conjunto de prueba), el error cuadrático medio (106.29 en el conjunto de entrenamiento y 113.64 en el conjunto de prueba)y el coeficiente de determinación R² (0.62 en el conjunto de entrenamiento y 0.59 en el conjunto de prueba). \n",
    "\n",
    "Estos valores indican cómo de bien ajusta el modelo los datos de entrenamiento y de prueba. Si el valor de R² es cercano o igual a 1, se sugiere que el modelo ajusta bien los datos. Sin embargo, si el valor obtenido es bajo o negativo, se sugiere que el ajuste realizado es pobre.\n",
    "\n",
    "b.\n",
    "\n",
    "Al transformar el vector de entrada [180.0, 10.4, 120.0, 28, 162.0, 765.0, 830.0, 275.0] y realizar la predicción, se obtiene 49.58538735 como el valor de la variable de salida.\n",
    "\n",
    "c.\n",
    "\n",
    "El valor de los coeficientes del modelo obtenidos son:\n",
    "\n",
    "[ 0.          0.12119017  0.42398615  0.10968999  0.10882409 -0.05157896 0.04055248  0.03943884  0.13467926]"
   ]
  },
  {
   "cell_type": "markdown",
   "metadata": {},
   "source": [
    "---"
   ]
  },
  {
   "cell_type": "markdown",
   "metadata": {},
   "source": [
    "# Configuración y Visualización del Entorno"
   ]
  },
  {
   "cell_type": "markdown",
   "metadata": {},
   "source": [
    "## Configuración de las Rutas de Importación"
   ]
  },
  {
   "cell_type": "markdown",
   "metadata": {},
   "source": [
    "Se añade el directorio padre (..) al path (sys.path), lo que permite al entorno de Python acceder a módulos o paquetes ubicados en directorios superiores al actual. Esto es útil para poder importar scripts o paquetes personalizados sin tener que mover ficheros o el directorio de trabajo."
   ]
  },
  {
   "cell_type": "code",
   "execution_count": 10,
   "metadata": {},
   "outputs": [],
   "source": [
    "import sys\n",
    "sys.path.insert(0, '..')"
   ]
  },
  {
   "cell_type": "markdown",
   "metadata": {},
   "source": [
    "## Verificación de las Versiones de los Paquetes"
   ]
  },
  {
   "cell_type": "markdown",
   "metadata": {},
   "source": [
    "Se utiliza la función check_packages() para verificar que los paquetes y sus respectivas versiones indicadas en el diccionario 'd' estén instalados correctamente dentro del entorno. Este paso es importante para verificar la compatibilidad de cada paquete para poder evitar errores por diferencia de versión."
   ]
  },
  {
   "cell_type": "code",
   "execution_count": 11,
   "metadata": {},
   "outputs": [
    {
     "name": "stdout",
     "output_type": "stream",
     "text": [
      "[OK] numpy 1.24.3\n",
      "[OK] scipy 1.8.0\n",
      "[OK] mlxtend 0.23.1\n",
      "[OK] matplotlib 3.5.1\n",
      "[OK] sklearn 1.5.2\n",
      "[OK] pandas 2.2.2\n"
     ]
    }
   ],
   "source": [
    "from python_environment_check import check_packages\n",
    "d = {\n",
    "    'numpy': '1.21.2',\n",
    "    'scipy': '1.7.0',\n",
    "    'mlxtend' : '0.19.0',\n",
    "    'matplotlib': '3.4.3',\n",
    "    'sklearn': '1.0',\n",
    "    'pandas': '1.3.2'\n",
    "}\n",
    "check_packages(d)"
   ]
  },
  {
   "cell_type": "markdown",
   "metadata": {},
   "source": [
    "## Importación de Paquetes"
   ]
  },
  {
   "cell_type": "markdown",
   "metadata": {},
   "source": [
    "Se importan los paquetes esenciales para analizar y visualizar datos: numpy para cálculos numéricos, pandas para manipular datos y matplotlib.pyplot para visualizar gráficos, entre otros."
   ]
  },
  {
   "cell_type": "code",
   "execution_count": 12,
   "metadata": {},
   "outputs": [],
   "source": [
    "import numpy as np\n",
    "import pandas as pd\n",
    "import matplotlib.pyplot as plt\n",
    "from sklearn.linear_model import LinearRegression\n",
    "from sklearn.preprocessing import PolynomialFeatures"
   ]
  },
  {
   "cell_type": "markdown",
   "metadata": {},
   "source": [
    "---"
   ]
  },
  {
   "cell_type": "markdown",
   "metadata": {},
   "source": [
    "# Código Fuente"
   ]
  },
  {
   "cell_type": "code",
   "execution_count": 13,
   "metadata": {},
   "outputs": [],
   "source": [
    "columns = ['Col1', 'Col2', 'Col3', 'Col4', 'Col5', 'Col6', 'Col7', 'Col8', 'Target']\n",
    "df = pd.read_csv(\"dataset_regression.csv\", \n",
    "                 sep=',',\n",
    "                 usecols=columns)"
   ]
  },
  {
   "cell_type": "code",
   "execution_count": 14,
   "metadata": {},
   "outputs": [],
   "source": [
    "X = df[['Col1', 'Col2', 'Col3', 'Col4', 'Col5', 'Col6', 'Col7', 'Col8']].values\n",
    "y = df['Target'].values\n",
    "\n",
    "from sklearn.model_selection import train_test_split\n",
    "\n",
    "X_train, X_test, y_train, y_test = train_test_split(\n",
    "    X, y, test_size=0.25, random_state=1)"
   ]
  },
  {
   "cell_type": "code",
   "execution_count": 15,
   "metadata": {},
   "outputs": [
    {
     "name": "stdout",
     "output_type": "stream",
     "text": [
      "Linear Model Coefficients: [ 0.          0.12119017  0.42398615  0.10968999  0.10882409 -0.05157896\n",
      "  0.04055248  0.03943884  0.13467926]\n",
      "Linear Model Intercept: -85.2860605247754\n",
      "Linear Transformed Data: [  1.  180.   10.4 120.   28.  162.  765.  830.  275. ]\n",
      "Predicted Target: [49.58538735]\n"
     ]
    }
   ],
   "source": [
    "regr = LinearRegression()\n",
    "\n",
    "linear = PolynomialFeatures(degree=1)\n",
    "X_train_linear = linear.fit_transform(X_train)\n",
    "\n",
    "regr_linear = regr.fit(X_train_linear, y_train)\n",
    "\n",
    "print(\"Linear Model Coefficients:\", regr_linear.coef_)\n",
    "print(\"Linear Model Intercept:\", regr_linear.intercept_)\n",
    "\n",
    "new_data_linear = np.array([[180.0, 10.4, 120.0, 28, 162.0, 765.0, 830.0, 275.0]])\n",
    "\n",
    "transformed_new_data_linear = linear.transform(new_data_linear)\n",
    "print(\"Linear Transformed Data:\", transformed_new_data_linear[0])\n",
    "\n",
    "predicted_target_linear = regr_linear.predict(transformed_new_data_linear)\n",
    "print(\"Predicted Target:\", predicted_target_linear)"
   ]
  },
  {
   "cell_type": "code",
   "execution_count": 16,
   "metadata": {},
   "outputs": [],
   "source": [
    "X_train_linear = linear.fit_transform(X_train)\n",
    "X_test_linear = linear.fit_transform(X_test)\n",
    "\n",
    "y_train_linear = regr.predict(X_train_linear)\n",
    "y_test_linear = regr.predict(X_test_linear)"
   ]
  },
  {
   "cell_type": "code",
   "execution_count": 17,
   "metadata": {},
   "outputs": [
    {
     "name": "stdout",
     "output_type": "stream",
     "text": [
      "MAE train: 8.17\n",
      "MAE test: 8.47\n",
      "MSE train: 106.29\n",
      "MSE test: 113.64\n",
      "R² train: 0.62\n",
      "R² test: 0.59\n"
     ]
    }
   ],
   "source": [
    "from sklearn.metrics import mean_squared_error\n",
    "from sklearn.metrics import mean_absolute_error\n",
    "from sklearn.metrics import r2_score\n",
    "\n",
    "mae_train = mean_absolute_error(y_train, y_train_linear)\n",
    "mae_test = mean_absolute_error(y_test, y_test_linear)\n",
    "\n",
    "mse_train = mean_squared_error(y_train, y_train_linear)\n",
    "mse_test = mean_squared_error(y_test, y_test_linear)\n",
    "\n",
    "r2_train = r2_score(y_train, y_train_linear)\n",
    "r2_test = r2_score(y_test, y_test_linear)\n",
    "\n",
    "print(f'MAE train: {mae_train:.2f}')\n",
    "print(f'MAE test: {mae_test:.2f}')\n",
    "\n",
    "print(f'MSE train: {mse_train:.2f}')\n",
    "print(f'MSE test: {mse_test:.2f}')\n",
    "\n",
    "print(f'R² train: {r2_train:.2f}')\n",
    "print(f'R² test: {r2_test:.2f}')"
   ]
  },
  {
   "cell_type": "markdown",
   "metadata": {},
   "source": [
    "---"
   ]
  },
  {
   "cell_type": "markdown",
   "metadata": {},
   "source": [
    "# Convertir Jupyter Notebook a Fichero Python"
   ]
  },
  {
   "cell_type": "code",
   "execution_count": 18,
   "metadata": {},
   "outputs": [
    {
     "name": "stdout",
     "output_type": "stream",
     "text": [
      "[NbConvertApp] Converting notebook answer5.ipynb to script\n",
      "[NbConvertApp] Writing 5334 bytes to answer5.py\n"
     ]
    }
   ],
   "source": [
    "! python .convert_notebook_to_script.py --input answer5.ipynb --output answer5.py"
   ]
  }
 ],
 "metadata": {
  "kernelspec": {
   "display_name": "Python 3",
   "language": "python",
   "name": "python3"
  },
  "language_info": {
   "codemirror_mode": {
    "name": "ipython",
    "version": 3
   },
   "file_extension": ".py",
   "mimetype": "text/x-python",
   "name": "python",
   "nbconvert_exporter": "python",
   "pygments_lexer": "ipython3",
   "version": "3.10.12"
  }
 },
 "nbformat": 4,
 "nbformat_minor": 2
}
