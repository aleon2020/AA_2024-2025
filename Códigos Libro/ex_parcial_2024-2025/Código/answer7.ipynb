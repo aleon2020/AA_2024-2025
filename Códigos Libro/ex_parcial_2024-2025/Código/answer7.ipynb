{
 "cells": [
  {
   "cell_type": "markdown",
   "metadata": {},
   "source": [
    "# PREGUNTA 7"
   ]
  },
  {
   "cell_type": "markdown",
   "metadata": {},
   "source": [
    "Implementa un modelo de regresión cúbica para este conjunto de datos. Usa el 70% de los datos para el entrenamiento y el 30% para las pruebas.\n",
    "\n",
    "a. ¿Qué rendimiento se alcanza con este modelo? (contesta en el cuadernillo)\n",
    "\n",
    "b. ¿Cuál es la dimensión del vector de caracterı́sticas transformadas? (contesta en el cuadernillo)\n",
    "\n",
    "c. ¿Cuál es el valor de la variable de salida si el vector de caracterı́sticas de entrada es [153.0, 8.0, 194.0, 28, 192.0, 623.0, 935.0, 149.0]? (contesta en el cuadernillo)\n",
    "\n",
    "Deposita el código Python en Aula Virtual en el ﬁchero 'answer7.ipynb'.\n",
    "\n",
    "RESPUESTA\n",
    "\n",
    "a.\n",
    "\n",
    "El rendimiento del modelo se evalúa utilizando el error absoluto medio (3.30 en el conjunto de entrenamiento y 4.53 en el conjunto de prueba), el error cuadrático medio (18.58 en el conjunto de entrenamiento y 35.50 en el conjunto de prueba)y el coeficiente de determinación R² (0.93 en el conjunto de entrenamiento y 0.87 en el conjunto de prueba). \n",
    "\n",
    "Estos valores indican cómo de bien ajusta el modelo los datos de entrenamiento y de prueba. Si el valor de R² es cercano o igual a 1, se sugiere que el modelo ajusta bien los datos. Sin embargo, si el valor obtenido es bajo o negativo, se sugiere que el ajuste realizado es pobre.\n",
    "\n",
    "b.\n",
    "\n",
    "Al usar la transformación cuadrática con términos de segundo grado y combinaciones, la dimensión del vector transformado aumenta. Por lo tanto, al tener 8 características originales, el nuevo vector tendrá una dimensión de 45.\n",
    "\n",
    "Dimensión = ((8 + 3) * (8 + 2) * (8 + 1)) / 6 = (11 * 10 * 9) / 6 = 165\n",
    "\n",
    "c.\n",
    "\n",
    "Al transformar el vector de entrada [153.0, 8.0, 194.0, 28, 192.0, 623.0, 935.0, 149.0] y realizar la predicción, se obtiene 22.84045553 como el valor de la variable de salida."
   ]
  },
  {
   "cell_type": "markdown",
   "metadata": {},
   "source": [
    "---"
   ]
  },
  {
   "cell_type": "markdown",
   "metadata": {},
   "source": [
    "# Configuración y Visualización del Entorno"
   ]
  },
  {
   "cell_type": "markdown",
   "metadata": {},
   "source": [
    "## Configuración de las Rutas de Importación"
   ]
  },
  {
   "cell_type": "markdown",
   "metadata": {},
   "source": [
    "Se añade el directorio padre (..) al path (sys.path), lo que permite al entorno de Python acceder a módulos o paquetes ubicados en directorios superiores al actual. Esto es útil para poder importar scripts o paquetes personalizados sin tener que mover ficheros o el directorio de trabajo."
   ]
  },
  {
   "cell_type": "code",
   "execution_count": 19,
   "metadata": {},
   "outputs": [],
   "source": [
    "import sys\n",
    "sys.path.insert(0, '..')"
   ]
  },
  {
   "cell_type": "markdown",
   "metadata": {},
   "source": [
    "## Verificación de las Versiones de los Paquetes"
   ]
  },
  {
   "cell_type": "markdown",
   "metadata": {},
   "source": [
    "Se utiliza la función check_packages() para verificar que los paquetes y sus respectivas versiones indicadas en el diccionario 'd' estén instalados correctamente dentro del entorno. Este paso es importante para verificar la compatibilidad de cada paquete para poder evitar errores por diferencia de versión."
   ]
  },
  {
   "cell_type": "code",
   "execution_count": 20,
   "metadata": {},
   "outputs": [
    {
     "name": "stdout",
     "output_type": "stream",
     "text": [
      "[OK] numpy 1.24.3\n",
      "[OK] scipy 1.8.0\n",
      "[OK] mlxtend 0.23.1\n",
      "[OK] matplotlib 3.5.1\n",
      "[OK] sklearn 1.5.2\n",
      "[OK] pandas 2.2.2\n"
     ]
    }
   ],
   "source": [
    "from python_environment_check import check_packages\n",
    "d = {\n",
    "    'numpy': '1.21.2',\n",
    "    'scipy': '1.7.0',\n",
    "    'mlxtend' : '0.19.0',\n",
    "    'matplotlib': '3.4.3',\n",
    "    'sklearn': '1.0',\n",
    "    'pandas': '1.3.2'\n",
    "}\n",
    "check_packages(d)"
   ]
  },
  {
   "cell_type": "markdown",
   "metadata": {},
   "source": [
    "## Importación de Paquetes"
   ]
  },
  {
   "cell_type": "markdown",
   "metadata": {},
   "source": [
    "Se importan los paquetes esenciales para analizar y visualizar datos: numpy para cálculos numéricos, pandas para manipular datos y matplotlib.pyplot para visualizar gráficos, entre otros."
   ]
  },
  {
   "cell_type": "code",
   "execution_count": 21,
   "metadata": {},
   "outputs": [],
   "source": [
    "import numpy as np\n",
    "import pandas as pd\n",
    "import matplotlib.pyplot as plt\n",
    "from sklearn.linear_model import LinearRegression\n",
    "from sklearn.preprocessing import PolynomialFeatures"
   ]
  },
  {
   "cell_type": "markdown",
   "metadata": {},
   "source": [
    "---"
   ]
  },
  {
   "cell_type": "markdown",
   "metadata": {},
   "source": [
    "# Código Fuente"
   ]
  },
  {
   "cell_type": "code",
   "execution_count": 22,
   "metadata": {},
   "outputs": [],
   "source": [
    "columns = ['Col1', 'Col2', 'Col3', 'Col4', 'Col5', 'Col6', 'Col7', 'Col8', 'Target']\n",
    "df = pd.read_csv(\"dataset_regression.csv\", \n",
    "                 sep=',',\n",
    "                 usecols=columns)"
   ]
  },
  {
   "cell_type": "code",
   "execution_count": 23,
   "metadata": {},
   "outputs": [],
   "source": [
    "X = df[['Col1', 'Col2', 'Col3', 'Col4', 'Col5', 'Col6', 'Col7', 'Col8']].values\n",
    "y = df['Target'].values\n",
    "\n",
    "from sklearn.model_selection import train_test_split\n",
    "\n",
    "X_train, X_test, y_train, y_test = train_test_split(\n",
    "    X, y, test_size=0.30, random_state=1)"
   ]
  },
  {
   "cell_type": "code",
   "execution_count": 24,
   "metadata": {},
   "outputs": [
    {
     "name": "stdout",
     "output_type": "stream",
     "text": [
      "Cubic Model Coefficients: [-2.16434513e-02 -1.59693841e+02  1.10001827e+03 -3.90755280e+02\n",
      "  3.29711968e+01 -4.54940485e+02 -2.02236767e+02 -1.93320965e+02\n",
      " -1.81850418e+02  5.87212141e-02 -5.82942381e-01  2.75623501e-01\n",
      "  7.36172017e-03  2.28554699e-01  1.76081641e-01  8.46467881e-02\n",
      "  1.55030110e-01 -9.73493296e-02 -4.97866137e-01  9.51023042e-01\n",
      " -2.91521680e+00 -1.19265098e+00 -5.28536278e-01 -7.46597273e-01\n",
      "  2.26460506e-01 -6.75880052e-02  6.22921247e-01  3.76410206e-01\n",
      "  2.67723378e-01  2.89559818e-01 -1.91516641e-03 -4.19845127e-02\n",
      " -1.32893962e-02 -4.17976700e-02 -1.44745563e-02  3.23926057e-01\n",
      "  3.67540493e-01  4.18965466e-01  2.61661611e-01  8.08621533e-02\n",
      "  1.45643281e-01  1.71631869e-01  7.56074588e-02  1.27277006e-01\n",
      "  6.99631025e-02 -7.75479234e-06  1.07217001e-04 -5.30612995e-05\n",
      " -1.87449535e-06 -2.84978785e-05 -3.86591215e-05 -1.19556382e-05\n",
      " -3.29464887e-05 -4.49206825e-04  8.28754308e-05 -5.30114084e-04\n",
      "  7.79708878e-04  3.46863833e-04  1.35222920e-04  1.88191100e-04\n",
      " -8.17560120e-05  2.02797760e-05 -2.13775091e-04 -1.52186544e-04\n",
      " -7.52830813e-05 -1.17650230e-04 -5.56203683e-07 -6.10906974e-05\n",
      " -3.04881481e-06  6.57961977e-06  4.24650849e-06 -3.46790474e-05\n",
      " -1.46754907e-04 -6.23532774e-05 -1.13208988e-04 -4.36104933e-05\n",
      " -5.05417018e-05 -8.25248607e-05 -9.35558640e-06 -4.44680168e-05\n",
      " -3.39695391e-05  4.44428539e-04  6.94677848e-04  1.29147080e-03\n",
      " -3.30961175e-03  5.45735750e-04  1.68244318e-05  1.01842729e-04\n",
      " -1.36269430e-05 -5.52974117e-04  1.44145969e-03  2.87815646e-04\n",
      " -1.80877104e-05  1.53609943e-04 -3.38697770e-04  7.40430715e-05\n",
      " -4.22031816e-04 -3.75486141e-04 -5.72629805e-04  1.76386693e-03\n",
      "  1.59870320e-03  6.22016281e-04  1.17786781e-03  2.56678584e-04\n",
      "  3.85306084e-04  3.78718074e-04  4.02216878e-05  1.78421000e-04\n",
      "  1.25079241e-04 -4.21398034e-05  3.57658356e-05 -2.00716808e-04\n",
      " -1.16746105e-04 -6.71810299e-05 -8.08056426e-05 -4.88991106e-06\n",
      "  4.01634884e-06  2.48013112e-05  3.40367823e-05  3.51907240e-05\n",
      " -1.30607117e-04 -3.44503116e-04 -2.23877018e-04 -2.31577062e-04\n",
      " -8.25134485e-05 -1.30518709e-04 -1.43080528e-04 -4.57619662e-05\n",
      " -9.40915184e-05 -5.59163037e-05  4.48644415e-06 -1.01746006e-06\n",
      "  5.30785176e-08 -7.21828102e-07  2.31002077e-07  4.07078838e-05\n",
      " -1.07331888e-05  4.10329125e-05 -1.97023805e-05  2.67150000e-07\n",
      "  1.30621127e-05  6.50274467e-06  1.00857279e-05  9.89448946e-06\n",
      "  5.23461790e-06 -3.78201545e-05 -1.37964942e-04 -2.02576937e-04\n",
      " -1.23651770e-05 -7.78456885e-05 -1.41481304e-04 -1.47840995e-04\n",
      " -1.00805094e-04 -1.06626515e-04 -4.53938528e-05 -9.90457772e-06\n",
      " -2.85782849e-05 -3.80377801e-05 -2.68487038e-05 -5.76080110e-05\n",
      " -3.46905015e-05 -9.46916109e-06 -2.23308605e-05 -2.35827278e-05\n",
      " -9.18449967e-06]\n",
      "Cubic Model Intercept: 166912.71943535766\n",
      "Cubic Transformed Data: [1.00000000e+00 1.53000000e+02 8.00000000e+00 1.94000000e+02\n",
      " 2.80000000e+01 1.92000000e+02 6.23000000e+02 9.35000000e+02\n",
      " 1.49000000e+02 2.34090000e+04 1.22400000e+03 2.96820000e+04\n",
      " 4.28400000e+03 2.93760000e+04 9.53190000e+04 1.43055000e+05\n",
      " 2.27970000e+04 6.40000000e+01 1.55200000e+03 2.24000000e+02\n",
      " 1.53600000e+03 4.98400000e+03 7.48000000e+03 1.19200000e+03\n",
      " 3.76360000e+04 5.43200000e+03 3.72480000e+04 1.20862000e+05\n",
      " 1.81390000e+05 2.89060000e+04 7.84000000e+02 5.37600000e+03\n",
      " 1.74440000e+04 2.61800000e+04 4.17200000e+03 3.68640000e+04\n",
      " 1.19616000e+05 1.79520000e+05 2.86080000e+04 3.88129000e+05\n",
      " 5.82505000e+05 9.28270000e+04 8.74225000e+05 1.39315000e+05\n",
      " 2.22010000e+04 3.58157700e+06 1.87272000e+05 4.54134600e+06\n",
      " 6.55452000e+05 4.49452800e+06 1.45838070e+07 2.18874150e+07\n",
      " 3.48794100e+06 9.79200000e+03 2.37456000e+05 3.42720000e+04\n",
      " 2.35008000e+05 7.62552000e+05 1.14444000e+06 1.82376000e+05\n",
      " 5.75830800e+06 8.31096000e+05 5.69894400e+06 1.84918860e+07\n",
      " 2.77526700e+07 4.42261800e+06 1.19952000e+05 8.22528000e+05\n",
      " 2.66893200e+06 4.00554000e+06 6.38316000e+05 5.64019200e+06\n",
      " 1.83012480e+07 2.74665600e+07 4.37702400e+06 5.93837370e+07\n",
      " 8.91232650e+07 1.42025310e+07 1.33756425e+08 2.13151950e+07\n",
      " 3.39675300e+06 5.12000000e+02 1.24160000e+04 1.79200000e+03\n",
      " 1.22880000e+04 3.98720000e+04 5.98400000e+04 9.53600000e+03\n",
      " 3.01088000e+05 4.34560000e+04 2.97984000e+05 9.66896000e+05\n",
      " 1.45112000e+06 2.31248000e+05 6.27200000e+03 4.30080000e+04\n",
      " 1.39552000e+05 2.09440000e+05 3.33760000e+04 2.94912000e+05\n",
      " 9.56928000e+05 1.43616000e+06 2.28864000e+05 3.10503200e+06\n",
      " 4.66004000e+06 7.42616000e+05 6.99380000e+06 1.11452000e+06\n",
      " 1.77608000e+05 7.30138400e+06 1.05380800e+06 7.22611200e+06\n",
      " 2.34472280e+07 3.51896600e+07 5.60776400e+06 1.52096000e+05\n",
      " 1.04294400e+06 3.38413600e+06 5.07892000e+06 8.09368000e+05\n",
      " 7.15161600e+06 2.32055040e+07 3.48268800e+07 5.54995200e+06\n",
      " 7.52970260e+07 1.13005970e+08 1.80084380e+07 1.69599650e+08\n",
      " 2.70271100e+07 4.30699400e+06 2.19520000e+04 1.50528000e+05\n",
      " 4.88432000e+05 7.33040000e+05 1.16816000e+05 1.03219200e+06\n",
      " 3.34924800e+06 5.02656000e+06 8.01024000e+05 1.08676120e+07\n",
      " 1.63101400e+07 2.59915600e+06 2.44783000e+07 3.90082000e+06\n",
      " 6.21628000e+05 7.07788800e+06 2.29662720e+07 3.44678400e+07\n",
      " 5.49273600e+06 7.45207680e+07 1.11840960e+08 1.78227840e+07\n",
      " 1.67851200e+08 2.67484800e+07 4.26259200e+06 2.41804367e+08\n",
      " 3.62900615e+08 5.78312210e+07 5.44642175e+08 8.67932450e+07\n",
      " 1.38312230e+07 8.17400375e+08 1.30259525e+08 2.07579350e+07\n",
      " 3.30794900e+06]\n",
      "Predicted Target: [22.84045553]\n"
     ]
    }
   ],
   "source": [
    "regr = LinearRegression()\n",
    "\n",
    "cubic = PolynomialFeatures(degree=3)\n",
    "X_train_cubic = cubic.fit_transform(X_train)\n",
    "\n",
    "regr_cubic = regr.fit(X_train_cubic, y_train)\n",
    "\n",
    "print(\"Cubic Model Coefficients:\", regr_cubic.coef_)\n",
    "print(\"Cubic Model Intercept:\", regr_cubic.intercept_)\n",
    "\n",
    "new_data_cubic = np.array([[153.0, 8.0, 194.0, 28, 192.0, 623.0, 935.0, 149.0]])\n",
    "\n",
    "transformed_new_data_cubic = cubic.transform(new_data_cubic)\n",
    "print(\"Cubic Transformed Data:\", transformed_new_data_cubic[0])\n",
    "\n",
    "predicted_target_cubic = regr_cubic.predict(transformed_new_data_cubic)\n",
    "print(\"Predicted Target:\", predicted_target_cubic)"
   ]
  },
  {
   "cell_type": "code",
   "execution_count": 25,
   "metadata": {},
   "outputs": [],
   "source": [
    "X_train_cubic = cubic.fit_transform(X_train)\n",
    "X_test_cubic = cubic.fit_transform(X_test)\n",
    "\n",
    "y_train_cubic = regr.predict(X_train_cubic)\n",
    "y_test_cubic = regr.predict(X_test_cubic)"
   ]
  },
  {
   "cell_type": "code",
   "execution_count": 26,
   "metadata": {},
   "outputs": [
    {
     "name": "stdout",
     "output_type": "stream",
     "text": [
      "MAE train: 3.30\n",
      "MAE test: 4.53\n",
      "MSE train: 18.58\n",
      "MSE test: 35.50\n",
      "R² train: 0.93\n",
      "R² test: 0.87\n"
     ]
    }
   ],
   "source": [
    "from sklearn.metrics import mean_squared_error\n",
    "from sklearn.metrics import mean_absolute_error\n",
    "from sklearn.metrics import r2_score\n",
    "\n",
    "mae_train = mean_absolute_error(y_train, y_train_cubic)\n",
    "mae_test = mean_absolute_error(y_test, y_test_cubic)\n",
    "\n",
    "mse_train = mean_squared_error(y_train, y_train_cubic)\n",
    "mse_test = mean_squared_error(y_test, y_test_cubic)\n",
    "\n",
    "r2_train = r2_score(y_train, y_train_cubic)\n",
    "r2_test = r2_score(y_test, y_test_cubic)\n",
    "\n",
    "print(f'MAE train: {mae_train:.2f}')\n",
    "print(f'MAE test: {mae_test:.2f}')\n",
    "\n",
    "print(f'MSE train: {mse_train:.2f}')\n",
    "print(f'MSE test: {mse_test:.2f}')\n",
    "\n",
    "print(f'R² train: {r2_train:.2f}')\n",
    "print(f'R² test: {r2_test:.2f}')"
   ]
  },
  {
   "cell_type": "markdown",
   "metadata": {},
   "source": [
    "---"
   ]
  },
  {
   "cell_type": "markdown",
   "metadata": {},
   "source": [
    "# Convertir Jupyter Notebook a Fichero Python"
   ]
  },
  {
   "cell_type": "code",
   "execution_count": 27,
   "metadata": {},
   "outputs": [
    {
     "name": "stdout",
     "output_type": "stream",
     "text": [
      "[NbConvertApp] Converting notebook answer7.ipynb to script\n",
      "[NbConvertApp] Writing 5403 bytes to answer7.py\n"
     ]
    }
   ],
   "source": [
    "! python .convert_notebook_to_script.py --input answer7.ipynb --output answer7.py"
   ]
  }
 ],
 "metadata": {
  "kernelspec": {
   "display_name": "Python 3",
   "language": "python",
   "name": "python3"
  },
  "language_info": {
   "codemirror_mode": {
    "name": "ipython",
    "version": 3
   },
   "file_extension": ".py",
   "mimetype": "text/x-python",
   "name": "python",
   "nbconvert_exporter": "python",
   "pygments_lexer": "ipython3",
   "version": "3.10.12"
  }
 },
 "nbformat": 4,
 "nbformat_minor": 2
}
