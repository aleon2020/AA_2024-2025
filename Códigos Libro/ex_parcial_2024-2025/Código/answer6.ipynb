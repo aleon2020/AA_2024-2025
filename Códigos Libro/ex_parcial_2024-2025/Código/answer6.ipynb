{
 "cells": [
  {
   "cell_type": "markdown",
   "metadata": {},
   "source": [
    "# PREGUNTA 6"
   ]
  },
  {
   "cell_type": "markdown",
   "metadata": {},
   "source": [
    "Implementa un modelo de regresión polinomial cuadrática para este conjunto de datos. Usa el 70% de los datos para el entrenamiento y el 30% para las pruebas.\n",
    "\n",
    "a. ¿Qué rendimiento se alcanza con este modelo? (contesta en el cuadernillo)\n",
    "\n",
    "b. ¿Cuál es la dimensión del vector de caracterı́sticas transformadas? (contesta en el cuadernillo)\n",
    "\n",
    "c. ¿Cuál es el valor de la variable de salida si el vector de caracterı́sticas de entrada es [207.0, 5.0, 161.0, 28, 179.0, 736.0, 867.0, 132.0]? (contesta en el cuadernillo)\n",
    "\n",
    "Deposita el código Python en Aula Virtual en el ﬁchero 'answer6.ipynb'."
   ]
  },
  {
   "cell_type": "markdown",
   "metadata": {},
   "source": [
    "---"
   ]
  },
  {
   "cell_type": "markdown",
   "metadata": {},
   "source": [
    "# Configuración y Visualización del Entorno"
   ]
  },
  {
   "cell_type": "markdown",
   "metadata": {},
   "source": [
    "## Configuración de las Rutas de Importación"
   ]
  },
  {
   "cell_type": "markdown",
   "metadata": {},
   "source": [
    "Se añade el directorio padre (..) al path (sys.path), lo que permite al entorno de Python acceder a módulos o paquetes ubicados en directorios superiores al actual. Esto es útil para poder importar scripts o paquetes personalizados sin tener que mover ficheros o el directorio de trabajo."
   ]
  },
  {
   "cell_type": "code",
   "execution_count": 1,
   "metadata": {},
   "outputs": [],
   "source": [
    "import sys\n",
    "sys.path.insert(0, '..')"
   ]
  },
  {
   "cell_type": "markdown",
   "metadata": {},
   "source": [
    "## Verificación de las Versiones de los Paquetes"
   ]
  },
  {
   "cell_type": "markdown",
   "metadata": {},
   "source": [
    "Se utiliza la función check_packages() para verificar que los paquetes y sus respectivas versiones indicadas en el diccionario 'd' estén instalados correctamente dentro del entorno. Este paso es importante para verificar la compatibilidad de cada paquete para poder evitar errores por diferencia de versión."
   ]
  },
  {
   "cell_type": "code",
   "execution_count": 2,
   "metadata": {},
   "outputs": [
    {
     "name": "stdout",
     "output_type": "stream",
     "text": [
      "[OK] Your Python version is 3.10.12 (main, Nov  6 2024, 20:22:13) [GCC 11.4.0]\n"
     ]
    },
    {
     "name": "stdout",
     "output_type": "stream",
     "text": [
      "[OK] numpy 1.24.3\n",
      "[OK] scipy 1.8.0\n",
      "[OK] mlxtend 0.23.1\n",
      "[OK] matplotlib 3.5.1\n",
      "[OK] sklearn 1.5.2\n",
      "[OK] pandas 2.2.2\n"
     ]
    }
   ],
   "source": [
    "from python_environment_check import check_packages\n",
    "d = {\n",
    "    'numpy': '1.21.2',\n",
    "    'scipy': '1.7.0',\n",
    "    'mlxtend' : '0.19.0',\n",
    "    'matplotlib': '3.4.3',\n",
    "    'sklearn': '1.0',\n",
    "    'pandas': '1.3.2'\n",
    "}\n",
    "check_packages(d)"
   ]
  },
  {
   "cell_type": "markdown",
   "metadata": {},
   "source": [
    "## Importación de Paquetes"
   ]
  },
  {
   "cell_type": "markdown",
   "metadata": {},
   "source": [
    "Se importan los paquetes esenciales para analizar y visualizar datos: numpy para cálculos numéricos, pandas para manipular datos y matplotlib.pyplot para visualizar gráficos, entre otros."
   ]
  },
  {
   "cell_type": "code",
   "execution_count": 3,
   "metadata": {},
   "outputs": [],
   "source": [
    "import numpy as np\n",
    "import pandas as pd\n",
    "import matplotlib.pyplot as plt\n",
    "from sklearn.linear_model import LinearRegression\n",
    "from sklearn.preprocessing import PolynomialFeatures"
   ]
  },
  {
   "cell_type": "markdown",
   "metadata": {},
   "source": [
    "---"
   ]
  },
  {
   "cell_type": "markdown",
   "metadata": {},
   "source": [
    "# Código Fuente"
   ]
  },
  {
   "cell_type": "code",
   "execution_count": 4,
   "metadata": {},
   "outputs": [],
   "source": [
    "columns = ['Col1', 'Col2', 'Col3', 'Col4', 'Col5', 'Col6', 'Col7', 'Col8', 'Target']\n",
    "df = pd.read_csv(\"dataset_regression.csv\", \n",
    "                 sep=',',\n",
    "                 usecols=columns)"
   ]
  },
  {
   "cell_type": "code",
   "execution_count": 5,
   "metadata": {},
   "outputs": [],
   "source": [
    "X = df[['Col1', 'Col2', 'Col3', 'Col4', 'Col5', 'Col6', 'Col7', 'Col8']].values\n",
    "y = df['Target'].values\n",
    "\n",
    "from sklearn.model_selection import train_test_split\n",
    "\n",
    "X_train, X_test, y_train, y_test = train_test_split(\n",
    "    X, y, test_size=0.30, random_state=1)"
   ]
  },
  {
   "cell_type": "code",
   "execution_count": 6,
   "metadata": {},
   "outputs": [
    {
     "name": "stdout",
     "output_type": "stream",
     "text": [
      "Quadratic Model Coefficients: [-2.56497950e+08  2.09433461e+00  3.13566150e+01  1.86314107e+00\n",
      "  3.88415990e-01  1.43986333e+01  3.27766221e+00  2.15755914e+00\n",
      "  2.11874833e+00 -2.75415912e-04 -1.03897062e-02 -5.20274978e-05\n",
      "  4.33143498e-04 -4.10172456e-03 -6.97426108e-04 -4.99915067e-04\n",
      " -4.43515806e-04 -5.10738565e-02 -1.85649311e-02  1.16734781e-03\n",
      " -3.94818270e-02 -1.16090642e-02 -9.72380363e-03 -1.01537197e-02\n",
      "  5.68917748e-05  7.62478112e-04 -4.89652158e-03 -5.98617432e-04\n",
      " -3.18255286e-04 -1.71917429e-04 -5.82952118e-04 -6.60493406e-04\n",
      "  1.41343382e-04 -1.62817546e-04  1.36226387e-04 -9.83906014e-03\n",
      " -5.30113058e-03 -5.02303092e-03 -4.03407117e-03 -7.52420097e-04\n",
      " -7.92795227e-04 -7.59545900e-04 -1.96244575e-04 -4.21490127e-04\n",
      " -2.85317293e-04]\n",
      "Quadratic Model Intercept: 256493804.8926074\n",
      "Quadratic Transformed Data: [1.00000e+00 2.07000e+02 5.00000e+00 1.61000e+02 2.80000e+01 1.79000e+02\n",
      " 7.36000e+02 8.67000e+02 1.32000e+02 4.28490e+04 1.03500e+03 3.33270e+04\n",
      " 5.79600e+03 3.70530e+04 1.52352e+05 1.79469e+05 2.73240e+04 2.50000e+01\n",
      " 8.05000e+02 1.40000e+02 8.95000e+02 3.68000e+03 4.33500e+03 6.60000e+02\n",
      " 2.59210e+04 4.50800e+03 2.88190e+04 1.18496e+05 1.39587e+05 2.12520e+04\n",
      " 7.84000e+02 5.01200e+03 2.06080e+04 2.42760e+04 3.69600e+03 3.20410e+04\n",
      " 1.31744e+05 1.55193e+05 2.36280e+04 5.41696e+05 6.38112e+05 9.71520e+04\n",
      " 7.51689e+05 1.14444e+05 1.74240e+04]\n",
      "Predicted Target: [35.66423917]\n"
     ]
    }
   ],
   "source": [
    "regr = LinearRegression()\n",
    "\n",
    "quadratic = PolynomialFeatures(degree=2)\n",
    "X_train_quadratic = quadratic.fit_transform(X_train)\n",
    "\n",
    "regr_quadratic = regr.fit(X_train_quadratic, y_train)\n",
    "\n",
    "print(\"Quadratic Model Coefficients:\", regr_quadratic.coef_)\n",
    "print(\"Quadratic Model Intercept:\", regr_quadratic.intercept_)\n",
    "\n",
    "new_data_quadratic = np.array([[207.0, 5.0, 161.0, 28, 179.0, 736.0, 867.0, 132.0]])\n",
    "\n",
    "transformed_new_data_quadratic = quadratic.transform(new_data_quadratic)\n",
    "print(\"Quadratic Transformed Data:\", transformed_new_data_quadratic[0])\n",
    "\n",
    "predicted_target_quadratic = regr_quadratic.predict(transformed_new_data_quadratic)\n",
    "print(\"Predicted Target:\", predicted_target_quadratic)"
   ]
  },
  {
   "cell_type": "code",
   "execution_count": 7,
   "metadata": {},
   "outputs": [],
   "source": [
    "X_train_quadratic = quadratic.fit_transform(X_train)\n",
    "X_test_quadratic = quadratic.fit_transform(X_test)\n",
    "\n",
    "y_train_quadratic = regr.predict(X_train_quadratic)\n",
    "y_test_quadratic = regr.predict(X_test_quadratic)"
   ]
  },
  {
   "cell_type": "code",
   "execution_count": 8,
   "metadata": {},
   "outputs": [
    {
     "name": "stdout",
     "output_type": "stream",
     "text": [
      "MSE train: 52.35\n",
      "MSE test: 59.86\n",
      "MAE train: 5.59\n",
      "MAE test: 5.86\n",
      "R² train: 0.81\n",
      "R² test: 0.78\n"
     ]
    }
   ],
   "source": [
    "from sklearn.metrics import mean_squared_error\n",
    "from sklearn.metrics import mean_absolute_error\n",
    "from sklearn.metrics import r2_score\n",
    "\n",
    "mae_train = mean_absolute_error(y_train, y_train_quadratic)\n",
    "mae_test = mean_absolute_error(y_test, y_test_quadratic)\n",
    "\n",
    "mse_train = mean_squared_error(y_train, y_train_quadratic)\n",
    "mse_test = mean_squared_error(y_test, y_test_quadratic)\n",
    "\n",
    "r2_train = r2_score(y_train, y_train_quadratic)\n",
    "r2_test = r2_score(y_test, y_test_quadratic)\n",
    "\n",
    "print(f'MSE train: {mse_train:.2f}')\n",
    "print(f'MSE test: {mse_test:.2f}')\n",
    "\n",
    "print(f'MAE train: {mae_train:.2f}')\n",
    "print(f'MAE test: {mae_test:.2f}')\n",
    "\n",
    "print(f'R² train: {r2_train:.2f}')\n",
    "print(f'R² test: {r2_test:.2f}')"
   ]
  },
  {
   "cell_type": "markdown",
   "metadata": {},
   "source": [
    "---"
   ]
  },
  {
   "cell_type": "markdown",
   "metadata": {},
   "source": [
    "# Convertir Jupyter Notebook a Fichero Python"
   ]
  },
  {
   "cell_type": "code",
   "execution_count": 9,
   "metadata": {},
   "outputs": [
    {
     "name": "stdout",
     "output_type": "stream",
     "text": [
      "[NbConvertApp] Converting notebook answer6.ipynb to script\n",
      "[NbConvertApp] Writing 4369 bytes to answer6.py\n"
     ]
    }
   ],
   "source": [
    "! python .convert_notebook_to_script.py --input answer6.ipynb --output answer6.py"
   ]
  }
 ],
 "metadata": {
  "kernelspec": {
   "display_name": "Python 3",
   "language": "python",
   "name": "python3"
  },
  "language_info": {
   "codemirror_mode": {
    "name": "ipython",
    "version": 3
   },
   "file_extension": ".py",
   "mimetype": "text/x-python",
   "name": "python",
   "nbconvert_exporter": "python",
   "pygments_lexer": "ipython3",
   "version": "3.10.12"
  }
 },
 "nbformat": 4,
 "nbformat_minor": 2
}
