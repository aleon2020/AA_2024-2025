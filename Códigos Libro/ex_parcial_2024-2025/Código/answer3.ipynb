{
 "cells": [
  {
   "cell_type": "markdown",
   "metadata": {},
   "source": [
    "# PREGUNTA 3"
   ]
  },
  {
   "cell_type": "markdown",
   "metadata": {},
   "source": [
    "Implementa un modelo de clasiﬁcación para este conjunto de datos usando el método Decision Tree. Usa el 75% de los datos para el entrenamiento y el 25% para las pruebas.\n",
    "\n",
    "a. ¿Es recomendable estandarizar los datos antes de usar este método de clasiﬁcación? (contesta en el cuadernillo)\n",
    "\n",
    "b. Determina el criterio de división en los nodos y los parámetros que proporcionan los mejores resultados en términos de precisión. Indica la precisión que se ha alcanzado. (contesta en el cuadernillo)\n",
    "\n",
    "c. Determina la caracterı́stica de los datos que el algoritmo ha seleccionado para la división en el nodo raı́z. (contesta en el cuadernillo)\n",
    "\n",
    "d. ¿Cuál es el valor de la variable de salida si el vector de caracterı́sticas de entrada es [1, 3, 1, 2, 3, 2]? (contesta en el cuadernillo)\n",
    "\n",
    "Deposita el código Python en Aula Virtual en el ﬁchero 'answer3.ipynb'.\n",
    "\n",
    "RESPUESTA\n",
    "\n",
    "a.\n",
    "\n",
    "No, no es necesario estandarizar los datos antes de usar el método Decision Tree. Esto se debe a que los árboles de decisión no dependen de la escala de los datos, ya que evalúan divisiones basadas en umbrales relativos en lugar de distancias entre puntos. Por lo tanto, trabajar con datos en su escala original no afecta al rendimiento del modelo.\n",
    "\n",
    "b.\n",
    "\n",
    "El criterio de división utilizado en este modelo es 'gini', encargado de medir la pureza de los nodos, al cual se le han introducido los siguientes parámetros que proporcionan buenos resultados en términos de precisión:\n",
    "\n",
    "- max_depth = 10: Indica la profundidad máxima del árbol, además de controlar la complejidad y el sobreajuste.\n",
    "\n",
    "- random_state = 1: Asegura la reproducibilidad de los resultados.\n",
    "\n",
    "Con estos valores de los parámetros, se ha obtenido una precisión de 0.981 (98.1 %).\n",
    "\n",
    "c.\n",
    "\n",
    "Para identificar la característica seleccionada en el nodo raíz, se utiliza el método feature_importances_ de tree_model, el cual nos indica que la característca seleccionada en el nodo raíz es 'Col2'.\n",
    "\n",
    "d.\n",
    "\n",
    "El valor de salida predicho por el modelo SVM para el vector [1, 3, 1, 2, 3, 2] es de 1 para la clase 1, 0 para la clase 2, 0 para la clase 3 y 0 para la clase 4, siendo la clase 1 la más probable."
   ]
  },
  {
   "cell_type": "markdown",
   "metadata": {},
   "source": [
    "---"
   ]
  },
  {
   "cell_type": "markdown",
   "metadata": {},
   "source": [
    "# Configuración y Visualización del Entorno"
   ]
  },
  {
   "cell_type": "markdown",
   "metadata": {},
   "source": [
    "## Configuración de las Rutas de Importación"
   ]
  },
  {
   "cell_type": "markdown",
   "metadata": {},
   "source": [
    "Se añade el directorio padre (..) al path (sys.path), lo que permite al entorno de Python acceder a módulos o paquetes ubicados en directorios superiores al actual. Esto es útil para poder importar scripts o paquetes personalizados sin tener que mover ficheros o el directorio de trabajo."
   ]
  },
  {
   "cell_type": "code",
   "execution_count": 26,
   "metadata": {},
   "outputs": [],
   "source": [
    "import sys\n",
    "sys.path.insert(0, '..')"
   ]
  },
  {
   "cell_type": "markdown",
   "metadata": {},
   "source": [
    "## Verificación de las Versiones de los Paquetes"
   ]
  },
  {
   "cell_type": "markdown",
   "metadata": {},
   "source": [
    "Se utiliza la función check_packages() para verificar que los paquetes y sus respectivas versiones indicadas en el diccionario 'd' estén instalados correctamente dentro del entorno. Este paso es importante para verificar la compatibilidad de cada paquete para poder evitar errores por diferencia de versión."
   ]
  },
  {
   "cell_type": "code",
   "execution_count": 27,
   "metadata": {},
   "outputs": [
    {
     "name": "stdout",
     "output_type": "stream",
     "text": [
      "[OK] numpy 1.24.3\n",
      "[OK] scipy 1.8.0\n",
      "[OK] mlxtend 0.23.1\n",
      "[OK] matplotlib 3.5.1\n",
      "[OK] sklearn 1.5.2\n",
      "[OK] pandas 2.2.2\n"
     ]
    }
   ],
   "source": [
    "from python_environment_check import check_packages\n",
    "d = {\n",
    "    'numpy': '1.21.2',\n",
    "    'scipy': '1.7.0',\n",
    "    'mlxtend' : '0.19.0',\n",
    "    'matplotlib': '3.4.3',\n",
    "    'sklearn': '1.0',\n",
    "    'pandas': '1.3.2'\n",
    "}\n",
    "check_packages(d)"
   ]
  },
  {
   "cell_type": "markdown",
   "metadata": {},
   "source": [
    "## Importación de Paquetes"
   ]
  },
  {
   "cell_type": "markdown",
   "metadata": {},
   "source": [
    "Se importan los paquetes esenciales para analizar y visualizar datos: numpy para cálculos numéricos, pandas para manipular datos y matplotlib.pyplot para visualizar gráficos."
   ]
  },
  {
   "cell_type": "code",
   "execution_count": 28,
   "metadata": {},
   "outputs": [],
   "source": [
    "import numpy as np\n",
    "import pandas as pd\n",
    "import matplotlib.pyplot as plt"
   ]
  },
  {
   "cell_type": "markdown",
   "metadata": {},
   "source": [
    "---"
   ]
  },
  {
   "cell_type": "markdown",
   "metadata": {},
   "source": [
    "# Código Fuente"
   ]
  },
  {
   "cell_type": "code",
   "execution_count": 29,
   "metadata": {},
   "outputs": [],
   "source": [
    "columns = ['Col1', 'Col2', 'Col3', 'Col4', 'Col5', 'Col6', 'Target']\n",
    "df = pd.read_csv(\"dataset_classification.csv\", \n",
    "                 sep=',',\n",
    "                 usecols=columns)"
   ]
  },
  {
   "cell_type": "code",
   "execution_count": 30,
   "metadata": {},
   "outputs": [
    {
     "data": {
      "text/html": [
       "<div>\n",
       "<style scoped>\n",
       "    .dataframe tbody tr th:only-of-type {\n",
       "        vertical-align: middle;\n",
       "    }\n",
       "\n",
       "    .dataframe tbody tr th {\n",
       "        vertical-align: top;\n",
       "    }\n",
       "\n",
       "    .dataframe thead th {\n",
       "        text-align: right;\n",
       "    }\n",
       "</style>\n",
       "<table border=\"1\" class=\"dataframe\">\n",
       "  <thead>\n",
       "    <tr style=\"text-align: right;\">\n",
       "      <th></th>\n",
       "      <th>Col1</th>\n",
       "      <th>Col2</th>\n",
       "      <th>Col3</th>\n",
       "      <th>Col4</th>\n",
       "      <th>Col5</th>\n",
       "      <th>Col6</th>\n",
       "    </tr>\n",
       "  </thead>\n",
       "  <tbody>\n",
       "    <tr>\n",
       "      <th>Col1</th>\n",
       "      <td>1.000000e+00</td>\n",
       "      <td>-7.136661e-17</td>\n",
       "      <td>9.276252e-17</td>\n",
       "      <td>2.241006e-17</td>\n",
       "      <td>5.806663e-17</td>\n",
       "      <td>-2.210166e-17</td>\n",
       "    </tr>\n",
       "    <tr>\n",
       "      <th>Col2</th>\n",
       "      <td>-7.136661e-17</td>\n",
       "      <td>1.000000e+00</td>\n",
       "      <td>9.367507e-17</td>\n",
       "      <td>-4.701469e-17</td>\n",
       "      <td>4.684677e-17</td>\n",
       "      <td>-3.293844e-17</td>\n",
       "    </tr>\n",
       "    <tr>\n",
       "      <th>Col3</th>\n",
       "      <td>9.276252e-17</td>\n",
       "      <td>9.367507e-17</td>\n",
       "      <td>1.000000e+00</td>\n",
       "      <td>1.254194e-16</td>\n",
       "      <td>-4.568295e-17</td>\n",
       "      <td>9.402938e-17</td>\n",
       "    </tr>\n",
       "    <tr>\n",
       "      <th>Col4</th>\n",
       "      <td>2.241006e-17</td>\n",
       "      <td>-4.701469e-17</td>\n",
       "      <td>1.254194e-16</td>\n",
       "      <td>1.000000e+00</td>\n",
       "      <td>1.518145e-16</td>\n",
       "      <td>-9.765851e-17</td>\n",
       "    </tr>\n",
       "    <tr>\n",
       "      <th>Col5</th>\n",
       "      <td>5.806663e-17</td>\n",
       "      <td>4.684677e-17</td>\n",
       "      <td>-4.568295e-17</td>\n",
       "      <td>1.518145e-16</td>\n",
       "      <td>1.000000e+00</td>\n",
       "      <td>-3.652788e-17</td>\n",
       "    </tr>\n",
       "    <tr>\n",
       "      <th>Col6</th>\n",
       "      <td>-2.210166e-17</td>\n",
       "      <td>-3.293844e-17</td>\n",
       "      <td>9.402938e-17</td>\n",
       "      <td>-9.765851e-17</td>\n",
       "      <td>-3.652788e-17</td>\n",
       "      <td>1.000000e+00</td>\n",
       "    </tr>\n",
       "  </tbody>\n",
       "</table>\n",
       "</div>"
      ],
      "text/plain": [
       "              Col1          Col2          Col3          Col4          Col5  \\\n",
       "Col1  1.000000e+00 -7.136661e-17  9.276252e-17  2.241006e-17  5.806663e-17   \n",
       "Col2 -7.136661e-17  1.000000e+00  9.367507e-17 -4.701469e-17  4.684677e-17   \n",
       "Col3  9.276252e-17  9.367507e-17  1.000000e+00  1.254194e-16 -4.568295e-17   \n",
       "Col4  2.241006e-17 -4.701469e-17  1.254194e-16  1.000000e+00  1.518145e-16   \n",
       "Col5  5.806663e-17  4.684677e-17 -4.568295e-17  1.518145e-16  1.000000e+00   \n",
       "Col6 -2.210166e-17 -3.293844e-17  9.402938e-17 -9.765851e-17 -3.652788e-17   \n",
       "\n",
       "              Col6  \n",
       "Col1 -2.210166e-17  \n",
       "Col2 -3.293844e-17  \n",
       "Col3  9.402938e-17  \n",
       "Col4 -9.765851e-17  \n",
       "Col5 -3.652788e-17  \n",
       "Col6  1.000000e+00  "
      ]
     },
     "execution_count": 30,
     "metadata": {},
     "output_type": "execute_result"
    }
   ],
   "source": [
    "dataset_classification_anonymized = df.drop([\"Target\"], axis=1)\n",
    "dataset_classification_anonymized.to_csv('dataset_classification_anonymized.csv', index=False)\n",
    "dataset_classification_anonymized.corr()"
   ]
  },
  {
   "cell_type": "code",
   "execution_count": 31,
   "metadata": {},
   "outputs": [],
   "source": [
    "X = dataset_classification_anonymized\n",
    "y = df.get(\"Target\")"
   ]
  },
  {
   "cell_type": "code",
   "execution_count": 32,
   "metadata": {},
   "outputs": [],
   "source": [
    "from sklearn.model_selection import train_test_split\n",
    "X_train, X_test, y_train, y_test = train_test_split(\n",
    "    X, y, test_size=0.25, random_state=1, stratify=y)"
   ]
  },
  {
   "cell_type": "code",
   "execution_count": 33,
   "metadata": {},
   "outputs": [
    {
     "name": "stdout",
     "output_type": "stream",
     "text": [
      "Labels counts in y: [   0 1210  384   65   69]\n",
      "Labels counts in y_train: [  0 907 288  49  52]\n",
      "Labels counts in y_test: [  0 303  96  16  17]\n"
     ]
    }
   ],
   "source": [
    "print('Labels counts in y:', np.bincount(y))\n",
    "print('Labels counts in y_train:', np.bincount(y_train))\n",
    "print('Labels counts in y_test:', np.bincount(y_test))"
   ]
  },
  {
   "cell_type": "code",
   "execution_count": 34,
   "metadata": {},
   "outputs": [],
   "source": [
    "from sklearn.tree import DecisionTreeClassifier\n",
    "\n",
    "tree_model = DecisionTreeClassifier(criterion='gini', \n",
    "                                    max_depth=10, \n",
    "                                    random_state=1)\n",
    "\n",
    "tree_model.fit(X_train, y_train)\n",
    "X_combined = np.vstack((X_train, X_test))\n",
    "y_combined = np.hstack((y_train, y_test))"
   ]
  },
  {
   "cell_type": "code",
   "execution_count": 35,
   "metadata": {},
   "outputs": [
    {
     "data": {
      "image/png": "[encoded data removed]",
      "text/plain": [
       "<Figure size 640x480 with 1 Axes>"
      ]
     },
     "metadata": {},
     "output_type": "display_data"
    },
    {
     "name": "stdout",
     "output_type": "stream",
     "text": [
      "Misclassification samples: 8\n",
      "580     False\n",
      "1218    False\n",
      "468     False\n",
      "1284    False\n",
      "980     False\n",
      "        ...  \n",
      "1719    False\n",
      "105     False\n",
      "561     False\n",
      "852     False\n",
      "1251    False\n",
      "Name: Target, Length: 432, dtype: bool\n",
      "Accuracy: 0.981\n"
     ]
    }
   ],
   "source": [
    "from sklearn import tree\n",
    "feature_names = ['Col1', 'Col2', 'Col3', 'Col4', 'Col5', 'Col6']\n",
    "tree.plot_tree(tree_model,\n",
    "               feature_names=feature_names,\n",
    "               filled=True)\n",
    "plt.show()\n",
    "y_pred = tree_model.predict(X_test)\n",
    "print('Misclassification samples: %d' % (y_test != y_pred).sum())\n",
    "print(y_test != y_pred)\n",
    "print('Accuracy: %.3f' % tree_model.score(X_test, y_test))"
   ]
  },
  {
   "cell_type": "code",
   "execution_count": 36,
   "metadata": {},
   "outputs": [
    {
     "name": "stdout",
     "output_type": "stream",
     "text": [
      "Feature selected for root node: Col2\n"
     ]
    }
   ],
   "source": [
    "importances = tree_model.feature_importances_\n",
    "root_feature = feature_names[np.argmax(importances)]\n",
    "print(f'Feature selected for root node: {root_feature}')"
   ]
  },
  {
   "cell_type": "code",
   "execution_count": 37,
   "metadata": {},
   "outputs": [
    {
     "name": "stdout",
     "output_type": "stream",
     "text": [
      "Class probability: [[1. 0. 0. 0.]]\n",
      "Most probable class: 1\n"
     ]
    }
   ],
   "source": [
    "input_data = pd.DataFrame([[1, 3, 1, 2, 3, 2]], columns=feature_names)\n",
    "print(f'Class probability: {tree_model.predict_proba(input_data)}')\n",
    "print('Most probable class: %d' % tree_model.predict(input_data)[0])"
   ]
  },
  {
   "cell_type": "markdown",
   "metadata": {},
   "source": [
    "---"
   ]
  },
  {
   "cell_type": "markdown",
   "metadata": {},
   "source": [
    "# Convertir Jupyter Notebook a Fichero Python"
   ]
  },
  {
   "cell_type": "code",
   "execution_count": 38,
   "metadata": {},
   "outputs": [
    {
     "name": "stdout",
     "output_type": "stream",
     "text": [
      "[NbConvertApp] Converting notebook answer3.ipynb to script\n",
      "[NbConvertApp] Writing 5728 bytes to answer3.py\n"
     ]
    }
   ],
   "source": [
    "! python .convert_notebook_to_script.py --input answer3.ipynb --output answer3.py"
   ]
  }
 ],
 "metadata": {
  "kernelspec": {
   "display_name": "Python 3",
   "language": "python",
   "name": "python3"
  },
  "language_info": {
   "codemirror_mode": {
    "name": "ipython",
    "version": 3
   },
   "file_extension": ".py",
   "mimetype": "text/x-python",
   "name": "python",
   "nbconvert_exporter": "python",
   "pygments_lexer": "ipython3",
   "version": "3.10.12"
  }
 },
 "nbformat": 4,
 "nbformat_minor": 2
}
