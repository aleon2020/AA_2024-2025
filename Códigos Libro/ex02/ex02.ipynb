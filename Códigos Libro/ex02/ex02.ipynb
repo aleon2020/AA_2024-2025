{
 "cells": [
  {
   "cell_type": "markdown",
   "metadata": {},
   "source": [
    "# Machine Learning with PyTorch and Scikit-Learn  \n",
    "# -- Code Examples"
   ]
  },
  {
   "cell_type": "markdown",
   "metadata": {},
   "source": [
    "## Package version checks"
   ]
  },
  {
   "cell_type": "markdown",
   "metadata": {},
   "source": [
    "Add folder to path in order to load from the check_packages.py script:"
   ]
  },
  {
   "cell_type": "code",
   "execution_count": 1,
   "metadata": {},
   "outputs": [],
   "source": [
    "# * import sys\n",
    "# Import the sys module, which is a Python standard library module.\n",
    "# This module provides access to variables and functions that interact strongly with the\n",
    "# Python interpreter, such as manipulating module search path and input/output\n",
    "# standard, among others.\n",
    "# * sys.path\n",
    "# It is a list containing the paths in which the Python interpreter looks for modules when\n",
    "# you use import. When you try to import a module, Python searches the paths specified in this\n",
    "# list.\n",
    "# * sys.path.insert(0, '..')\n",
    "# Insert the path '..' (representing the parent directory) at the beginning of the sys.path list.\n",
    "# Adding it in position 0 ensures that when Python looks for modules to import,\n",
    "# first check in the parent directory before continuing with the default paths.\n",
    "\n",
    "import sys\n",
    "sys.path.insert(0, '..')"
   ]
  },
  {
   "cell_type": "markdown",
   "metadata": {},
   "source": [
    "Check recommended package versions:"
   ]
  },
  {
   "cell_type": "code",
   "execution_count": 2,
   "metadata": {},
   "outputs": [
    {
     "name": "stdout",
     "output_type": "stream",
     "text": [
      "[OK] Your Python version is 3.10.12 (main, Sep 11 2024, 15:47:36) [GCC 11.4.0]\n"
     ]
    },
    {
     "name": "stdout",
     "output_type": "stream",
     "text": [
      "[OK] numpy 1.24.3\n",
      "[OK] mlxtend 0.23.1\n",
      "[OK] matplotlib 3.5.1\n",
      "[OK] sklearn 1.5.2\n",
      "[OK] pandas 2.2.2\n"
     ]
    }
   ],
   "source": [
    "# * from python_environment_check import check_packages\n",
    "# Import the check_packages function from the python_environment_check module. \n",
    "# This module, from its name, appears to be designed to verify that the Python environment \n",
    "# have the correct versions of certain packages installed.\n",
    "# * d = {...}\n",
    "# Defines a dictionary d that contains the names of several packages as keys \n",
    "# (e.g. numpy, scipy, matplotlib, etc.) and as values ​​the minimum versions \n",
    "# required from those packages.\n",
    "# * check_packages(d)\n",
    "# The check_packages function takes as input the dictionary d and probably performs a \n",
    "# check on current Python environment to ensure installed versions \n",
    "# of these packages are at least those specified in the dictionary. If any of the packages \n",
    "# is not installed or has the wrong version, the function may throw an error or \n",
    "# suggest installing/updating the packages.\n",
    "\n",
    "from python_environment_check import check_packages\n",
    "d = {\n",
    "    'numpy': '1.21.2',\n",
    "    'mlxtend': '0.19.0',\n",
    "    'matplotlib': '3.4.3',\n",
    "    'sklearn': '1.0',\n",
    "    'pandas': '1.3.2',\n",
    "}\n",
    "check_packages(d)"
   ]
  },
  {
   "cell_type": "markdown",
   "metadata": {},
   "source": [
    "# Example 2 - Land Mines Dataset"
   ]
  },
  {
   "cell_type": "markdown",
   "metadata": {},
   "source": [
    "### Overview"
   ]
  },
  {
   "cell_type": "markdown",
   "metadata": {},
   "source": [
    "- [Data Analysis](#data-analysis)\n",
    "- [Logistic Regression](#logistic-regression)\n",
    "- [SVM (Support Vector Machines)](#svm-support-vector-machines)\n",
    "- [Decision Tree](#decision-tree)\n",
    "- [Random Forests](#random-forests)\n",
    "- [KNN (K-Nearest Neighbors)](#knn-k-nearest-neighbors)\n",
    "- [Summary](#summary)"
   ]
  },
  {
   "cell_type": "code",
   "execution_count": 3,
   "metadata": {},
   "outputs": [],
   "source": [
    "# * from IPython.display\n",
    "# Import from the display submodule of the IPython package. This module is designed to display \n",
    "# and render different types of data within interactive environments, such as Jupyter Notebooks.\n",
    "# * import Image\n",
    "# Import the Image class from the display module. The Image class is used to display \n",
    "# images in the interactive environment (for example, in a Jupyter Notebook cell).\n",
    "# * %matplotlib inline\n",
    "# This is a magic command specific to IPython/Jupyter Notebook.\n",
    "# Enables display of matplotlib plots directly within cells of the \n",
    "# notebook. Graphics are rendered \"inline\" (within the same notebook) without the need \n",
    "# to open pop-up windows.\n",
    "\n",
    "from IPython.display import Image\n",
    "%matplotlib inline"
   ]
  },
  {
   "cell_type": "markdown",
   "metadata": {},
   "source": [
    "# Data Analysis"
   ]
  },
  {
   "cell_type": "code",
   "execution_count": 4,
   "metadata": {},
   "outputs": [],
   "source": [
    "import numpy as np\n",
    "import pandas as pd\n",
    "import matplotlib.pyplot as plt\n",
    "from sklearn.preprocessing import StandardScaler"
   ]
  },
  {
   "cell_type": "code",
   "execution_count": 5,
   "metadata": {},
   "outputs": [
    {
     "data": {
      "text/html": [
       "<div>\n",
       "<style scoped>\n",
       "    .dataframe tbody tr th:only-of-type {\n",
       "        vertical-align: middle;\n",
       "    }\n",
       "\n",
       "    .dataframe tbody tr th {\n",
       "        vertical-align: top;\n",
       "    }\n",
       "\n",
       "    .dataframe thead th {\n",
       "        text-align: right;\n",
       "    }\n",
       "</style>\n",
       "<table border=\"1\" class=\"dataframe\">\n",
       "  <thead>\n",
       "    <tr style=\"text-align: right;\">\n",
       "      <th></th>\n",
       "      <th>V</th>\n",
       "      <th>H</th>\n",
       "      <th>S</th>\n",
       "      <th>M</th>\n",
       "    </tr>\n",
       "  </thead>\n",
       "  <tbody>\n",
       "    <tr>\n",
       "      <th>0</th>\n",
       "      <td>0.338157</td>\n",
       "      <td>0.0</td>\n",
       "      <td>0.0</td>\n",
       "      <td>1</td>\n",
       "    </tr>\n",
       "  </tbody>\n",
       "</table>\n",
       "</div>"
      ],
      "text/plain": [
       "          V    H    S  M\n",
       "0  0.338157  0.0  0.0  1"
      ]
     },
     "execution_count": 5,
     "metadata": {},
     "output_type": "execute_result"
    }
   ],
   "source": [
    "dataset = pd.read_csv(\"land_mines_dataset.csv\")\n",
    "\n",
    "# Uses the pandas library, which is as pd, to read a CSV (Comma-Separated Values) file named \"land_mines_dataset.csv\".\n",
    "# A CSV file stores data in a tabular format, with rows and columns, and is commonly used for exchanging and storing datasets.\n",
    "# read_csv is a function from pandas used to load data from a CSV file into a DataFrame object.\n",
    "# A DataFrame is a two-dimensional data structure provided by the pandas library.\n",
    "pd.set_option('display.max_columns', len(dataset.columns))\n",
    "\n",
    "# For pandas to adjust the maximum number of columns displayed to match the actual number of columns in the dataset.\n",
    "dataset.head(1)\n",
    "\n",
    "# This is a method called in the pandas library that is used to display the first 5 rows of a DataFrame.\n",
    "\n",
    "# dataset.info()\n",
    "\n",
    "# dataset.describe()"
   ]
  },
  {
   "cell_type": "code",
   "execution_count": 6,
   "metadata": {},
   "outputs": [
    {
     "data": {
      "text/plain": [
       "Index(['V', 'H', 'S', 'M'], dtype='object')"
      ]
     },
     "execution_count": 6,
     "metadata": {},
     "output_type": "execute_result"
    }
   ],
   "source": [
    "# Let's look at the exact column's name\n",
    "dataset.columns"
   ]
  },
  {
   "cell_type": "code",
   "execution_count": 7,
   "metadata": {},
   "outputs": [],
   "source": [
    "# INPUTS (INDEPENDENT VARIABLES)\n",
    "\n",
    "# V (Voltage): Output voltage value of FLC sensor due to magnetic distortion. It's value goes from 0 V to 10.6 V.\n",
    "\n",
    "# H (High): The height of the sensor from the ground.\n",
    "\n",
    "# S (Soil Type): There are 6 different soil types depending on the moisture condition.\n",
    "# - Type 1: Dry And Sandy\n",
    "# - Type 2: Dry And Humus\n",
    "# - Type 3: Dry And Limy\n",
    "# - Type 4: Humid And Sandy\n",
    "# - Type 5: Humid And Humus\n",
    "# - Type 6: Humid And Limy\n",
    "\n",
    "# OUTPUT (DEPENDENT VARIABLE)\n",
    "\n",
    "# M (Mine Type): There are 5 different mine types commonly encountered on land.\n",
    "# - Type 1: Null\n",
    "# - Type 2: Anti-Tank\n",
    "# - Type 3: Anti-personnel\n",
    "# - Type 4: Booby Trapped Anti-personnel\n",
    "# - Type 5: M14 Anti-personnel"
   ]
  },
  {
   "cell_type": "code",
   "execution_count": 8,
   "metadata": {},
   "outputs": [
    {
     "data": {
      "text/html": [
       "<div>\n",
       "<style scoped>\n",
       "    .dataframe tbody tr th:only-of-type {\n",
       "        vertical-align: middle;\n",
       "    }\n",
       "\n",
       "    .dataframe tbody tr th {\n",
       "        vertical-align: top;\n",
       "    }\n",
       "\n",
       "    .dataframe thead th {\n",
       "        text-align: right;\n",
       "    }\n",
       "</style>\n",
       "<table border=\"1\" class=\"dataframe\">\n",
       "  <thead>\n",
       "    <tr style=\"text-align: right;\">\n",
       "      <th></th>\n",
       "      <th>V</th>\n",
       "      <th>H</th>\n",
       "      <th>S</th>\n",
       "    </tr>\n",
       "  </thead>\n",
       "  <tbody>\n",
       "    <tr>\n",
       "      <th>V</th>\n",
       "      <td>1.000000</td>\n",
       "      <td>-0.377523</td>\n",
       "      <td>0.070673</td>\n",
       "    </tr>\n",
       "    <tr>\n",
       "      <th>H</th>\n",
       "      <td>-0.377523</td>\n",
       "      <td>1.000000</td>\n",
       "      <td>-0.006957</td>\n",
       "    </tr>\n",
       "    <tr>\n",
       "      <th>S</th>\n",
       "      <td>0.070673</td>\n",
       "      <td>-0.006957</td>\n",
       "      <td>1.000000</td>\n",
       "    </tr>\n",
       "  </tbody>\n",
       "</table>\n",
       "</div>"
      ],
      "text/plain": [
       "          V         H         S\n",
       "V  1.000000 -0.377523  0.070673\n",
       "H -0.377523  1.000000 -0.006957\n",
       "S  0.070673 -0.006957  1.000000"
      ]
     },
     "execution_count": 8,
     "metadata": {},
     "output_type": "execute_result"
    }
   ],
   "source": [
    "dataset_anonymized = dataset.drop([\"M\"], axis=1)\n",
    "\n",
    "# dataset refers to the original pandas DataFrame that contains the dataset, including all its columns and rows.\n",
    "# .drop() is a method provided by pandas to remove specified labels fromrows or columns in a DataFrame.\n",
    "# It returns a new DataFrame with the specified column removed.\n",
    "\n",
    "dataset_anonymized.to_csv('dataset_anonymized.csv', index=False)\n",
    "\n",
    "# save a pandas DataFrame to a CSV (Comma-Separated Values) file.\n",
    "\n",
    "dataset_anonymized.corr()\n",
    "\n",
    "# dataset_anonymized refers to the pandas DataFrame that has already been processed.\n",
    "# .corr() is a method that calculates the pairwise correlation of all numeric columns in the DataFrame.\n",
    "# It returns a new DataFrame (correlation matrix) that shows the correlation coefficients between each\n",
    "# pair of numeric columns.\n",
    "# By default, it calculates the Person correlation coefficient, but it can aldo compute Kendall and Spearman\n",
    "# correlation coefficients it specified.\n",
    "\n",
    "# dataset.corr()\n",
    "\n",
    "# https://en.wikipedia.org/wiki/Person_correlation_coefficient"
   ]
  },
  {
   "cell_type": "code",
   "execution_count": 9,
   "metadata": {},
   "outputs": [
    {
     "name": "stdout",
     "output_type": "stream",
     "text": [
      "Class labels: [1 2 3 4 5]\n"
     ]
    }
   ],
   "source": [
    "# dataset = dataset.rename(columns=[\"V\":\"Voltage\", \"H\":\"Height\", \"S\":\"Soil\", \"M\":\"Mine\"])\n",
    "# The rename() method is a function provided by pandas that allows you to change to rename the columns of the DataFrame.\n",
    "\n",
    "# X = dataset.iloc[:, :-1]\n",
    "# y = dataset.iloc[:, -1]\n",
    "# print(X)\n",
    "# print(y)\n",
    "\n",
    "# The variables X (anonymized dataset) and y (characteristic M) are defined and all mine types are printed.\n",
    "\n",
    "X = dataset_anonymized\n",
    "y = dataset.get(\"M\")\n",
    "print('Class labels:', np.unique(y))"
   ]
  },
  {
   "cell_type": "code",
   "execution_count": 10,
   "metadata": {},
   "outputs": [
    {
     "data": {
      "text/plain": [
       "<AxesSubplot:>"
      ]
     },
     "execution_count": 10,
     "metadata": {},
     "output_type": "execute_result"
    },
    {
     "data": {
      "image/png": "[encoded data removed]",
      "text/plain": [
       "<Figure size 700x700 with 2 Axes>"
      ]
     },
     "metadata": {},
     "output_type": "display_data"
    }
   ],
   "source": [
    "# Knowing this, the variable X is observed in more detail, from which its correlation is calculated.\n",
    "\n",
    "import seaborn as sb\n",
    "fig, ax = plt.subplots(figsize=(7,7))\n",
    "sb.heatmap(dataset.corr(), linewidth = 0.5, annot=True)"
   ]
  },
  {
   "cell_type": "code",
   "execution_count": 11,
   "metadata": {},
   "outputs": [
    {
     "data": {
      "image/png": "[encoded data removed]",
      "text/plain": [
       "<Figure size 900x900 with 3 Axes>"
      ]
     },
     "metadata": {},
     "output_type": "display_data"
    }
   ],
   "source": [
    "columns = dataset_anonymized.columns\n",
    "\n",
    "# columns = dataset_anonymized.columns retrieves the names of the columns in the dataset_anonymized DataFrame\n",
    "# and stores them in the variable columns.\n",
    "\n",
    "fig = plt.figure(figsize=(9,9))\n",
    "# This line creates a new figure for plotting. The figsize parameter sets the size of the figure to 9 inches by 9 inches.\n",
    "\n",
    "for i in range(0,3):\n",
    "\n",
    "  ax = plt.subplot(3,3,i+1)\n",
    "\n",
    "  # This line creates a subplot within the figure. The subplot(3, 3, i+1) indicates that the figure will be divided\n",
    "  # into a grid of 3 rows and 3 columns, and the current subplot being created is indexed as i+1.\n",
    "  ax.hist(dataset_anonymized[columns[i]],bins = 20, color='blue', edgecolor='black')\n",
    "  # This line generates a histogram for the i-th column in dataset_anonymized.CGPA\n",
    "\n",
    "  ax.set_title(dataset_anonymized.head(0)[columns[i]].name)\n",
    "  # This line sets title of current subplot to the name of the column being plotted.\n",
    "\n",
    "plt.tight_layout()\n",
    "# This function adjusts the padding between and around subplot in the figure.\n",
    "\n",
    "plt.show()\n",
    "# This line displays the figure"
   ]
  },
  {
   "cell_type": "code",
   "execution_count": 12,
   "metadata": {},
   "outputs": [],
   "source": [
    "from sklearn.model_selection import train_test_split # splitting\n",
    "X_train, X_test, y_train, y_test = train_test_split(X.values, y, test_size=0.25, random_state=1, stratify=y)\n",
    "\n",
    "# Separates the train and test datasets"
   ]
  },
  {
   "cell_type": "code",
   "execution_count": 13,
   "metadata": {},
   "outputs": [
    {
     "name": "stdout",
     "output_type": "stream",
     "text": [
      "Labels counts in y: [ 0 71 70 66 66 65]\n",
      "Labels counts in y_train: [ 0 53 52 50 49 49]\n",
      "Labels counts in y_test: [ 0 18 18 16 17 16]\n"
     ]
    }
   ],
   "source": [
    "# This function counts the number of times each integer value appears in the y array. \n",
    "# In this case, y contains the class labels (0, 1, 2) of the entire data set.\n",
    "# The result is a list in which each position corresponds to a tag, and the value in \n",
    "# that position indicates how many times that tag appears in y.\n",
    "print('Labels counts in y:', np.bincount(y))\n",
    "\n",
    "# Similar to the previous case, this line counts the occurrences of each tag in the set \n",
    "# training (y_train), which was obtained after splitting the data with train_test_split.\n",
    "# Since the stratify parameter was used when splitting the data, the tag count in y_train \n",
    "# will maintain the proportions of the original classes.\n",
    "print('Labels counts in y_train:', np.bincount(y_train))\n",
    "\n",
    "# Here we count how many times each label appears in the test set (y_test).\n",
    "# Again, the proportions of the classes in y_test will be the same as in the data \n",
    "# originals due to the use of stratify.\n",
    "print('Labels counts in y_test:', np.bincount(y_test))"
   ]
  },
  {
   "cell_type": "code",
   "execution_count": 14,
   "metadata": {},
   "outputs": [],
   "source": [
    "# The StandardScaler class is imported from the sklearn.preprocessing module. This class is used \n",
    "# to standardize features, that is, make the data have a mean of 0 and a \n",
    "# standard deviation of 1.\n",
    "from sklearn.preprocessing import StandardScaler\n",
    "\n",
    "# A StandardScaler instance called sc is created. This object will be used to adjust \n",
    "# (calculate the parameters) and transform the data.\n",
    "sc = StandardScaler()\n",
    "\n",
    "# The fit(X_train) method fits the scaler using the training data (X_train). \n",
    "# During this process, the StandardScaler calculates the mean and standard deviation of each \n",
    "# feature in X_train. These values ​​are stored and will be used later to \n",
    "# transform both training and test data.\n",
    "sc.fit(X_train)\n",
    "\n",
    "# The transform(X_train) method uses the mean and standard deviation values \n",
    "# calculated in the previous step to transform the features of X_train. Each value \n",
    "# of X_train features are standardized by subtracting the mean and dividing by the \n",
    "# standard deviation. The result is a new data set X_train_std, where the \n",
    "# features have a mean of 0 and a standard deviation of 1.\n",
    "X_train_std = sc.transform(X_train)\n",
    "\n",
    "# The same transformation is applied to the test data (X_test) using the parameters \n",
    "# of standardization (mean and standard deviation) calculated from the set of \n",
    "# training. This ensures that transformations on the test data are \n",
    "# consistent with those of the training set. The result is the standardized set \n",
    "# X_test_std.\n",
    "X_test_std = sc.transform(X_test)"
   ]
  },
  {
   "cell_type": "markdown",
   "metadata": {},
   "source": [
    "# Logistic Regression"
   ]
  },
  {
   "cell_type": "code",
   "execution_count": 15,
   "metadata": {},
   "outputs": [
    {
     "name": "stdout",
     "output_type": "stream",
     "text": [
      "Misclassification samples: 38\n",
      "20     False\n",
      "278     True\n",
      "136     True\n",
      "191     True\n",
      "71     False\n",
      "       ...  \n",
      "114     True\n",
      "276    False\n",
      "5      False\n",
      "156     True\n",
      "6      False\n",
      "Name: M, Length: 85, dtype: bool\n",
      "Accuracy: 0.553\n"
     ]
    },
    {
     "name": "stderr",
     "output_type": "stream",
     "text": [
      "/home/aalberto/.local/lib/python3.10/site-packages/sklearn/linear_model/_logistic.py:1256: FutureWarning: 'multi_class' was deprecated in version 1.5 and will be removed in 1.7. Use OneVsRestClassifier(LogisticRegression(..)) instead. Leave it to its default value to avoid this warning.\n",
      "  warnings.warn(\n"
     ]
    }
   ],
   "source": [
    "# The LogisticRegression class is imported from scikit-learn, which allows creating a classifier \n",
    "# based on logistic regression.\n",
    "from sklearn.linear_model import LogisticRegression\n",
    "\n",
    "# * C=100.0\n",
    "# This inverse regularization parameter controls the amount of regularization applied \n",
    "# to the model. A high value like 100.0 means little regularization, which can allow \n",
    "# make the model fit better to the training data.\n",
    "# * solver='lbfgs'\n",
    "# Specifies the algorithm to use to optimize the loss function. lbfgs is a method \n",
    "# which uses quasi-Newton approximations.\n",
    "# * multi_class='ovr'\n",
    "# Sets the approach for handling multi-class classification problems. The 'ovr' method \n",
    "# (One-vs-Rest) trains a classifier for each class against the others.\n",
    "lr = LogisticRegression(C=100.0, solver='lbfgs', multi_class='ovr')\n",
    "\n",
    "# The lr model is trained using the X_train_std data set (features \n",
    "# standardized) and y_train (class tags). The model adjusts the internal parameters \n",
    "# to minimize the loss function on the training set.\n",
    "lr.fit(X_train_std, y_train)\n",
    "\n",
    "y_pred = lr.predict(X_test_std)\n",
    "print('Misclassification samples: %d' % (y_test != y_pred).sum())\n",
    "print(y_test != y_pred)\n",
    "print('Accuracy: %.3f' % lr.score(X_test_std, y_test))"
   ]
  },
  {
   "cell_type": "markdown",
   "metadata": {},
   "source": [
    "# SVM (Support Vector Machines)"
   ]
  },
  {
   "cell_type": "code",
   "execution_count": 16,
   "metadata": {},
   "outputs": [
    {
     "name": "stdout",
     "output_type": "stream",
     "text": [
      "Misclassification samples: 28\n",
      "20     False\n",
      "278     True\n",
      "136     True\n",
      "191    False\n",
      "71     False\n",
      "       ...  \n",
      "114     True\n",
      "276    False\n",
      "5      False\n",
      "156    False\n",
      "6      False\n",
      "Name: M, Length: 85, dtype: bool\n",
      "Accuracy: 0.671\n"
     ]
    }
   ],
   "source": [
    "# The SVC (Support Vector Classifier) ​​class is imported from the sklearn library, which allows creating \n",
    "# classification models using Support Vector Machines.\n",
    "from sklearn.svm import SVC\n",
    "\n",
    "# An instance of the SVM classifier is created\n",
    "# * kernel='linear'\n",
    "# It is specified that a linear kernel will be used, which means that a boundary of \n",
    "# linear decision between classes.\n",
    "# * random_state=1\n",
    "# This parameter is set to ensure the reproducibility of the results,\n",
    "# especially in random model initialization.\n",
    "#*gamma = 0.7\n",
    "# Controls the influence of a single training example. A low gamma value means that \n",
    "# each point has a large influence area, which can lead to a smoother or more generalized model. \n",
    "# A high gamma value reduces that influence, focusing more on nearby points and making the \n",
    "# model to be more flexible and able to fit the data more, which can lead to overfitting.\n",
    "# * C=30.0\n",
    "# This regularization parameter controls the balance between a wider margin and the \n",
    "# classification of data points. A higher C value attempts to classify all \n",
    "# data points correctly, while a lower value allows a wider margin, \n",
    "# even if it means some points are misclassified.\n",
    "svm = SVC(kernel='rbf', random_state=1, gamma=0.7, C=30.0)\n",
    "\n",
    "# The SVM model is fitted to the training data (X_train_std and y_train), where:\n",
    "# * X_train_std\n",
    "# Characteristics of standardized training data.\n",
    "# * y_train\n",
    "# Labels of the classes corresponding to the training data.\n",
    "svm.fit(X_train_std, y_train)\n",
    "\n",
    "y_pred = svm.predict(X_test_std)\n",
    "print('Misclassification samples: %d' % (y_test != y_pred).sum())\n",
    "print(y_test != y_pred)\n",
    "print('Accuracy: %.3f' % svm.score(X_test_std, y_test))"
   ]
  },
  {
   "cell_type": "markdown",
   "metadata": {},
   "source": [
    "# Decision Tree"
   ]
  },
  {
   "cell_type": "code",
   "execution_count": 17,
   "metadata": {},
   "outputs": [],
   "source": [
    "# DecisionTreeClassifier is imported, which is the library's decision tree classifier \n",
    "# scikit-learn.\n",
    "from sklearn.tree import DecisionTreeClassifier\n",
    "\n",
    "# A DecisionTreeClassifier object called tree_model is instantiated with the following \n",
    "# parameters:\n",
    "# * criterion='gini'\n",
    "# Uses the Gini impurity as a criterion for the division of nodes.\n",
    "# * max_depth=4\n",
    "# Limits the maximum tree depth to 4, which helps prevent overfitting.\n",
    "# * random_state=1\n",
    "# Sets a seed for the random number generator, ensuring that the results are reproducible.\n",
    "tree_model = DecisionTreeClassifier(criterion='gini', \n",
    "                                    max_depth=4, \n",
    "                                    random_state=1)\n",
    "\n",
    "# The model is trained with the training data (X_train as features and y_train as tags).\n",
    "tree_model.fit(X_train, y_train)\n",
    "\n",
    "# Training and testing data sets are combined. X_combined contains all features of both sets, \n",
    "# and y_combined contains the corresponding tags.\n",
    "X_combined = np.vstack((X_train, X_test))\n",
    "y_combined = np.hstack((y_train, y_test))"
   ]
  },
  {
   "cell_type": "code",
   "execution_count": 18,
   "metadata": {},
   "outputs": [
    {
     "data": {
      "image/png": "[encoded data removed]",
      "text/plain": [
       "<Figure size 640x480 with 1 Axes>"
      ]
     },
     "metadata": {},
     "output_type": "display_data"
    },
    {
     "name": "stdout",
     "output_type": "stream",
     "text": [
      "Misclassification samples: 40\n",
      "20     False\n",
      "278    False\n",
      "136     True\n",
      "191    False\n",
      "71     False\n",
      "       ...  \n",
      "114     True\n",
      "276     True\n",
      "5      False\n",
      "156     True\n",
      "6      False\n",
      "Name: M, Length: 85, dtype: bool\n",
      "Accuracy: 0.529\n"
     ]
    }
   ],
   "source": [
    "# The scikit-learn tree module is imported, which contains functions and classes to work with \n",
    "# with decision trees.\n",
    "from sklearn import tree\n",
    "\n",
    "# A list called feature_names is created that contains the names of the features that were used \n",
    "# to train the model. These names correspond to the measurements of the flowers in the data set,\n",
    "# probably the Iris data set.\n",
    "feature_names = ['V', 'H', 'S']\n",
    "\n",
    "# The plot_tree function is called to display the decision tree represented by tree_model.\n",
    "# * tree_model\n",
    "# The decision tree model that was pre-trained.\n",
    "# * feature_names=feature_names\n",
    "# Feature names are passed to appear on the graph, making it easier the interpretation of the tree.\n",
    "# * filled=True\n",
    "# This parameter indicates that the nodes should be filled with colors based on the predicted \n",
    "# classes, which helps visualize the decision tree more clearly.\n",
    "tree.plot_tree(tree_model,\n",
    "               feature_names=feature_names,\n",
    "               filled=True)\n",
    "\n",
    "# The commented line (plt.savefig(...)) suggests that the graph could be saved as a file PDF if\n",
    "# uncommented.\n",
    "# plt.show() is used to display the graph on the screen, allowing users display the decision tree.\n",
    "plt.show()\n",
    "\n",
    "y_pred = tree_model.predict(X_test)\n",
    "print('Misclassification samples: %d' % (y_test != y_pred).sum())\n",
    "print(y_test != y_pred)\n",
    "print('Accuracy: %.3f' % tree_model.score(X_test, y_test))"
   ]
  },
  {
   "cell_type": "markdown",
   "metadata": {},
   "source": [
    "# Random Forests"
   ]
  },
  {
   "cell_type": "code",
   "execution_count": 19,
   "metadata": {},
   "outputs": [
    {
     "name": "stdout",
     "output_type": "stream",
     "text": [
      "Misclassification samples: 43\n",
      "20     False\n",
      "278     True\n",
      "136     True\n",
      "191     True\n",
      "71     False\n",
      "       ...  \n",
      "114     True\n",
      "276    False\n",
      "5      False\n",
      "156     True\n",
      "6      False\n",
      "Name: M, Length: 85, dtype: bool\n",
      "Accuracy: 0.494\n"
     ]
    }
   ],
   "source": [
    "# The RandomForestClassifier class is imported from the ensemble module of scikit-learn. \n",
    "# This classifier uses multiple decision trees to improve accuracy and reduce \n",
    "# overfitting.\n",
    "from sklearn.ensemble import RandomForestClassifier\n",
    "\n",
    "# An object of the RandomForestClassifier class called forest is instantiated.\n",
    "# * n_estimators=25\n",
    "# This parameter indicates that 25 decision trees will be created in the forest. More trees \n",
    "# They generally improve model accuracy, but increase training time.\n",
    "# * random_state=1\n",
    "# A random seed is set to ensure the reproducibility of the results; \n",
    "# that is, the model will produce the same results every time it is run with this seed.\n",
    "# * n_jobs=2\n",
    "# This parameter allows using 2 processing cores to train the model in \n",
    "# parallel, which can speed up the process, especially with a large data set.\n",
    "forest = RandomForestClassifier(n_estimators=25, \n",
    "                                random_state=1,\n",
    "                                n_jobs=2)\n",
    "\n",
    "# The forest model is trained using the training data X_train (features) and \n",
    "# y_train (tags or classes).\n",
    "forest.fit(X_train, y_train)\n",
    "\n",
    "y_pred = forest.predict(X_test)\n",
    "print('Misclassification samples: %d' % (y_test != y_pred).sum())\n",
    "print(y_test != y_pred)\n",
    "print('Accuracy: %.3f' % forest.score(X_test, y_test))"
   ]
  },
  {
   "cell_type": "markdown",
   "metadata": {},
   "source": [
    "# KNN (K-Nearest Neighbors)"
   ]
  },
  {
   "cell_type": "code",
   "execution_count": 20,
   "metadata": {},
   "outputs": [
    {
     "name": "stdout",
     "output_type": "stream",
     "text": [
      "Misclassification samples: 43\n",
      "20     False\n",
      "278    False\n",
      "136     True\n",
      "191     True\n",
      "71     False\n",
      "       ...  \n",
      "114     True\n",
      "276    False\n",
      "5      False\n",
      "156     True\n",
      "6       True\n",
      "Name: M, Length: 85, dtype: bool\n",
      "Accuracy: 0.494\n"
     ]
    }
   ],
   "source": [
    "# The KNeighborsClassifier class is imported from the neighbors module of scikit-learn, which is used \n",
    "# to create a classification model based on the KNN algorithm.\n",
    "from sklearn.neighbors import KNeighborsClassifier\n",
    "\n",
    "# An object of the KNeighborsClassifier class called knn is instantiated with the following \n",
    "# parameters:\n",
    "# * n_neighbors=5\n",
    "# This parameter indicates that the model will consider the 5 nearest neighbors when performing the \n",
    "# classification.\n",
    "# * p=2\n",
    "# This parameter specifies the distance to use. With p=2, the distance is used \n",
    "# Euclidean (which is a form of the Minkowski metric).\n",
    "# * metric='minkowski'\n",
    "# It is defined that the metric used to calculate the distance between points will be the metric \n",
    "# of Minkowski.\n",
    "knn = KNeighborsClassifier(n_neighbors=2, \n",
    "                           p=2, \n",
    "                           metric='minkowski')\n",
    "\n",
    "# The knn model is trained using the training data X_train_std (features \n",
    "# standardized) and y_train (tags or classes). In the context of KNN, no \n",
    "# explicit training, but training data information is stored for \n",
    "# future classification.\n",
    "knn.fit(X_train_std, y_train)\n",
    "\n",
    "y_pred = knn.predict(X_test_std)\n",
    "print('Misclassification samples: %d' % (y_test != y_pred).sum())\n",
    "print(y_test != y_pred)\n",
    "print('Accuracy: %.3f' % knn.score(X_test_std, y_test))\n",
    "\n",
    "# from sklearn.metrics import accuracy_score\n",
    "# print('Accuracy: %.3f' % accuracy_score(y_test, y_pred))"
   ]
  },
  {
   "cell_type": "markdown",
   "metadata": {},
   "source": [
    "# Summary"
   ]
  },
  {
   "cell_type": "markdown",
   "metadata": {},
   "source": [
    "---\n",
    "\n",
    "Readers may ignore the next cell."
   ]
  },
  {
   "cell_type": "code",
   "execution_count": 21,
   "metadata": {},
   "outputs": [
    {
     "name": "stdout",
     "output_type": "stream",
     "text": [
      "[NbConvertApp] Converting notebook ex02.ipynb to script\n",
      "[NbConvertApp] Writing 20103 bytes to ex02.py\n"
     ]
    }
   ],
   "source": [
    "# Run a command in the terminal from a Python environment (such as a Jupyter Notebook or a \n",
    "# script that allows system commands to convert a Jupyter notebook to a file Python script. \n",
    "# * !\n",
    "# This symbol is used in environments such as Jupyter Notebooks to execute system commands \n",
    "# operational directly from the notebook. In this case, the command is an execution of a \n",
    "# Python Script.\n",
    "# * python ../.convert_notebook_to_script.py\n",
    "# This command runs a Python script called convert_notebook_to_script.py. This file \n",
    "# is located in the previous directory (../ indicates that it is one level up in the system \n",
    "# files). The purpose of this script is to convert a Jupyter notebook (.ipynb) into a \n",
    "# Python script file (.py).\n",
    "# * --input ex02.ipynb\n",
    "# This is an option or argument that tells the script what the input file is, in this \n",
    "# case, the notebook ex02.ipynb.\n",
    "# * --output ex02.py\n",
    "# This option tells the script to save the output (the converted file) with the name\n",
    "# ex02.py, which is a Python script.\n",
    "\n",
    "! python ../.convert_notebook_to_script.py --input ex02.ipynb --output ex02.py"
   ]
  }
 ],
 "metadata": {
  "kernelspec": {
   "display_name": "Python 3",
   "language": "python",
   "name": "python3"
  },
  "language_info": {
   "codemirror_mode": {
    "name": "ipython",
    "version": 3
   },
   "file_extension": ".py",
   "mimetype": "text/x-python",
   "name": "python",
   "nbconvert_exporter": "python",
   "pygments_lexer": "ipython3",
   "version": "3.10.12"
  }
 },
 "nbformat": 4,
 "nbformat_minor": 4
}
