{
 "cells": [
  {
   "cell_type": "markdown",
   "id": "7ae19660",
   "metadata": {
    "tags": []
   },
   "source": [
    "# Machine Learning with PyTorch and Scikit-Learn  \n",
    "# -- Code Examples"
   ]
  },
  {
   "cell_type": "markdown",
   "id": "22959aae",
   "metadata": {},
   "source": [
    "## Package version checks"
   ]
  },
  {
   "cell_type": "markdown",
   "id": "05edf0fb",
   "metadata": {},
   "source": [
    "Add folder to path in order to load from the check_packages.py script:"
   ]
  },
  {
   "cell_type": "code",
   "execution_count": null,
   "id": "73f8c3d3",
   "metadata": {},
   "outputs": [],
   "source": [
    "# * import sys\n",
    "# Import the sys module, which is a Python standard library module.\n",
    "# This module provides access to variables and functions that interact strongly with the\n",
    "# Python interpreter, such as manipulating module search path and input/output\n",
    "# standard, among others.\n",
    "# * sys.path\n",
    "# It is a list containing the paths in which the Python interpreter looks for modules when\n",
    "# you use import. When you try to import a module, Python searches the paths specified in this\n",
    "# list.\n",
    "# * sys.path.insert(0, '..')\n",
    "# Insert the path '..' (representing the parent directory) at the beginning of the sys.path list.\n",
    "# Adding it in position 0 ensures that when Python looks for modules to import,\n",
    "# first check in the parent directory before continuing with the default paths.\n",
    "\n",
    "import sys\n",
    "sys.path.insert(0, '..')"
   ]
  },
  {
   "cell_type": "markdown",
   "id": "10c32840",
   "metadata": {},
   "source": [
    "Check recommended package versions:"
   ]
  },
  {
   "cell_type": "code",
   "execution_count": null,
   "id": "a677e37b",
   "metadata": {},
   "outputs": [],
   "source": [
    "# * from python_environment_check import check_packages\n",
    "# Import the check_packages function from the python_environment_check module. \n",
    "# This module, from its name, appears to be designed to verify that the Python environment \n",
    "# have the correct versions of certain packages installed.\n",
    "# * d = {...}\n",
    "# Defines a dictionary d that contains the names of several packages as keys \n",
    "# (e.g. numpy, scipy, matplotlib, etc.) and as values ​​the minimum versions \n",
    "# required from those packages.\n",
    "# * check_packages(d)\n",
    "# The check_packages function takes as input the dictionary d and probably performs a \n",
    "# check on current Python environment to ensure installed versions \n",
    "# of these packages are at least those specified in the dictionary. If any of the packages \n",
    "# is not installed or has the wrong version, the function may throw an error or \n",
    "# suggest installing/updating the packages.\n",
    "\n",
    "from python_environment_check import check_packages\n",
    "d = {\n",
    "    'torch': '1.8',\n",
    "    'torchvision': '0.9.0',\n",
    "    'tensorboard': '2.7.0',\n",
    "    'pytorch_lightning': '1.5.0',\n",
    "    'torchmetrics': '0.6.2'\n",
    "}\n",
    "check_packages(d)"
   ]
  },
  {
   "cell_type": "markdown",
   "id": "1a1afff8",
   "metadata": {
    "tags": []
   },
   "source": [
    "# Chapter 13: Going Deeper -- the Mechanics of PyTorch (Part 3/3)"
   ]
  },
  {
   "cell_type": "markdown",
   "id": "17db22a8",
   "metadata": {},
   "source": [
    "**Outline**\n",
    "\n",
    "- [Higher-level PyTorch APIs: a short introduction to PyTorch Lightning](#Higher-level-PyTorch-APIs-a-short-introduction-to-PyTorch-Lightning)\n",
    "  - [Setting up the PyTorch Lightning model](#Setting-up-the-PyTorch-Lightning-model)\n",
    "  - [Setting up the data loaders for Lightning](#Setting-up-the-data-loaders-for-Lightning)\n",
    "  - [Training the model using the PyTorch Lightning Trainer class](#Training-the-model-using-the-PyTorch-Lightning-Trainer-class)\n",
    "  - [Evaluating the model using TensorBoard](#Evaluating-the-model-using-TensorBoard)\n",
    "- [Summary](#Summary)"
   ]
  },
  {
   "cell_type": "markdown",
   "id": "9dfd5e76",
   "metadata": {},
   "source": [
    "## Higher-level PyTorch APIs: a short introduction to PyTorch Lightning"
   ]
  },
  {
   "cell_type": "markdown",
   "id": "0f80b149",
   "metadata": {},
   "source": [
    "### Setting up the PyTorch Lightning model"
   ]
  },
  {
   "cell_type": "markdown",
   "id": "5dcd4005",
   "metadata": {},
   "source": [
    "## Higher-level PyTorch APIs: a short introduction to PyTorch Lightning"
   ]
  },
  {
   "cell_type": "markdown",
   "id": "2a65b5dc",
   "metadata": {},
   "source": [
    "### Setting up the PyTorch Lightning model"
   ]
  },
  {
   "cell_type": "code",
   "execution_count": null,
   "id": "25c33c8e",
   "metadata": {},
   "outputs": [],
   "source": [
    "import pytorch_lightning as pl\n",
    "import torch \n",
    "import torch.nn as nn \n",
    "\n",
    "from torchmetrics import __version__ as torchmetrics_version\n",
    "from pkg_resources import parse_version\n",
    "\n",
    "from torchmetrics import Accuracy"
   ]
  },
  {
   "cell_type": "code",
   "execution_count": null,
   "id": "9c4d84a9",
   "metadata": {},
   "outputs": [],
   "source": [
    "class MultiLayerPerceptron(pl.LightningModule):\n",
    "    def __init__(self, image_shape=(1, 28, 28), hidden_units=(32, 16)):\n",
    "        super().__init__()\n",
    "        \n",
    "        # new PL attributes:\n",
    "        \n",
    "        if parse_version(torchmetrics_version) > parse_version(\"0.8\"):\n",
    "            self.train_acc = Accuracy(task=\"multiclass\", num_classes=10)\n",
    "            self.valid_acc = Accuracy(task=\"multiclass\", num_classes=10)\n",
    "            self.test_acc = Accuracy(task=\"multiclass\", num_classes=10)\n",
    "        else:\n",
    "            self.train_acc = Accuracy()\n",
    "            self.valid_acc = Accuracy()\n",
    "            self.test_acc = Accuracy()\n",
    "        \n",
    "        # Model similar to previous section:\n",
    "        input_size = image_shape[0] * image_shape[1] * image_shape[2] \n",
    "        all_layers = [nn.Flatten()]\n",
    "        for hidden_unit in hidden_units: \n",
    "            layer = nn.Linear(input_size, hidden_unit) \n",
    "            all_layers.append(layer) \n",
    "            all_layers.append(nn.ReLU()) \n",
    "            input_size = hidden_unit \n",
    " \n",
    "        all_layers.append(nn.Linear(hidden_units[-1], 10)) \n",
    "        self.model = nn.Sequential(*all_layers)\n",
    "\n",
    "    def forward(self, x):\n",
    "        x = self.model(x)\n",
    "        return x\n",
    "\n",
    "    def training_step(self, batch, batch_idx):\n",
    "        x, y = batch\n",
    "        logits = self(x)\n",
    "        loss = nn.functional.cross_entropy(logits, y)\n",
    "        preds = torch.argmax(logits, dim=1)\n",
    "        self.train_acc.update(preds, y)\n",
    "        self.log(\"train_loss\", loss, prog_bar=True)\n",
    "        return loss\n",
    "\n",
    "    def training_epoch_end(self, outs):\n",
    "        self.log(\"train_acc\", self.train_acc.compute())\n",
    "        self.train_acc.reset()\n",
    "    \n",
    "    def validation_step(self, batch, batch_idx):\n",
    "        x, y = batch\n",
    "        logits = self(x)\n",
    "        loss = nn.functional.cross_entropy(logits, y)\n",
    "        preds = torch.argmax(logits, dim=1)\n",
    "        self.valid_acc.update(preds, y)\n",
    "        self.log(\"valid_loss\", loss, prog_bar=True)\n",
    "        return loss\n",
    "    \n",
    "    def validation_epoch_end(self, outs):\n",
    "        self.log(\"valid_acc\", self.valid_acc.compute(), prog_bar=True)\n",
    "        self.valid_acc.reset()\n",
    "\n",
    "    def test_step(self, batch, batch_idx):\n",
    "        x, y = batch\n",
    "        logits = self(x)\n",
    "        loss = nn.functional.cross_entropy(logits, y)\n",
    "        preds = torch.argmax(logits, dim=1)\n",
    "        self.test_acc.update(preds, y)\n",
    "        self.log(\"test_loss\", loss, prog_bar=True)\n",
    "        self.log(\"test_acc\", self.test_acc.compute(), prog_bar=True)\n",
    "        return loss\n",
    "\n",
    "    def configure_optimizers(self):\n",
    "        optimizer = torch.optim.Adam(self.parameters(), lr=0.001)\n",
    "        return optimizer"
   ]
  },
  {
   "cell_type": "markdown",
   "id": "05077828",
   "metadata": {},
   "source": [
    "### Setting up the data loaders"
   ]
  },
  {
   "cell_type": "code",
   "execution_count": null,
   "id": "d425db45",
   "metadata": {},
   "outputs": [],
   "source": [
    "from torch.utils.data import DataLoader\n",
    "from torch.utils.data import random_split\n",
    " \n",
    "from torchvision.datasets import MNIST\n",
    "from torchvision import transforms"
   ]
  },
  {
   "cell_type": "code",
   "execution_count": null,
   "id": "15878ed0",
   "metadata": {},
   "outputs": [],
   "source": [
    "class MnistDataModule(pl.LightningDataModule):\n",
    "    def __init__(self, data_path='./'):\n",
    "        super().__init__()\n",
    "        self.data_path = data_path\n",
    "        self.transform = transforms.Compose([transforms.ToTensor()])\n",
    "        \n",
    "    def prepare_data(self):\n",
    "        MNIST(root=self.data_path, download=True) \n",
    "\n",
    "    def setup(self, stage=None):\n",
    "        # stage is either 'fit', 'validate', 'test', or 'predict'\n",
    "        # here note relevant\n",
    "        mnist_all = MNIST( \n",
    "            root=self.data_path,\n",
    "            train=True,\n",
    "            transform=self.transform,  \n",
    "            download=False\n",
    "        ) \n",
    "\n",
    "        self.train, self.val = random_split(\n",
    "            mnist_all, [55000, 5000], generator=torch.Generator().manual_seed(1)\n",
    "        )\n",
    "\n",
    "        self.test = MNIST( \n",
    "            root=self.data_path,\n",
    "            train=False,\n",
    "            transform=self.transform,  \n",
    "            download=False\n",
    "        ) \n",
    "\n",
    "    def train_dataloader(self):\n",
    "        return DataLoader(self.train, batch_size=64, num_workers=4)\n",
    "\n",
    "    def val_dataloader(self):\n",
    "        return DataLoader(self.val, batch_size=64, num_workers=4)\n",
    "\n",
    "    def test_dataloader(self):\n",
    "        return DataLoader(self.test, batch_size=64, num_workers=4)\n",
    "    \n",
    "    \n",
    "torch.manual_seed(1) \n",
    "mnist_dm = MnistDataModule()"
   ]
  },
  {
   "cell_type": "markdown",
   "id": "f02630e2",
   "metadata": {},
   "source": [
    "### Training the model using the PyTorch Lightning Trainer class"
   ]
  },
  {
   "cell_type": "code",
   "execution_count": null,
   "id": "0e74ca1d",
   "metadata": {},
   "outputs": [],
   "source": [
    "from pytorch_lightning.callbacks import ModelCheckpoint\n",
    "\n",
    "\n",
    "mnistclassifier = MultiLayerPerceptron()\n",
    "\n",
    "callbacks = [ModelCheckpoint(save_top_k=1, mode='max', monitor=\"valid_acc\")] # save top 1 model\n",
    "\n",
    "if torch.cuda.is_available(): # if you have GPUs\n",
    "    trainer = pl.Trainer(max_epochs=10, callbacks=callbacks, gpus=1)\n",
    "else:\n",
    "    trainer = pl.Trainer(max_epochs=10, callbacks=callbacks)\n",
    "\n",
    "trainer.fit(model=mnistclassifier, datamodule=mnist_dm)"
   ]
  },
  {
   "cell_type": "markdown",
   "id": "5f57fecb",
   "metadata": {},
   "source": [
    "### Evaluating the model using TensorBoard"
   ]
  },
  {
   "cell_type": "code",
   "execution_count": null,
   "id": "b58db4a8",
   "metadata": {},
   "outputs": [],
   "source": [
    "trainer.test(model=mnistclassifier, datamodule=mnist_dm, ckpt_path='best')"
   ]
  },
  {
   "cell_type": "code",
   "execution_count": null,
   "id": "19911b5d",
   "metadata": {},
   "outputs": [],
   "source": [
    "# * from IPython.display\n",
    "# Import from the display submodule of the IPython package. This module is designed to display \n",
    "# and render different types of data within interactive environments, such as Jupyter Notebooks.\n",
    "# * import Image\n",
    "# Import the Image class from the display module. The Image class is used to display \n",
    "# images in the interactive environment (for example, in a Jupyter Notebook cell).\n",
    "\n",
    "from IPython.display import Image\n",
    "\n",
    "# * Image(...)\n",
    "# Use the Image class (probably imported from IPython.display, as in the previous example) \n",
    "# to display an image in an interactive environment such as Jupyter Notebook.\n",
    "# * filename='./figures/13_09.png'\n",
    "# Specifies the path of the image to display. In this case, the image is located in the\n",
    "# file './figures/13_09.png', which is a relative path to the current directory.\n",
    "\n",
    "Image(filename='figures/13_09.png') "
   ]
  },
  {
   "cell_type": "code",
   "execution_count": null,
   "id": "a482c6ad",
   "metadata": {},
   "outputs": [],
   "source": [
    "# Start tensorboard\n",
    "%load_ext tensorboard\n",
    "%tensorboard --logdir lightning_logs/"
   ]
  },
  {
   "cell_type": "code",
   "execution_count": null,
   "id": "30675659",
   "metadata": {},
   "outputs": [],
   "source": [
    "# * Image(...)\n",
    "# Use the Image class (probably imported from IPython.display, as in the previous example) \n",
    "# to display an image in an interactive environment such as Jupyter Notebook.\n",
    "# * filename='./figures/13_10.png'\n",
    "# Specifies the path of the image to display. In this case, the image is located in the\n",
    "# file './figures/13_10.png', which is a relative path to the current directory.\n",
    "\n",
    "Image(filename='figures/13_10.png') "
   ]
  },
  {
   "cell_type": "code",
   "execution_count": null,
   "id": "53bc8027",
   "metadata": {},
   "outputs": [],
   "source": [
    "path = 'lightning_logs/version_0/checkpoints/epoch=8-step=7739.ckpt'\n",
    "\n",
    "if torch.cuda.is_available(): # if you have GPUs\n",
    "    trainer = pl.Trainer(\n",
    "        max_epochs=15, callbacks=callbacks, resume_from_checkpoint=path, gpus=1\n",
    "    )\n",
    "else:\n",
    "    trainer = pl.Trainer(\n",
    "        max_epochs=15, callbacks=callbacks, resume_from_checkpoint=path\n",
    "    )\n",
    "\n",
    "trainer.fit(model=mnistclassifier, datamodule=mnist_dm)"
   ]
  },
  {
   "cell_type": "code",
   "execution_count": null,
   "id": "5100164a",
   "metadata": {},
   "outputs": [],
   "source": [
    "# * from IPython.display\n",
    "# Import from the display submodule of the IPython package. This module is designed to display \n",
    "# and render different types of data within interactive environments, such as Jupyter Notebooks.\n",
    "# * import Image\n",
    "# Import the Image class from the display module. The Image class is used to display \n",
    "# images in the interactive environment (for example, in a Jupyter Notebook cell).\n",
    "\n",
    "from IPython.display import Image\n",
    "\n",
    "# * Image(...)\n",
    "# Use the Image class (probably imported from IPython.display, as in the previous example) \n",
    "# to display an image in an interactive environment such as Jupyter Notebook.\n",
    "# * filename='./figures/13_11.png'\n",
    "# Specifies the path of the image to display. In this case, the image is located in the\n",
    "# file './figures/13_11.png', which is a relative path to the current directory.\n",
    "\n",
    "Image(filename='figures/13_11.png') "
   ]
  },
  {
   "cell_type": "code",
   "execution_count": null,
   "id": "6250f819",
   "metadata": {},
   "outputs": [],
   "source": [
    "%tensorboard --logdir lightning_logs/"
   ]
  },
  {
   "cell_type": "code",
   "execution_count": null,
   "id": "6649887c",
   "metadata": {},
   "outputs": [],
   "source": [
    "trainer.test(model=mnistclassifier, datamodule=mnist_dm)"
   ]
  },
  {
   "cell_type": "code",
   "execution_count": null,
   "id": "7e828950",
   "metadata": {},
   "outputs": [],
   "source": [
    "trainer.test(model=mnistclassifier, datamodule=mnist_dm, ckpt_path='best')"
   ]
  },
  {
   "cell_type": "code",
   "execution_count": null,
   "id": "cb35f015",
   "metadata": {},
   "outputs": [],
   "source": [
    "path = \"lightning_logs/version_0/checkpoints/epoch=13-step=12039.ckpt\"\n",
    "model = MultiLayerPerceptron.load_from_checkpoint(path)"
   ]
  },
  {
   "cell_type": "markdown",
   "id": "115eda85",
   "metadata": {},
   "source": [
    "## Summary"
   ]
  },
  {
   "cell_type": "markdown",
   "id": "052a0344",
   "metadata": {},
   "source": [
    "---\n",
    "\n",
    "Readers may ignore the next cell."
   ]
  },
  {
   "cell_type": "code",
   "execution_count": null,
   "id": "844a218f",
   "metadata": {},
   "outputs": [],
   "source": [
    "# Run a command in the terminal from a Python environment (such as a Jupyter Notebook or a \n",
    "# script that allows system commands to convert a Jupyter notebook to a file Python script. \n",
    "# * !\n",
    "# This symbol is used in environments such as Jupyter Notebooks to execute system commands \n",
    "# operational directly from the notebook. In this case, the command is an execution of a \n",
    "# Python Script.\n",
    "# * python ../.convert_notebook_to_script.py\n",
    "# This command runs a Python script called convert_notebook_to_script.py. This file \n",
    "# is located in the previous directory (../ indicates that it is one level up in the system \n",
    "# files). The purpose of this script is to convert a Jupyter notebook (.ipynb) into a \n",
    "# Python script file (.py).\n",
    "# * --input ch13_part3_lightning.ipynb\n",
    "# This is an option or argument that tells the script what the input file is, in this \n",
    "# case, the notebook ch13_part3_lightning.ipynb.\n",
    "# * --output ch13_part3_lightning.py\n",
    "# This option tells the script to save the output (the converted file) with the name\n",
    "# ch13_part3_lightning.py, which is a Python script.\n",
    "\n",
    "! python ../.convert_notebook_to_script.py --input ch13_part3_lightning.ipynb --output ch13_part3_lightning.py"
   ]
  }
 ],
 "metadata": {
  "kernelspec": {
   "display_name": "Python 3 (ipykernel)",
   "language": "python",
   "name": "python3"
  },
  "language_info": {
   "codemirror_mode": {
    "name": "ipython",
    "version": 3
   },
   "file_extension": ".py",
   "mimetype": "text/x-python",
   "name": "python",
   "nbconvert_exporter": "python",
   "pygments_lexer": "ipython3",
   "version": "3.10.6"
  }
 },
 "nbformat": 4,
 "nbformat_minor": 5
}
