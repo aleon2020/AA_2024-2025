{
 "cells": [
  {
   "cell_type": "markdown",
   "id": "af5177e2-cd8b-4eb3-b175-ccde2809bc93",
   "metadata": {
    "tags": []
   },
   "source": [
    "# Machine Learning with PyTorch and Scikit-Learn  \n",
    "# -- Code Examples"
   ]
  },
  {
   "cell_type": "markdown",
   "id": "eaed5d23-1f69-4ef6-96ac-328e0b464400",
   "metadata": {},
   "source": [
    "## Package version checks"
   ]
  },
  {
   "cell_type": "markdown",
   "id": "34c74f6a-16ea-49ae-ae40-695d79a9b0f3",
   "metadata": {},
   "source": [
    "Add folder to path in order to load from the check_packages.py script:"
   ]
  },
  {
   "cell_type": "code",
   "execution_count": null,
   "id": "0e488739-f8ab-4fb5-8790-5bb90b89ad25",
   "metadata": {},
   "outputs": [],
   "source": [
    "# * import sys\n",
    "# Import the sys module, which is a Python standard library module.\n",
    "# This module provides access to variables and functions that interact strongly with the\n",
    "# Python interpreter, such as manipulating module search path and input/output\n",
    "# standard, among others.\n",
    "# * sys.path\n",
    "# It is a list containing the paths in which the Python interpreter looks for modules when\n",
    "# you use import. When you try to import a module, Python searches the paths specified in this\n",
    "# list.\n",
    "# * sys.path.insert(0, '..')\n",
    "# Insert the path '..' (representing the parent directory) at the beginning of the sys.path list.\n",
    "# Adding it in position 0 ensures that when Python looks for modules to import,\n",
    "# first check in the parent directory before continuing with the default paths.\n",
    "\n",
    "import sys\n",
    "sys.path.insert(0, '..')"
   ]
  },
  {
   "cell_type": "markdown",
   "id": "f550fbd0-78ec-4913-84e2-aef8c51bffed",
   "metadata": {},
   "source": [
    "Check recommended package versions:"
   ]
  },
  {
   "cell_type": "code",
   "execution_count": null,
   "id": "50c6fe8e-e56c-40e3-ae21-07c57872e2ac",
   "metadata": {},
   "outputs": [],
   "source": [
    "# * from python_environment_check import check_packages\n",
    "# Import the check_packages function from the python_environment_check module. \n",
    "# This module, from its name, appears to be designed to verify that the Python environment \n",
    "# have the correct versions of certain packages installed.\n",
    "# * d = {...}\n",
    "# Defines a dictionary d that contains the names of several packages as keys \n",
    "# (e.g. numpy, scipy, matplotlib, etc.) and as values ​​the minimum versions \n",
    "# required from those packages.\n",
    "# * check_packages(d)\n",
    "# The check_packages function takes as input the dictionary d and probably performs a \n",
    "# check on current Python environment to ensure installed versions \n",
    "# of these packages are at least those specified in the dictionary. If any of the packages \n",
    "# is not installed or has the wrong version, the function may throw an error or \n",
    "# suggest installing/updating the packages.\n",
    "\n",
    "from python_environment_check import check_packages\n",
    "d = {\n",
    "    'numpy': '1.21.2',\n",
    "    'matplotlib': '3.4.3',\n",
    "    'sklearn': '1.0',\n",
    "}\n",
    "check_packages(d)"
   ]
  },
  {
   "cell_type": "markdown",
   "id": "b65f2a05",
   "metadata": {
    "tags": []
   },
   "source": [
    "# Chapter 13: Going Deeper -- the Mechanics of PyTorch"
   ]
  },
  {
   "cell_type": "markdown",
   "id": "1ae32129-b9f5-4edf-bb04-6640c2da522b",
   "metadata": {},
   "source": [
    "**Big thanks and credit to Victor Fomin for creating and helping with the original draft of this section!**"
   ]
  },
  {
   "cell_type": "markdown",
   "id": "ddec26f4",
   "metadata": {},
   "source": [
    "## A short introduction to PyTorch-Ignite (Online Bonus Content)"
   ]
  },
  {
   "cell_type": "markdown",
   "id": "df6ab5c2-018c-4aa3-9a26-3e287bef8845",
   "metadata": {},
   "source": [
    "In this section, we will explore PyTorch-Ignite, a library from the PyTorch ecosystem to help with training and evaluating neural networks in PyTorch flexibly and transparently. \n",
    "\n",
    "\n",
    "**Projects using PyTorch-Ignite**\n",
    "\n",
    "\n",
    "There is a list of research papers with code, blog articles, tutorials, toolkits, and other projects that use PyTorch-Ignite. Notable projects include\n",
    "- Medical Open Network for AI (MONAI) (https://monai.io) \n",
    "- Conversational AI with Transfer Learning (https://github.com/huggingface/transfer-learning-conv-ai) \n",
    "If you are interested in more projects using PyTorch-Ignite, please take a look at the detailed project list here: https://github.com/pytorch/ignite#projects-using-ignite\n",
    "\n"
   ]
  },
  {
   "cell_type": "markdown",
   "id": "10233840-52f3-4c62-86f6-10653c54072e",
   "metadata": {},
   "source": [
    "--- \n",
    "\n",
    "As we saw in previous sections, PyTorch training code usually contains two nested for-loops, one iterating over epochs and one iterating over dataset batches. In addition, we evaluate the model on the training and validation set to track the performance during training. In general, we also would like to create training checkpoints (to resume from one in case of an accidental failure); save the best model; use an experiment tracking system to visualize metrics, predictions, and so forth; and perform other basic tasks. These are the kinds of things that PyTorch-Ignite easily handles for the user while keeping PyTorch-like flexibility. In this sense, PyTorch-Ignite aims to simplify the model training process while promoting best practices. \n",
    "\n",
    "In a few words, PyTorch-Ignite provides \n",
    "- An extremely simple engine and event system (training loop abstraction)\n",
    "- Out-of-the-box metrics to easily evaluate models\n",
    "- Built-in handlers to compose training pipelines, save artifacts, and log parameters and metrics\n",
    "- Distributed training support\n",
    "\n",
    "Additional benefits of using PyTorch-Ignite are \n",
    "- Less code than pure PyTorch while ensuring maximum control and simplicity\n",
    "- More modular code\n",
    "In this section, we will build and train again a classifier for the MNIST dataset that we worked with in the previous section.\n"
   ]
  },
  {
   "cell_type": "markdown",
   "id": "df3d5ebf-f5ed-4b7b-9252-a9e38a03c22a",
   "metadata": {},
   "source": [
    "--- \n",
    "\n",
    "**Installing PyTorch-Ignite**\n",
    "\n",
    "The code in the following subsections is based on PyTorch-Ignite version 0.4.6. PyTorch-Ignite can be installed via pip or conda, depending on your preference. For instance, the command for installing PyTorch ignite via pip is as follows:\n",
    "\n",
    "    pip install pytorch-ignite\n",
    "\n",
    "Below, you can find the command for installing PyTorch-Ignite via conda:\n",
    " \n",
    "    conda install ignite -c pytorch\n",
    "\n",
    "For the latest information on installing PyTorch-Ignite, please visit the official documentation at https://pytorch.org/ignite/#installation."
   ]
  },
  {
   "cell_type": "markdown",
   "id": "7722db5f",
   "metadata": {},
   "source": [
    "### Setting up the PyTorch model"
   ]
  },
  {
   "cell_type": "markdown",
   "id": "8b993ca1-d535-4431-af4e-7fd8d0f0a6c1",
   "metadata": {},
   "source": [
    "First, to set the stage, we will repeat Steps 1, 2, and 3 from the section *Project two - classifying MNIST handwritten digits with minor restructuring*. We define the model, training, and validation datasets, optimizer, and loss function: "
   ]
  },
  {
   "cell_type": "code",
   "execution_count": null,
   "id": "220a5ea0",
   "metadata": {},
   "outputs": [],
   "source": [
    "import torch \n",
    "import torch.nn as nn \n",
    "from torch.utils.data import DataLoader \n",
    " \n",
    "from torchvision.datasets import MNIST \n",
    "from torchvision import transforms\n",
    " \n",
    " \n",
    "image_path = './' \n",
    "torch.manual_seed(1) \n",
    " \n",
    "transform = transforms.Compose([ \n",
    "    transforms.ToTensor() \n",
    "]) \n",
    " \n",
    " \n",
    "mnist_train_dataset = MNIST( \n",
    "    root=image_path,  \n",
    "    train=True,\n",
    "    transform=transform,  \n",
    "    download=True\n",
    ") \n",
    " \n",
    "mnist_val_dataset = MNIST( \n",
    "    root=image_path,  \n",
    "    train=False,  \n",
    "    transform=transform,  \n",
    "    download=False \n",
    ") \n",
    " \n",
    "batch_size = 64\n",
    "train_loader = DataLoader( \n",
    "    mnist_train_dataset, batch_size, shuffle=True \n",
    ") \n",
    " \n",
    "val_loader = DataLoader( \n",
    "    mnist_val_dataset, batch_size, shuffle=False \n",
    ") \n",
    " \n",
    " \n",
    "def get_model(image_shape=(1, 28, 28), hidden_units=(32, 16)): \n",
    "    input_size = image_shape[0] * image_shape[1] * image_shape[2] \n",
    "    all_layers = [nn.Flatten()]\n",
    "    for hidden_unit in hidden_units: \n",
    "        layer = nn.Linear(input_size, hidden_unit) \n",
    "        all_layers.append(layer) \n",
    "        all_layers.append(nn.ReLU()) \n",
    "        input_size = hidden_unit \n",
    " \n",
    "    all_layers.append(nn.Linear(hidden_units[-1], 10)) \n",
    "    all_layers.append(nn.Softmax(dim=1)) \n",
    "    model = nn.Sequential(*all_layers)\n",
    "    return model \n",
    " \n",
    " \n",
    "device = \"cuda\" if torch.cuda.is_available() else \"cpu\"\n",
    " \n",
    "model = get_model().to(device)\n",
    "loss_fn = nn.CrossEntropyLoss()\n",
    "optimizer = torch.optim.Adam(model.parameters(), lr=0.001)"
   ]
  },
  {
   "cell_type": "markdown",
   "id": "7207c627-4559-4fe2-bccf-826394c7ead7",
   "metadata": {},
   "source": [
    "As you can see, the code above only relies on PyTorch concepts we that we already introduced previously. Via the `get_model()` function, we define a reusable function to conveniently create a multilayer perceptron with a user-defined number of hidden layers, where each hidden layer is followed by a ReLU activation. The output layer is followed by a Softmax layer.\n",
    "\n",
    "Note that the MNIST dataset does not have a pre-defined validation set split. For simplicity, we assigned the test dataset as the validation set for simplicity. However, if we use the validation set for model selection, it does not provide an unbiased estimate of the model's performance."
   ]
  },
  {
   "cell_type": "markdown",
   "id": "99dcabd0",
   "metadata": {},
   "source": [
    "### Setting up training and validation engines with PyTorch-Ignite"
   ]
  },
  {
   "cell_type": "markdown",
   "id": "29a2c594-a796-4621-b600-38c9388bc0e9",
   "metadata": {},
   "source": [
    "When we are done setting up the most important parts, PyTorch-Ignite will handle all other boilerplate code. Next, we have to define a trainer engine by passing our model, optimizer, and loss function to the `ignite.engine.create_supervised_trainer()` function for creating a trainer object that is used to train supervised models conveniently (https://pytorch.org/ignite/generated/ignite.engine.create_supervised_trainer.html). In addition, we create an *evaluator* engine by passing PyTorch-Ignite’s out-of-the-box metrics and the model to the `ignite.engine.create_supervised_evaluator()` function (https://pytorch.org/ignite/generated/ignite.engine.create_supervised_evaluator.html#create-supervised-evaluator): "
   ]
  },
  {
   "cell_type": "code",
   "execution_count": null,
   "id": "c972bfa2",
   "metadata": {},
   "outputs": [],
   "source": [
    "from ignite.engine import Events, create_supervised_trainer, create_supervised_evaluator\n",
    "from ignite.metrics import Accuracy, Loss\n",
    " \n",
    " \n",
    "trainer = create_supervised_trainer(\n",
    "    model, optimizer, loss_fn, device=device\n",
    ")\n",
    " \n",
    "val_metrics = {\n",
    "    \"accuracy\": Accuracy(),\n",
    "    \"loss\": Loss(loss_fn)\n",
    "}\n",
    " \n",
    "evaluator = create_supervised_evaluator(\n",
    "    model, metrics=val_metrics, device=device\n",
    ")"
   ]
  },
  {
   "cell_type": "markdown",
   "id": "18d21eb8-0825-4f7f-813b-0f0f5f3f6131",
   "metadata": {},
   "source": [
    "Both the `trainer` and `evaluator` objects are instances of the `Engine` class (https://pytorch.org/ignite/generated/ignite.engine.engine.Engine.html#ignite.engine.engine.Engine), which is one of the core components of PyTorch-Ignite. It is essentially an abstraction over the training or validation loops."
   ]
  },
  {
   "cell_type": "markdown",
   "id": "aa17c608",
   "metadata": {},
   "source": [
    "### Creating event handlers for logging and validation"
   ]
  },
  {
   "cell_type": "markdown",
   "id": "f7cf3cdc-7a35-4a7a-8d36-6feaca029a85",
   "metadata": {},
   "source": [
    "We can customize the code further by adding all kinds of event handlers. `Engine` allows adding handlers for various events that are triggered during the run. When an event is triggered, the attached handlers (functions) are executed. Thus, for logging purposes, we add a function that will be executed at the end of every `log_interval` iteration:"
   ]
  },
  {
   "cell_type": "code",
   "execution_count": null,
   "id": "0edafc78",
   "metadata": {},
   "outputs": [],
   "source": [
    "# How many batches to wait before logging training status\n",
    "log_interval = 100\n",
    " \n",
    "@trainer.on(Events.ITERATION_COMPLETED(every=log_interval))\n",
    "def log_training_loss():\n",
    "    e = trainer.state.epoch\n",
    "    max_e = trainer.state.max_epochs\n",
    "    i = trainer.state.iteration\n",
    "    batch_loss = trainer.state.output\n",
    "    print(f\"Epoch[{e}/{max_e}], Iter[{i}] Loss: {batch_loss:.2f}\")"
   ]
  },
  {
   "cell_type": "markdown",
   "id": "52219744-e34e-4b97-885c-c19ec0e2cd4b",
   "metadata": {},
   "source": [
    "Or, equivalently, without the decorator, we can attach the handler function to the trainer via an `add_event_handler()` call (https://pytorch.org/ignite/generated/ignite.engine.engine.Engine.html#ignite.engine.engine.Engine.add_event_handler).\n",
    "\n",
    "Similar to creating an event handler for logging the training status that we created above, we can create an event handler for computing validation metrics after each epoch.\n",
    "Via the following code, we will run the `evaluator` on the validation set data loader, `val_loader`, when an epoch completes:"
   ]
  },
  {
   "cell_type": "code",
   "execution_count": null,
   "id": "1944b444",
   "metadata": {},
   "outputs": [],
   "source": [
    "@trainer.on(Events.EPOCH_COMPLETED)\n",
    "def log_validation_results():\n",
    "    eval_state = evaluator.run(val_loader)\n",
    "    metrics = eval_state.metrics\n",
    "    e = trainer.state.epoch\n",
    "    max_e = trainer.state.max_epochs\n",
    "    acc = metrics['accuracy']\n",
    "    avg_loss = metrics['loss']\n",
    "    print(f\"Validation Results - Epoch[{e}/{max_e}] Avg Accuracy: {acc:.2f} Avg Loss: {avg_loss:.2f}\")"
   ]
  },
  {
   "cell_type": "markdown",
   "id": "11b8cdfa",
   "metadata": {},
   "source": [
    "### Setting up training checkpoints and saving the best model"
   ]
  },
  {
   "cell_type": "markdown",
   "id": "773a23a4-6536-47d5-8710-05bb1407d2c5",
   "metadata": {},
   "source": [
    "It is a common practice to save the trainer, model, optimizer, and other related objects during the training process. This allows us to resume the model training from the checkpoint in case of an accidental training interruption. We will use an out-of-the-box PyTorch-Ignite handler to set up a training checkpointing for each epoch:"
   ]
  },
  {
   "cell_type": "code",
   "execution_count": null,
   "id": "e451c03b",
   "metadata": {},
   "outputs": [],
   "source": [
    "from ignite.handlers import Checkpoint, DiskSaver\n",
    " \n",
    "# We will save in the checkpoint the following:\n",
    "to_save = {\"model\": model, \"optimizer\": optimizer, \"trainer\": trainer}\n",
    " \n",
    "# We will save checkpoints to the local disk\n",
    "output_path = \"./output\"\n",
    "save_handler = DiskSaver(dirname=output_path, require_empty=False)\n",
    " \n",
    "# Set up the handler:\n",
    "checkpoint_handler = Checkpoint(\n",
    "    to_save, save_handler, filename_prefix=\"training\")\n",
    "\n",
    "# Attach the handler to the trainer\n",
    "trainer.add_event_handler(Events.EPOCH_COMPLETED, checkpoint_handler)"
   ]
  },
  {
   "cell_type": "markdown",
   "id": "73af287b-77b3-43d5-b47d-e9add713d991",
   "metadata": {},
   "source": [
    "Via the code above, we created a `Checkpoint` object (https://pytorch.org/ignite/generated/ignite.handlers.checkpoint.Checkpoint.html#ignite.handlers.checkpoint.Checkpoint), which allows us to save and load a model later.\n",
    "\n",
    "Besides saving models to be able to resume an interrupted training run, we are primarily interested in saving the best model, for example, for making predictions later during the inference stage. We can then load a saved model via `torch.load` as explained in the section Saving and reloading the trained model in *Chapter 12, Parallelizing Neural Network Training with PyTorch*.\n",
    "\n",
    "Usually, the best model is determined by the value of a validation metric. We will use the same handler, `Checkpoint`, to save the best model according to the highest validation accuracy:"
   ]
  },
  {
   "cell_type": "code",
   "execution_count": null,
   "id": "e3c8def7",
   "metadata": {},
   "outputs": [],
   "source": [
    "# Store best model by validation accuracy\n",
    "best_model_handler = Checkpoint(\n",
    "    {\"model\": model},\n",
    "    save_handler,\n",
    "    filename_prefix=\"best\",\n",
    "    n_saved=1,\n",
    "    score_name=\"accuracy\",\n",
    "    score_function=Checkpoint.get_default_score_fn(\"accuracy\"),\n",
    ")\n",
    " \n",
    "evaluator.add_event_handler(Events.COMPLETED, best_model_handler)"
   ]
  },
  {
   "cell_type": "markdown",
   "id": "7092b069",
   "metadata": {},
   "source": [
    "### Setting up TensorBoard as an experiment tracking system"
   ]
  },
  {
   "cell_type": "markdown",
   "id": "0bdcedf6-b4ed-4172-843e-676ca8b65d1e",
   "metadata": {},
   "source": [
    "When running training with different configurations, another common practice is to use an experiment tracking system, for example, TensorBoard, to log parameters and metrics and to compare experiments. We will use the `TensorboardLogger` (https://pytorch.org/ignite/generated/ignite.contrib.handlers.tensorboard_logger.html#ignite.contrib.handlers.tensorboard_logger.TensorboardLogger) to log the trainer's loss and validation metrics:"
   ]
  },
  {
   "cell_type": "code",
   "execution_count": null,
   "id": "9dc0368b",
   "metadata": {},
   "outputs": [],
   "source": [
    "from ignite.contrib.handlers import TensorboardLogger, global_step_from_engine\n",
    " \n",
    " \n",
    "tb_logger = TensorboardLogger(log_dir=output_path)\n",
    " \n",
    "# Attach handler to plot trainer's loss every 100 iterations\n",
    "tb_logger.attach_output_handler(\n",
    "    trainer,\n",
    "    event_name=Events.ITERATION_COMPLETED(every=100),\n",
    "    tag=\"training\",\n",
    "    output_transform=lambda loss: {\"batch_loss\": loss},\n",
    ")\n",
    " \n",
    "# Attach handler for plotting both evaluators' metrics after every epoch completes\n",
    "tb_logger.attach_output_handler(\n",
    "    evaluator,\n",
    "    event_name=Events.EPOCH_COMPLETED,\n",
    "    tag=\"validation\",\n",
    "    metric_names=\"all\",\n",
    "    global_step_transform=global_step_from_engine(trainer),\n",
    ")"
   ]
  },
  {
   "cell_type": "markdown",
   "id": "ad26fb6b",
   "metadata": {},
   "source": [
    "### Executing the PyTorch-Ignite model training code"
   ]
  },
  {
   "cell_type": "markdown",
   "id": "4216f020-b381-4880-8a00-dcb01a66524f",
   "metadata": {},
   "source": [
    "The trainer is now set up and ready to be executed. Let’s train the model for five epochs via the `run()` method:"
   ]
  },
  {
   "cell_type": "code",
   "execution_count": null,
   "id": "7f4d38cf",
   "metadata": {},
   "outputs": [],
   "source": [
    "trainer.run(train_loader, max_epochs=5)"
   ]
  },
  {
   "cell_type": "markdown",
   "id": "9a0ba62e-6d9c-4dfd-a679-d67ca16edb23",
   "metadata": {},
   "source": [
    "We can start TensorBoard server with\n",
    "    tensorboard --logdir='./output'\n",
    "and display the dashboard in the browser:\n"
   ]
  },
  {
   "cell_type": "code",
   "execution_count": null,
   "id": "6dd9e080-f294-4314-ac8d-e023d4274d97",
   "metadata": {},
   "outputs": [],
   "source": [
    "# * from IPython.display\n",
    "# Import from the display submodule of the IPython package. This module is designed to display \n",
    "# and render different types of data within interactive environments, such as Jupyter Notebooks.\n",
    "# * import Image\n",
    "# Import the Image class from the display module. The Image class is used to display \n",
    "# images in the interactive environment (for example, in a Jupyter Notebook cell).\n",
    "\n",
    "from IPython.display import Image\n",
    "\n",
    "# * Image(...)\n",
    "# Use the Image class (probably imported from IPython.display, as in the previous example) \n",
    "# to display an image in an interactive environment such as Jupyter Notebook.\n",
    "# * filename='./figures/ignite-01.png'\n",
    "# Specifies the path of the image to display. In this case, the image is located in the\n",
    "# file './figures/ignite-01.png', which is a relative path to the current directory.\n",
    "\n",
    "Image(filename='figures/ignite-01.png') "
   ]
  },
  {
   "cell_type": "markdown",
   "id": "f0a89d55-d4a9-4086-b285-0d346641b240",
   "metadata": {},
   "source": [
    "---\n",
    "\n",
    "**Next steps with PyTorch-Ignite**\n",
    "\n",
    "To learn more about PyTorch-Ignite, please check out the official website containing and tutorials and how-to guides at https://pytorch-ignite.ai.\n",
    "\n",
    "Among others, the website also includes a handy PyTorch-Ignite code-generator application (https://code-generator.pytorch-ignite.ai/) so you can start working on tasks without rewriting everything from scratch.\n",
    "\n",
    "PyTorch-Ignite's code is available on GitHub: https://github.com/pytorch/ignite. The project is a community effort, and everyone is welcome to contribute and join the contributors’ community no matter your background and skills!\n",
    "\n",
    "\n",
    "---"
   ]
  },
  {
   "cell_type": "markdown",
   "id": "c6ef1aa3",
   "metadata": {},
   "source": [
    "# Summary"
   ]
  },
  {
   "cell_type": "markdown",
   "id": "523acf34",
   "metadata": {},
   "source": [
    "---\n",
    "\n",
    "Readers may ignore the next cell."
   ]
  },
  {
   "cell_type": "code",
   "execution_count": null,
   "id": "29befadd",
   "metadata": {},
   "outputs": [],
   "source": [
    "# Run a command in the terminal from a Python environment (such as a Jupyter Notebook or a \n",
    "# script that allows system commands to convert a Jupyter notebook to a file Python script. \n",
    "# * !\n",
    "# This symbol is used in environments such as Jupyter Notebooks to execute system commands \n",
    "# operational directly from the notebook. In this case, the command is an execution of a \n",
    "# Python Script.\n",
    "# * python ../.convert_notebook_to_script.py\n",
    "# This command runs a Python script called convert_notebook_to_script.py. This file \n",
    "# is located in the previous directory (../ indicates that it is one level up in the system \n",
    "# files). The purpose of this script is to convert a Jupyter notebook (.ipynb) into a \n",
    "# Python script file (.py).\n",
    "# * --input ch13_part4_ignite.ipynb\n",
    "# This is an option or argument that tells the script what the input file is, in this \n",
    "# case, the notebook ch13_part4_ignite.ipynb.\n",
    "# * --output ch13_part4_ignite.py\n",
    "# This option tells the script to save the output (the converted file) with the name\n",
    "# ch13_part4_ignite.py, which is a Python script.\n",
    "\n",
    "! python ../.convert_notebook_to_script.py --input ch13_part4_ignite.ipynb --output ch13_part4_ignite.py"
   ]
  }
 ],
 "metadata": {
  "kernelspec": {
   "display_name": "Python 3 (ipykernel)",
   "language": "python",
   "name": "python3"
  },
  "language_info": {
   "codemirror_mode": {
    "name": "ipython",
    "version": 3
   },
   "file_extension": ".py",
   "mimetype": "text/x-python",
   "name": "python",
   "nbconvert_exporter": "python",
   "pygments_lexer": "ipython3",
   "version": "3.9.6"
  }
 },
 "nbformat": 4,
 "nbformat_minor": 5
}
